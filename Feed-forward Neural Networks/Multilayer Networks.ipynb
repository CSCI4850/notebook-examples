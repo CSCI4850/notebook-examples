{
 "cells": [
  {
   "cell_type": "markdown",
   "metadata": {},
   "source": [
    "# Multi-Layer Networks\n",
    "\n",
    "Now that we have tried our hand at some single-layer nets, let's see how they _stack up_ compared to multi-layer nets.\n",
    "\n",
    "We will be exploring the basic concepts of learning non-linear functions using the classic XOR problem, and then explore the basics of \"deep learning\" technology on this problem as well. After that, we will see if a multi-layer approach can perform better than single-layer approach on some data sets that we have seen before. In particular, we will try to explore the wider vs. deeper issue, and see if ReLU really helps.\n",
    "\n",
    "For now, let's look into the XOR problem, and see what insights we can gain when comparing single- and multi-layer network approaches."
   ]
  },
  {
   "cell_type": "code",
   "execution_count": 1,
   "metadata": {},
   "outputs": [
    {
     "name": "stderr",
     "output_type": "stream",
     "text": [
      "Using TensorFlow backend.\n"
     ]
    }
   ],
   "source": [
    "# NN-Tools\n",
    "import numpy as np\n",
    "import keras\n",
    "\n",
    "# Visualization\n",
    "from IPython.display import SVG\n",
    "from IPython.display import display\n",
    "from keras.utils.vis_utils import model_to_dot\n",
    "\n",
    "# Printing\n",
    "from sympy import *\n",
    "init_printing(use_latex=True)\n",
    "\n",
    "# Plotting\n",
    "import matplotlib.pyplot as plt\n",
    "%matplotlib inline"
   ]
  },
  {
   "cell_type": "markdown",
   "metadata": {},
   "source": [
    "Let's create the XOR data set. As we mentioned in class, _avoiding zeros_ in the **input** patterns is a good general approach for stable learning behavior."
   ]
  },
  {
   "cell_type": "code",
   "execution_count": 3,
   "metadata": {},
   "outputs": [
    {
     "data": {
      "image/png": "[encoded data removed]",
      "text/latex": [
       "$$\\left[\\begin{matrix}-1 & -1\\\\-1 & 1\\\\1 & -1\\\\1 & 1\\end{matrix}\\right]$$"
      ],
      "text/plain": [
       "⎡-1  -1⎤\n",
       "⎢      ⎥\n",
       "⎢-1  1 ⎥\n",
       "⎢      ⎥\n",
       "⎢1   -1⎥\n",
       "⎢      ⎥\n",
       "⎣1   1 ⎦"
      ]
     },
     "metadata": {},
     "output_type": "display_data"
    },
    {
     "data": {
      "image/png": "[encoded data removed]",
      "text/latex": [
       "$$\\left[\\begin{matrix}0\\\\1\\\\1\\\\0\\end{matrix}\\right]$$"
      ],
      "text/plain": [
       "⎡0⎤\n",
       "⎢ ⎥\n",
       "⎢1⎥\n",
       "⎢ ⎥\n",
       "⎢1⎥\n",
       "⎢ ⎥\n",
       "⎣0⎦"
      ]
     },
     "metadata": {},
     "output_type": "display_data"
    }
   ],
   "source": [
    "# XOR data set\n",
    "X = np.array([[-1,-1],[-1,1],[1,-1],[1,1]])\n",
    "display(Matrix(X))\n",
    "Y = np.array([0,1,1,0])\n",
    "display(Matrix(Y))"
   ]
  },
  {
   "cell_type": "markdown",
   "metadata": {},
   "source": [
    "We are performing a classification task since there are **two discrete targets**, so using **binary cross-entropy** error at the output layer makes sense. Also, binary cross-entropy suggest the **sigmoid** activation function for the **output** unit since it is comparing only two classes. Given that the hyperbolic tangent (tanh) activation function is a decent choice for two-layer networks, let's create a network with a hidden layer consisting of units which use this activation function. Also, we will keep it rather small: just two units."
   ]
  },
  {
   "cell_type": "code",
   "execution_count": 5,
   "metadata": {},
   "outputs": [
    {
     "name": "stdout",
     "output_type": "stream",
     "text": [
      "_________________________________________________________________\n",
      "Layer (type)                 Output Shape              Param #   \n",
      "=================================================================\n",
      "dense_3 (Dense)              (None, 2)                 6         \n",
      "_________________________________________________________________\n",
      "dense_4 (Dense)              (None, 1)                 3         \n",
      "=================================================================\n",
      "Total params: 9\n",
      "Trainable params: 9\n",
      "Non-trainable params: 0\n",
      "_________________________________________________________________\n",
      "None\n"
     ]
    }
   ],
   "source": [
    "# Multi-layer net with tanh hidden layer\n",
    "model = keras.models.Sequential()\n",
    "model.add(keras.layers.Dense(2,input_dim=2,activation='tanh'))\n",
    "model.add(keras.layers.Dense(1,activation='sigmoid'))\n",
    "model.compile(loss='binary_crossentropy',optimizer='adam')\n",
    "print(model.summary())"
   ]
  },
  {
   "cell_type": "markdown",
   "metadata": {},
   "source": [
    "Since the input vectors are of length 2, and the hidden layer is of size 2, there will be a 2x2=4 element weight matrix connecting the input layer to the hidden layer. Also, each hidden unit will have a bias weight (6 weights total so far). The hidden to output layer weight matrix will be 2x1=2, and the output unit has its own bias weight as well (total of 9, altogether)."
   ]
  },
  {
   "cell_type": "code",
   "execution_count": 8,
   "metadata": {},
   "outputs": [
    {
     "data": {
      "image/png": "[encoded data removed]",
      "text/latex": [
       "$$\\left[\\begin{matrix}-0.804906 & 0.0241652\\\\0.222914 & 0.899585\\end{matrix}\\right]$$"
      ],
      "text/plain": [
       "⎡-0.804906  0.0241652⎤\n",
       "⎢                    ⎥\n",
       "⎣0.222914   0.899585 ⎦"
      ]
     },
     "metadata": {},
     "output_type": "display_data"
    },
    {
     "data": {
      "image/png": "[encoded data removed]",
      "text/latex": [
       "$$\\left[\\begin{matrix}0.0\\\\0.0\\end{matrix}\\right]$$"
      ],
      "text/plain": [
       "⎡0.0⎤\n",
       "⎢   ⎥\n",
       "⎣0.0⎦"
      ]
     },
     "metadata": {},
     "output_type": "display_data"
    },
    {
     "data": {
      "image/png": "[encoded data removed]",
      "text/latex": [
       "$$\\left[\\begin{matrix}-0.965288\\\\1.01461\\end{matrix}\\right]$$"
      ],
      "text/plain": [
       "⎡-0.965288⎤\n",
       "⎢         ⎥\n",
       "⎣ 1.01461 ⎦"
      ]
     },
     "metadata": {},
     "output_type": "display_data"
    },
    {
     "data": {
      "image/png": "[encoded data removed]",
      "text/latex": [
       "$$\\left[\\begin{matrix}0.0\\end{matrix}\\right]$$"
      ],
      "text/plain": [
       "[0.0]"
      ]
     },
     "metadata": {},
     "output_type": "display_data"
    }
   ],
   "source": [
    "for i in model.get_weights():\n",
    "    display(Matrix(i))"
   ]
  },
  {
   "cell_type": "markdown",
   "metadata": {},
   "source": [
    "You can see that for tanh units, the bias weight is initialized to zero. We know that zero-element weights can be problematic in some cases, but remember that the bias is **always** used and therefore has access to the full delta for the units. They will only differentiate when required by the task at-hand.\n",
    "\n",
    "If we want a graph-like representation of our network, we can use some functions from `keras.utils.viz_utils` and the `SVD()` function from `IPython.display` to create such a representation:"
   ]
  },
  {
   "cell_type": "code",
   "execution_count": 9,
   "metadata": {},
   "outputs": [
    {
     "data": {
      "image/svg+xml": [
       "<svg height=\"191pt\" viewBox=\"0.00 0.00 171.00 191.00\" width=\"171pt\" xmlns=\"http://www.w3.org/2000/svg\" xmlns:xlink=\"http://www.w3.org/1999/xlink\">\n",
       "<g class=\"graph\" id=\"graph0\" transform=\"scale(1 1) rotate(0) translate(4 187)\">\n",
       "<title>G</title>\n",
       "<polygon fill=\"white\" points=\"-4,4 -4,-187 167,-187 167,4 -4,4\" stroke=\"none\"/>\n",
       "<!-- 140288207356592 -->\n",
       "<g class=\"node\" id=\"node1\"><title>140288207356592</title>\n",
       "<polygon fill=\"none\" points=\"0,-146.5 0,-182.5 163,-182.5 163,-146.5 0,-146.5\" stroke=\"black\"/>\n",
       "<text font-family=\"Times,serif\" font-size=\"14.00\" text-anchor=\"middle\" x=\"81.5\" y=\"-160.8\">dense_3_input: InputLayer</text>\n",
       "</g>\n",
       "<!-- 140288207932216 -->\n",
       "<g class=\"node\" id=\"node2\"><title>140288207932216</title>\n",
       "<polygon fill=\"none\" points=\"30.5,-73.5 30.5,-109.5 132.5,-109.5 132.5,-73.5 30.5,-73.5\" stroke=\"black\"/>\n",
       "<text font-family=\"Times,serif\" font-size=\"14.00\" text-anchor=\"middle\" x=\"81.5\" y=\"-87.8\">dense_3: Dense</text>\n",
       "</g>\n",
       "<!-- 140288207356592&#45;&gt;140288207932216 -->\n",
       "<g class=\"edge\" id=\"edge1\"><title>140288207356592-&gt;140288207932216</title>\n",
       "<path d=\"M81.5,-146.313C81.5,-138.289 81.5,-128.547 81.5,-119.569\" fill=\"none\" stroke=\"black\"/>\n",
       "<polygon fill=\"black\" points=\"85.0001,-119.529 81.5,-109.529 78.0001,-119.529 85.0001,-119.529\" stroke=\"black\"/>\n",
       "</g>\n",
       "<!-- 140288208029456 -->\n",
       "<g class=\"node\" id=\"node3\"><title>140288208029456</title>\n",
       "<polygon fill=\"none\" points=\"30.5,-0.5 30.5,-36.5 132.5,-36.5 132.5,-0.5 30.5,-0.5\" stroke=\"black\"/>\n",
       "<text font-family=\"Times,serif\" font-size=\"14.00\" text-anchor=\"middle\" x=\"81.5\" y=\"-14.8\">dense_4: Dense</text>\n",
       "</g>\n",
       "<!-- 140288207932216&#45;&gt;140288208029456 -->\n",
       "<g class=\"edge\" id=\"edge2\"><title>140288207932216-&gt;140288208029456</title>\n",
       "<path d=\"M81.5,-73.3129C81.5,-65.2895 81.5,-55.5475 81.5,-46.5691\" fill=\"none\" stroke=\"black\"/>\n",
       "<polygon fill=\"black\" points=\"85.0001,-46.5288 81.5,-36.5288 78.0001,-46.5289 85.0001,-46.5288\" stroke=\"black\"/>\n",
       "</g>\n",
       "</g>\n",
       "</svg>"
      ],
      "text/plain": [
       "<IPython.core.display.SVG object>"
      ]
     },
     "execution_count": 9,
     "metadata": {},
     "output_type": "execute_result"
    }
   ],
   "source": [
    "SVG(model_to_dot(model).create(prog='dot', format='svg'))"
   ]
  },
  {
   "cell_type": "markdown",
   "metadata": {},
   "source": [
    "Not so interesting really for this simple network, but will be more informative for more complex models that we make later in the semester.\n",
    "\n",
    "Before we get to training, let's see if we can set up a visualization tool that will help us understand how the network is behaving. Simple examples can be very insightful since they can often be investigated more thoroughly than a more complex example, given that the simple example contains the interesting elements that we are looking for.\n",
    "\n",
    "First, we will create a **meshgrid** of data points (i.e. feature vectors) which _cover_ the space of input vectors for the XOR task thoroughly. This isn't easy to do in a high-dimensional space, since the space requirements grow exponentially with the dimensionality of the input vectors. However, just two dimensions can be visualized and covered with a reasonable number of points.\n",
    "\n",
    "The `linspace()` function will be used again to create a set of points, now ranging from -2 to 2 (20 distinct values in that range). Next, we use the `meshgrid()` function to create all possible combinations of those values (20x20=400 points!). The `xgrid` and `ygrid` data structures are each 20x20 matrices, where each point we want to visualize will be a combination of corresponding values from each matrix: $\\left[ xgrid_{ij}, ygrid_{ij} \\right]$ for all i,j. However, this means we need to flatten each of those matrices and combine their corresponding elements into these 2-dimensional vectors. We use a combination of `ravel()` (to perform the flattening) and `vstack()` (to perform the concatenation). The result will actually be the transpose of the final data matrix that we want, so don't forget the `T` at the end.\n",
    "\n",
    "Now, we will plot all of those data points in green just to show the grid we have made. However, we will also then plot the XOR input vectors (X) colored by their corresponding class labels (0,1), and also a little larger to make them stand out. In this case, red is zero, and blue is one."
   ]
  },
  {
   "cell_type": "code",
   "execution_count": 10,
   "metadata": {},
   "outputs": [
    {
     "data": {
      "image/png": "[encoded data removed]",
      "text/plain": [
       "<matplotlib.figure.Figure at 0x7f9764b34d68>"
      ]
     },
     "metadata": {},
     "output_type": "display_data"
    }
   ],
   "source": [
    "# Sample plot of classification space\n",
    "xpoints = np.linspace(-2,2,20)\n",
    "ypoints = np.linspace(-2,2,20)\n",
    "xgrid, ygrid = np.meshgrid(xpoints,ypoints)\n",
    "positions = np.vstack([xgrid.ravel(),ygrid.ravel()]).T\n",
    "\n",
    "# Green grid points where we will evaluate the network\n",
    "# outputs.\n",
    "plt.plot(positions[:,0],positions[:,1],'go')\n",
    "\n",
    "# Color the zero-expected outputs red\n",
    "plt.plot(X[[0,3],0],X[[0,3],1],'ro',markersize=10)\n",
    "# Color the one-expected outputs blue\n",
    "plt.plot(X[[1,2],0],X[[1,2],1],'bo',markersize=10)\n",
    "plt.show()"
   ]
  },
  {
   "cell_type": "markdown",
   "metadata": {},
   "source": [
    "Now, let's use this data to visualize how the XOR network behaves. That is, we can use the visualization to examine the current decision boundary that the network is using. You may ask, how could there be a boundary before training? Well, we initialize the weights in the network randomly, so while probably not very useful, the boundary is already there.\n",
    "\n",
    "For this operation, we need to use the `predict_classes()` function from the model. This is similar to \"testing\" the neural network, but instead of calculating a loss or accuracy value, we prefer to just see what class label (`predictions`) was assigned to each input vector. We provide all of the grid `positions` calculated above and each one gets assigned to a class of 0 or 1. We can then separate the data into two sets: those input vectors classified as a zero and those input vectors classified as a one. We perform a slice using a boolean operator this time, and then select the matching rows from the `positions` matrix and create two non-overlapping matrices of vectors: `zeros` and `ones`.\n",
    "\n",
    "Now, rather than coloring them green, we can color them according to the class label that the network _predicted_ for each vector in the grid. By making the XOR vectors a little larger on the plot, it's easy to separate them from the others in the grid as well."
   ]
  },
  {
   "cell_type": "code",
   "execution_count": 12,
   "metadata": {},
   "outputs": [
    {
     "data": {
      "image/png": "[encoded data removed]",
      "text/plain": [
       "<matplotlib.figure.Figure at 0x7f9764a7bc50>"
      ]
     },
     "metadata": {},
     "output_type": "display_data"
    }
   ],
   "source": [
    "# Let's color those points by the classification labels...\n",
    "predictions = model.predict_classes(positions)[:,0]\n",
    "zeros = positions[predictions==0,:]\n",
    "ones = positions[predictions==1,:]\n",
    "\n",
    "# Color predictions by class\n",
    "plt.plot(zeros[:,0],zeros[:,1],'ro')\n",
    "plt.plot(ones[:,0],ones[:,1],'bo')\n",
    "\n",
    "# Color the zero-expected outputs red\n",
    "plt.plot(X[[0,3],0],X[[0,3],1],'ro',markersize=10)\n",
    "# Color the one-expected outputs blue\n",
    "plt.plot(X[[1,2],0],X[[1,2],1],'bo',markersize=10)\n",
    "\n",
    "plt.show()"
   ]
  },
  {
   "cell_type": "markdown",
   "metadata": {},
   "source": [
    "The grid point covering let's us visualize the decision boundary determined by the network, since the grid points will change from red to blue or vice-versa.\n",
    "\n",
    "As you can see, the network starts with a suboptimal decision boundary for the task (as expected). Now, let's see if the network can learn to solve the problem."
   ]
  },
  {
   "cell_type": "code",
   "execution_count": 13,
   "metadata": {},
   "outputs": [],
   "source": [
    "# Train it!\n",
    "history = model.fit(X, Y,\n",
    "    batch_size=1,\n",
    "    epochs=1000,\n",
    "    verbose=0)"
   ]
  },
  {
   "cell_type": "code",
   "execution_count": 14,
   "metadata": {},
   "outputs": [
    {
     "data": {
      "image/png": "[encoded data removed]",
      "text/plain": [
       "<matplotlib.figure.Figure at 0x7f9764a747b8>"
      ]
     },
     "metadata": {},
     "output_type": "display_data"
    }
   ],
   "source": [
    "# summarize history for loss  \n",
    "plt.plot(history.history['loss'])  \n",
    "plt.title('model loss')  \n",
    "plt.ylabel('loss')  \n",
    "plt.xlabel('epoch')  \n",
    "plt.legend(['train'], loc='upper left')  \n",
    "plt.show()"
   ]
  },
  {
   "cell_type": "markdown",
   "metadata": {},
   "source": [
    "Now that we have trained the network for a little while, let's see what the network has learned. We can perform the same steps as above, but using predictions from the network _after training_."
   ]
  },
  {
   "cell_type": "code",
   "execution_count": 15,
   "metadata": {},
   "outputs": [
    {
     "data": {
      "image/png": "[encoded data removed]",
      "text/plain": [
       "<matplotlib.figure.Figure at 0x7f9764a8a9e8>"
      ]
     },
     "metadata": {},
     "output_type": "display_data"
    }
   ],
   "source": [
    "# Let's color those points by the classification labels...\n",
    "predictions = model.predict_classes(positions)[:,0]\n",
    "zeros = positions[predictions==0,:]\n",
    "ones = positions[predictions==1,:]\n",
    "\n",
    "# Color predictions by class\n",
    "plt.plot(zeros[:,0],zeros[:,1],'ro')\n",
    "plt.plot(ones[:,0],ones[:,1],'bo')\n",
    "\n",
    "# Color the zero-expected outputs red\n",
    "plt.plot(X[[0,3],0],X[[0,3],1],'ro',markersize=10)\n",
    "# Color the one-expected outputs blue\n",
    "plt.plot(X[[1,2],0],X[[1,2],1],'bo',markersize=10)\n",
    "\n",
    "plt.show()"
   ]
  },
  {
   "cell_type": "markdown",
   "metadata": {},
   "source": [
    "So, the tanh hidden units were able to provide good boundaries that the output unit could use to decipher the class structure in the data, even in a non-linear manner. If you reinitialized the network weights, you might find that the learned boundary is not always the same. Some problems can be solved in different ways, and therefore different networks may utilize different ways of partitioning the feature space to solve them even if being trained on _the same data_."
   ]
  },
  {
   "cell_type": "markdown",
   "metadata": {},
   "source": [
    "## Enter the ReLU\n",
    "\n",
    "Let's try to see what happens if we utilize our new activation function, ReLU, which we now know has some nice properties for solving complex problems using deeper networks.\n",
    "\n",
    "The same approach will be used here as was used above, so we will only replace the tanh function with the ReLU activation function. Remember that it has been suggested in the deep learning literature, that initializing the bias on ReLU units to a small positive value for the bias. We will use that technique here to demonstrate how this might work, but it _may not always be a good idea_. Keep that in mind during the exercises below..."
   ]
  },
  {
   "cell_type": "code",
   "execution_count": 50,
   "metadata": {},
   "outputs": [
    {
     "name": "stdout",
     "output_type": "stream",
     "text": [
      "_________________________________________________________________\n",
      "Layer (type)                 Output Shape              Param #   \n",
      "=================================================================\n",
      "dense_21 (Dense)             (None, 2)                 6         \n",
      "_________________________________________________________________\n",
      "dense_22 (Dense)             (None, 1)                 3         \n",
      "=================================================================\n",
      "Total params: 9\n",
      "Trainable params: 9\n",
      "Non-trainable params: 0\n",
      "_________________________________________________________________\n",
      "None\n"
     ]
    }
   ],
   "source": [
    "# Multi-layer net with ReLU hidden layer\n",
    "model = keras.models.Sequential()\n",
    "model.add(keras.layers.Dense(2,input_dim=2,activation='relu',\n",
    "                             bias_initializer=keras.initializers.Constant(0.1)))\n",
    "model.add(keras.layers.Dense(1,activation='sigmoid'))\n",
    "model.compile(loss='binary_crossentropy',optimizer='adam')\n",
    "print(model.summary())"
   ]
  },
  {
   "cell_type": "code",
   "execution_count": 51,
   "metadata": {},
   "outputs": [
    {
     "data": {
      "image/png": "[encoded data removed]",
      "text/latex": [
       "$$\\left[\\begin{matrix}1.11784 & -0.52987\\\\0.816683 & -0.574691\\end{matrix}\\right]$$"
      ],
      "text/plain": [
       "⎡1.11784   -0.52987 ⎤\n",
       "⎢                   ⎥\n",
       "⎣0.816683  -0.574691⎦"
      ]
     },
     "metadata": {},
     "output_type": "display_data"
    },
    {
     "data": {
      "image/png": "[encoded data removed]",
      "text/latex": [
       "$$\\left[\\begin{matrix}0.1\\\\0.1\\end{matrix}\\right]$$"
      ],
      "text/plain": [
       "⎡0.1⎤\n",
       "⎢   ⎥\n",
       "⎣0.1⎦"
      ]
     },
     "metadata": {},
     "output_type": "display_data"
    },
    {
     "data": {
      "image/png": "[encoded data removed]",
      "text/latex": [
       "$$\\left[\\begin{matrix}1.08279\\\\0.049129\\end{matrix}\\right]$$"
      ],
      "text/plain": [
       "⎡1.08279 ⎤\n",
       "⎢        ⎥\n",
       "⎣0.049129⎦"
      ]
     },
     "metadata": {},
     "output_type": "display_data"
    },
    {
     "data": {
      "image/png": "[encoded data removed]",
      "text/latex": [
       "$$\\left[\\begin{matrix}0.0\\end{matrix}\\right]$$"
      ],
      "text/plain": [
       "[0.0]"
      ]
     },
     "metadata": {},
     "output_type": "display_data"
    }
   ],
   "source": [
    "for i in model.get_weights():\n",
    "    display(Matrix(i))"
   ]
  },
  {
   "cell_type": "markdown",
   "metadata": {},
   "source": [
    "Let's see how this net stacks up to the tanh net using our visualization method above. Remember, we are still _pre-training_ here for this network."
   ]
  },
  {
   "cell_type": "code",
   "execution_count": 52,
   "metadata": {},
   "outputs": [
    {
     "data": {
      "image/png": "[encoded data removed]",
      "text/plain": [
       "<matplotlib.figure.Figure at 0x7f97646cb5c0>"
      ]
     },
     "metadata": {},
     "output_type": "display_data"
    }
   ],
   "source": [
    "# Let's color those points by the classification labels...\n",
    "predictions = model.predict_classes(positions)[:,0]\n",
    "zeros = positions[predictions==0,:]\n",
    "ones = positions[predictions==1,:]\n",
    "\n",
    "# Color predictions by class\n",
    "plt.plot(zeros[:,0],zeros[:,1],'ro')\n",
    "plt.plot(ones[:,0],ones[:,1],'bo')\n",
    "\n",
    "# Color the zero-expected outputs red\n",
    "plt.plot(X[[0,3],0],X[[0,3],1],'ro',markersize=10)\n",
    "# Color the one-expected outputs blue\n",
    "plt.plot(X[[1,2],0],X[[1,2],1],'bo',markersize=10)\n",
    "\n",
    "plt.show()"
   ]
  },
  {
   "cell_type": "markdown",
   "metadata": {},
   "source": [
    "Sometimes, we will see a boundary, but with other weights we may not. Let's see if some training pushes that boundary into the visible space of input vectors..."
   ]
  },
  {
   "cell_type": "code",
   "execution_count": 53,
   "metadata": {},
   "outputs": [],
   "source": [
    "# Train it!\n",
    "history = model.fit(X, Y,\n",
    "    batch_size=1,\n",
    "    epochs=1000,\n",
    "    verbose=0)"
   ]
  },
  {
   "cell_type": "code",
   "execution_count": 54,
   "metadata": {},
   "outputs": [
    {
     "data": {
      "image/png": "[encoded data removed]",
      "text/plain": [
       "<matplotlib.figure.Figure at 0x7f959c3f1550>"
      ]
     },
     "metadata": {},
     "output_type": "display_data"
    }
   ],
   "source": [
    "# summarize history for loss  \n",
    "plt.plot(history.history['loss'])  \n",
    "plt.title('model loss')  \n",
    "plt.ylabel('loss')  \n",
    "plt.xlabel('epoch')  \n",
    "plt.legend(['train'], loc='upper left')  \n",
    "plt.show()"
   ]
  },
  {
   "cell_type": "code",
   "execution_count": 55,
   "metadata": {},
   "outputs": [
    {
     "data": {
      "image/png": "[encoded data removed]",
      "text/plain": [
       "<matplotlib.figure.Figure at 0x7f97646d3cf8>"
      ]
     },
     "metadata": {},
     "output_type": "display_data"
    }
   ],
   "source": [
    "# Let's color those points by the classification labels...\n",
    "predictions = model.predict_classes(positions)[:,0]\n",
    "zeros = positions[predictions==0,:]\n",
    "ones = positions[predictions==1,:]\n",
    "\n",
    "# Color predictions by class\n",
    "plt.plot(zeros[:,0],zeros[:,1],'ro')\n",
    "plt.plot(ones[:,0],ones[:,1],'bo')\n",
    "\n",
    "# Color the zero-expected outputs red\n",
    "plt.plot(X[[0,3],0],X[[0,3],1],'ro',markersize=10)\n",
    "# Color the one-expected outputs blue\n",
    "plt.plot(X[[1,2],0],X[[1,2],1],'bo',markersize=10)\n",
    "\n",
    "plt.show()"
   ]
  },
  {
   "cell_type": "markdown",
   "metadata": {},
   "source": [
    "Well, that's not very promising is it? Is ReLU that useful after-all? What might be the problem here?\n",
    "\n",
    "We've seen how to train a multilayer network using both tanh and ReLU at least, even if the results are not very spectacular. However, you should have some intuition about how this problem might be rectified using some hints on the slides and what we have talked about in class..."
   ]
  },
  {
   "cell_type": "markdown",
   "metadata": {},
   "source": [
    "## Classifying MNIST\n",
    "\n",
    "The MNIST data set consists of 60,000 images of handwritten digits for training and 10,000 images of handwritten digits for testing. We looked at this data in our last homework assignment some, but now we will try to train up a network for classifying these images.\n",
    "\n",
    "First, let's load the data and prepare it for presentation to a network."
   ]
  },
  {
   "cell_type": "code",
   "execution_count": 41,
   "metadata": {},
   "outputs": [
    {
     "name": "stdout",
     "output_type": "stream",
     "text": [
      "x_train shape: (60000, 784)\n",
      "y_train shape: (60000, 10)\n",
      "60000 train samples\n",
      "10000 test samples\n"
     ]
    }
   ],
   "source": [
    "from keras.datasets import mnist\n",
    "\n",
    "# Digits are zero through nine, so 10 classes\n",
    "num_classes = 10\n",
    "\n",
    "# input image dimensions\n",
    "img_rows, img_cols = 28, 28\n",
    "\n",
    "# the data, shuffled and split between train and test sets\n",
    "(x_train, y_train), (x_test, y_test) = mnist.load_data()\n",
    "\n",
    "x_train = x_train.reshape(x_train.shape[0], img_rows * img_cols)\n",
    "x_test = x_test.reshape(x_test.shape[0], img_rows * img_cols)\n",
    "\n",
    "# Data normalization (0-255 is encoded as 0-1 instead)\n",
    "x_train = x_train.astype('float32')\n",
    "x_test = x_test.astype('float32')\n",
    "x_train /= 255.0\n",
    "x_test /= 255.0\n",
    "\n",
    "# Convert class vectors to binary class matrices\n",
    "y_train = keras.utils.to_categorical(y_train, num_classes)\n",
    "y_test = keras.utils.to_categorical(y_test, num_classes)\n",
    "\n",
    "# Shape information\n",
    "print('x_train shape:', x_train.shape)\n",
    "print('y_train shape:', y_train.shape)\n",
    "print(x_train.shape[0], 'train samples')\n",
    "print(x_test.shape[0], 'test samples')"
   ]
  },
  {
   "cell_type": "markdown",
   "metadata": {},
   "source": [
    "You can see that we have flattened each image (28x28 pixels) into a 728-element vector using the `reshape()` function. The intensity values in the original data are in the range 0-255, but we divide them all by 255 in order to scale the intensity between 0 and 1. This just keeps us from starting at extreme values in the weight space (where tanh and sigmoid get stuck easily). Finally, we convert the integer class labels (originally just 0,1,2,...,9) into the categorical representation that we need for `categorical cross-entropy`.\n",
    "\n",
    "OK, so we need to train a network to recognize these digits. We will fully utilize the training/validation data alone when tuning parameters, and run a final accuracy check on the _test_ data which was _never seen_ during the training process. Let's see what a single-layer network can do to start with..."
   ]
  },
  {
   "cell_type": "code",
   "execution_count": 46,
   "metadata": {},
   "outputs": [
    {
     "name": "stdout",
     "output_type": "stream",
     "text": [
      "_________________________________________________________________\n",
      "Layer (type)                 Output Shape              Param #   \n",
      "=================================================================\n",
      "dense_20 (Dense)             (None, 10)                7850      \n",
      "=================================================================\n",
      "Total params: 7,850\n",
      "Trainable params: 7,850\n",
      "Non-trainable params: 0\n",
      "_________________________________________________________________\n"
     ]
    }
   ],
   "source": [
    "model = keras.models.Sequential()\n",
    "\n",
    "# Linear\n",
    "model.add(keras.layers.Dense(num_classes, activation='softmax',input_shape=[x_train.shape[1]]))\n",
    "model.compile(loss=keras.losses.categorical_crossentropy,\n",
    "              optimizer=keras.optimizers.Adam(),\n",
    "              metrics=['accuracy'])\n",
    "model.summary()"
   ]
  },
  {
   "cell_type": "code",
   "execution_count": 47,
   "metadata": {},
   "outputs": [
    {
     "name": "stdout",
     "output_type": "stream",
     "text": [
      "Train on 48000 samples, validate on 12000 samples\n",
      "Epoch 1/30\n",
      "48000/48000 [==============================] - 2s 41us/step - loss: 0.7545 - acc: 0.8146 - val_loss: 0.4094 - val_acc: 0.8968\n",
      "Epoch 2/30\n",
      "48000/48000 [==============================] - 2s 33us/step - loss: 0.3902 - acc: 0.8962 - val_loss: 0.3356 - val_acc: 0.9103\n",
      "Epoch 3/30\n",
      "48000/48000 [==============================] - 2s 35us/step - loss: 0.3385 - acc: 0.9079 - val_loss: 0.3070 - val_acc: 0.9160\n",
      "Epoch 4/30\n",
      "48000/48000 [==============================] - 2s 34us/step - loss: 0.3148 - acc: 0.9134 - val_loss: 0.2934 - val_acc: 0.9190\n",
      "Epoch 5/30\n",
      "48000/48000 [==============================] - 2s 32us/step - loss: 0.3005 - acc: 0.9168 - val_loss: 0.2843 - val_acc: 0.9223\n",
      "Epoch 6/30\n",
      "48000/48000 [==============================] - 2s 34us/step - loss: 0.2909 - acc: 0.9184 - val_loss: 0.2791 - val_acc: 0.9226\n",
      "Epoch 7/30\n",
      "48000/48000 [==============================] - 2s 35us/step - loss: 0.2835 - acc: 0.9208 - val_loss: 0.2743 - val_acc: 0.9245\n",
      "Epoch 8/30\n",
      "48000/48000 [==============================] - 2s 32us/step - loss: 0.2782 - acc: 0.9222 - val_loss: 0.2714 - val_acc: 0.9263\n",
      "Epoch 9/30\n",
      "48000/48000 [==============================] - 2s 34us/step - loss: 0.2737 - acc: 0.9233 - val_loss: 0.2684 - val_acc: 0.9272\n",
      "Epoch 10/30\n",
      "48000/48000 [==============================] - 2s 32us/step - loss: 0.2698 - acc: 0.9238 - val_loss: 0.2668 - val_acc: 0.9273\n",
      "Epoch 11/30\n",
      "48000/48000 [==============================] - 2s 33us/step - loss: 0.2669 - acc: 0.9255 - val_loss: 0.2640 - val_acc: 0.9275\n",
      "Epoch 12/30\n",
      "48000/48000 [==============================] - 2s 33us/step - loss: 0.2642 - acc: 0.9263 - val_loss: 0.2636 - val_acc: 0.9283\n",
      "Epoch 13/30\n",
      "48000/48000 [==============================] - 2s 33us/step - loss: 0.2617 - acc: 0.9270 - val_loss: 0.2626 - val_acc: 0.9284\n",
      "Epoch 14/30\n",
      "48000/48000 [==============================] - 2s 33us/step - loss: 0.2598 - acc: 0.9270 - val_loss: 0.2620 - val_acc: 0.9295\n",
      "Epoch 15/30\n",
      "48000/48000 [==============================] - 2s 33us/step - loss: 0.2578 - acc: 0.9280 - val_loss: 0.2619 - val_acc: 0.9287\n",
      "Epoch 16/30\n",
      "48000/48000 [==============================] - 2s 34us/step - loss: 0.2557 - acc: 0.9282 - val_loss: 0.2609 - val_acc: 0.9293\n",
      "Epoch 17/30\n",
      "48000/48000 [==============================] - 2s 33us/step - loss: 0.2545 - acc: 0.9290 - val_loss: 0.2596 - val_acc: 0.9300\n",
      "Epoch 18/30\n",
      "48000/48000 [==============================] - 2s 33us/step - loss: 0.2527 - acc: 0.9296 - val_loss: 0.2607 - val_acc: 0.9288\n",
      "Epoch 19/30\n",
      "48000/48000 [==============================] - 2s 32us/step - loss: 0.2513 - acc: 0.9295 - val_loss: 0.2595 - val_acc: 0.9301\n",
      "Epoch 20/30\n",
      "48000/48000 [==============================] - 2s 32us/step - loss: 0.2501 - acc: 0.9303 - val_loss: 0.2586 - val_acc: 0.9308\n",
      "Epoch 21/30\n",
      "48000/48000 [==============================] - 2s 32us/step - loss: 0.2492 - acc: 0.9311 - val_loss: 0.2598 - val_acc: 0.9303\n",
      "Epoch 22/30\n",
      "48000/48000 [==============================] - 2s 32us/step - loss: 0.2480 - acc: 0.9299 - val_loss: 0.2588 - val_acc: 0.9294\n",
      "Epoch 23/30\n",
      "48000/48000 [==============================] - 2s 33us/step - loss: 0.2470 - acc: 0.9319 - val_loss: 0.2591 - val_acc: 0.9300\n",
      "Epoch 24/30\n",
      "48000/48000 [==============================] - 2s 32us/step - loss: 0.2461 - acc: 0.9317 - val_loss: 0.2591 - val_acc: 0.9308\n",
      "Epoch 25/30\n",
      "48000/48000 [==============================] - 2s 33us/step - loss: 0.2449 - acc: 0.9315 - val_loss: 0.2588 - val_acc: 0.9298\n",
      "Epoch 26/30\n",
      "48000/48000 [==============================] - 2s 34us/step - loss: 0.2441 - acc: 0.9317 - val_loss: 0.2594 - val_acc: 0.9307\n",
      "Epoch 27/30\n",
      "48000/48000 [==============================] - 2s 34us/step - loss: 0.2432 - acc: 0.9327 - val_loss: 0.2577 - val_acc: 0.9317\n",
      "Epoch 28/30\n",
      "48000/48000 [==============================] - 2s 33us/step - loss: 0.2425 - acc: 0.9321 - val_loss: 0.2624 - val_acc: 0.9302\n",
      "Epoch 29/30\n",
      "48000/48000 [==============================] - 2s 33us/step - loss: 0.2419 - acc: 0.9325 - val_loss: 0.2618 - val_acc: 0.9302\n",
      "Epoch 30/30\n",
      "48000/48000 [==============================] - 2s 32us/step - loss: 0.2411 - acc: 0.9333 - val_loss: 0.2591 - val_acc: 0.9307\n",
      "Test loss: 0.264308974689\n",
      "Test accuracy: 0.9271\n"
     ]
    }
   ],
   "source": [
    "# Train it!\n",
    "history = model.fit(x_train, y_train,\n",
    "          batch_size=128,\n",
    "          epochs=30,\n",
    "          verbose=1,\n",
    "          validation_split = 0.2)\n",
    "score = model.evaluate(x_test, y_test, verbose=0)\n",
    "print('Test loss:', score[0])\n",
    "print('Test accuracy:', score[1])"
   ]
  },
  {
   "cell_type": "code",
   "execution_count": 48,
   "metadata": {},
   "outputs": [
    {
     "data": {
      "image/png": "[encoded data removed]",
      "text/plain": [
       "<matplotlib.figure.Figure at 0x7f965c20b780>"
      ]
     },
     "metadata": {},
     "output_type": "display_data"
    }
   ],
   "source": [
    "plt.figure()  \n",
    "   \n",
    "# summarize history for accuracy  \n",
    "   \n",
    "plt.subplot(211)  \n",
    "plt.plot(history.history['acc'])  \n",
    "plt.plot(history.history['val_acc'])  \n",
    "plt.title('model accuracy')  \n",
    "plt.ylabel('accuracy')  \n",
    "plt.xlabel('epoch')  \n",
    "plt.legend(['train', 'test'], loc='upper left')  \n",
    "   \n",
    "# summarize history for loss  \n",
    "   \n",
    "plt.subplot(212)  \n",
    "plt.plot(history.history['loss'])  \n",
    "plt.plot(history.history['val_loss'])  \n",
    "plt.title('model loss')  \n",
    "plt.ylabel('loss')  \n",
    "plt.xlabel('epoch')  \n",
    "plt.legend(['train', 'test'], loc='upper left')\n",
    "\n",
    "plt.tight_layout()\n",
    "plt.show()  "
   ]
  },
  {
   "cell_type": "markdown",
   "metadata": {},
   "source": [
    "Excellent! Let's take one more look at that accuracy..."
   ]
  },
  {
   "cell_type": "code",
   "execution_count": 49,
   "metadata": {},
   "outputs": [
    {
     "name": "stdout",
     "output_type": "stream",
     "text": [
      "Test loss: 0.264308974689\n",
      "Test accuracy: 0.9271\n"
     ]
    }
   ],
   "source": [
    "score = model.evaluate(x_test, y_test, verbose=0)\n",
    "print('Test loss:', score[0])\n",
    "print('Test accuracy:', score[1])"
   ]
  },
  {
   "cell_type": "markdown",
   "metadata": {},
   "source": [
    "Just a single layer network is capable of performing above 92% accuracy on examples that it has never even seen during training. So, the gauntlet has been thown: can a deeper net do better? It will take some modifications to the architecture (tuning the *inductive bias*) in order to get there..."
   ]
  },
  {
   "cell_type": "code",
   "execution_count": null,
   "metadata": {},
   "outputs": [],
   "source": []
  }
 ],
 "metadata": {
  "kernelspec": {
   "display_name": "Python 3",
   "language": "python",
   "name": "python3"
  },
  "language_info": {
   "codemirror_mode": {
    "name": "ipython",
    "version": 3
   },
   "file_extension": ".py",
   "mimetype": "text/x-python",
   "name": "python",
   "nbconvert_exporter": "python",
   "pygments_lexer": "ipython3",
   "version": "3.5.3"
  }
 },
 "nbformat": 4,
 "nbformat_minor": 2
}
