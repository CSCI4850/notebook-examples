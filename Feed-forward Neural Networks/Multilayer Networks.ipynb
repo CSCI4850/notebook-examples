{
 "cells": [
  {
   "cell_type": "markdown",
   "metadata": {},
   "source": [
    "## Multi-Layer Networks\n",
    "\n",
    "Now that we have tried our hand at some single-layer nets, let's see how they _stack up_ compared to multi-layer nets. 😁\n",
    "\n",
    "We will be exploring the basic concepts of learning non-linear functions using the classic XOR problem, and then explore the basics of \"deep learning\" technology on this problem as well. After that, we will see if a multi-layer approach can perform better than single-layer approach on some data sets that we have seen before. In particular, we will try to explore the wider vs. deeper issue, and see if ReLU really helps.\n",
    "\n",
    "For now, let's look into the XOR problem, and see what insights we can gain when comparing single- and multi-layer network approaches."
   ]
  },
  {
   "cell_type": "code",
   "execution_count": 1,
   "metadata": {},
   "outputs": [
    {
     "name": "stderr",
     "output_type": "stream",
     "text": [
      "Using TensorFlow backend.\n"
     ]
    }
   ],
   "source": [
    "# NN-Tools\n",
    "import numpy as np\n",
    "import keras\n",
    "\n",
    "# Visualization\n",
    "from IPython.display import SVG\n",
    "from IPython.display import display\n",
    "from keras.utils.vis_utils import model_to_dot\n",
    "from keras.utils import plot_model\n",
    "\n",
    "# Printing\n",
    "from sympy import *\n",
    "init_printing(use_latex=True)\n",
    "\n",
    "# Plotting\n",
    "import matplotlib.pyplot as plt\n",
    "%matplotlib inline"
   ]
  },
  {
   "cell_type": "markdown",
   "metadata": {},
   "source": [
    "Let's create the XOR data set. As we mentioned in class, _avoiding zeros_ in the **input** patterns is a good general approach for stable learning behavior."
   ]
  },
  {
   "cell_type": "code",
   "execution_count": 2,
   "metadata": {},
   "outputs": [
    {
     "data": {
      "text/latex": [
       "$\\displaystyle \\left[\\begin{matrix}-1 & -1\\\\-1 & 1\\\\1 & -1\\\\1 & 1\\end{matrix}\\right]$"
      ],
      "text/plain": [
       "⎡-1  -1⎤\n",
       "⎢      ⎥\n",
       "⎢-1  1 ⎥\n",
       "⎢      ⎥\n",
       "⎢1   -1⎥\n",
       "⎢      ⎥\n",
       "⎣1   1 ⎦"
      ]
     },
     "metadata": {},
     "output_type": "display_data"
    },
    {
     "data": {
      "text/latex": [
       "$\\displaystyle \\left[\\begin{matrix}0\\\\1\\\\1\\\\0\\end{matrix}\\right]$"
      ],
      "text/plain": [
       "⎡0⎤\n",
       "⎢ ⎥\n",
       "⎢1⎥\n",
       "⎢ ⎥\n",
       "⎢1⎥\n",
       "⎢ ⎥\n",
       "⎣0⎦"
      ]
     },
     "metadata": {},
     "output_type": "display_data"
    }
   ],
   "source": [
    "# XOR data set\n",
    "X = np.array([[-1,-1],[-1,1],[1,-1],[1,1]])\n",
    "display(Matrix(X))\n",
    "Y = np.array([0,1,1,0])\n",
    "display(Matrix(Y))"
   ]
  },
  {
   "cell_type": "markdown",
   "metadata": {},
   "source": [
    "We are performing a classification task since there are **two discrete targets**, so using **binary cross-entropy** error at the output layer makes sense. Also, binary cross-entropy suggest the **sigmoid** activation function for the **output** unit since it is comparing only two classes. Given that the hyperbolic tangent (tanh) activation function is a decent choice for two-layer networks, let's create a network with a hidden layer consisting of units which use this activation function. Also, we will keep it rather small: just two units."
   ]
  },
  {
   "cell_type": "code",
   "execution_count": 3,
   "metadata": {},
   "outputs": [
    {
     "name": "stdout",
     "output_type": "stream",
     "text": [
      "Model: \"sequential_1\"\n",
      "_________________________________________________________________\n",
      "Layer (type)                 Output Shape              Param #   \n",
      "=================================================================\n",
      "dense_1 (Dense)              (None, 2)                 6         \n",
      "_________________________________________________________________\n",
      "dense_2 (Dense)              (None, 1)                 3         \n",
      "=================================================================\n",
      "Total params: 9\n",
      "Trainable params: 9\n",
      "Non-trainable params: 0\n",
      "_________________________________________________________________\n"
     ]
    }
   ],
   "source": [
    "# Multi-layer net with tanh hidden layer\n",
    "\n",
    "# Start a new, empty model\n",
    "model = keras.models.Sequential()\n",
    "\n",
    "# Create the hidden layer (size 2), but also ensure it is\n",
    "# densely connected to an input layer of size 2 (input_dim=2).\n",
    "# These are then added to the model...\n",
    "model.add(keras.layers.Dense(2,input_dim=2,activation='tanh'))\n",
    "\n",
    "# Add another densely connected layer, our output layer,\n",
    "# which is assumed to be connected to the -previous layer-\n",
    "# added to the model (the hidden layer in our case).\n",
    "model.add(keras.layers.Dense(1,activation='sigmoid'))\n",
    "\n",
    "# Compile it and use the correct loss function (BCE) and\n",
    "# a good optimizer (to avoid slow convergence when possible).\n",
    "model.compile(loss=keras.losses.binary_crossentropy,\n",
    "              optimizer=keras.optimizers.SGD(lr=0.1),\n",
    "              metrics=[keras.metrics.accuracy])\n",
    "\n",
    "# Print the resulting model to observe its structure and\n",
    "# number of parameters.\n",
    "model.summary()"
   ]
  },
  {
   "cell_type": "markdown",
   "metadata": {},
   "source": [
    "Since the input vectors are of length 2, and the hidden layer is of size 2, there will be a 2x2=4 element weight matrix connecting the input layer to the hidden layer. Also, each hidden unit will have a bias weight (6 weights total so far). The hidden to output layer weight matrix will be 2x1=2, and the output unit has its own bias weight as well (total of 9, altogether)."
   ]
  },
  {
   "cell_type": "code",
   "execution_count": 4,
   "metadata": {},
   "outputs": [
    {
     "data": {
      "text/latex": [
       "$\\displaystyle \\left[\\begin{matrix}0.253166 & 0.924199\\\\-0.948926 & -1.04097\\end{matrix}\\right]$"
      ],
      "text/plain": [
       "⎡0.253166   0.924199⎤\n",
       "⎢                   ⎥\n",
       "⎣-0.948926  -1.04097⎦"
      ]
     },
     "metadata": {},
     "output_type": "display_data"
    },
    {
     "data": {
      "text/latex": [
       "$\\displaystyle \\left[\\begin{matrix}0.0\\\\0.0\\end{matrix}\\right]$"
      ],
      "text/plain": [
       "⎡0.0⎤\n",
       "⎢   ⎥\n",
       "⎣0.0⎦"
      ]
     },
     "metadata": {},
     "output_type": "display_data"
    },
    {
     "data": {
      "text/latex": [
       "$\\displaystyle \\left[\\begin{matrix}0.500332\\\\0.939865\\end{matrix}\\right]$"
      ],
      "text/plain": [
       "⎡0.500332⎤\n",
       "⎢        ⎥\n",
       "⎣0.939865⎦"
      ]
     },
     "metadata": {},
     "output_type": "display_data"
    },
    {
     "data": {
      "text/latex": [
       "$\\displaystyle \\left[\\begin{matrix}0.0\\end{matrix}\\right]$"
      ],
      "text/plain": [
       "[0.0]"
      ]
     },
     "metadata": {},
     "output_type": "display_data"
    }
   ],
   "source": [
    "# Print the weights!\n",
    "for i in model.get_weights():\n",
    "    display(Matrix(i))"
   ]
  },
  {
   "cell_type": "markdown",
   "metadata": {},
   "source": [
    "You can see that for tanh units, the bias weight is initialized to zero. We know that zero-element weights can be problematic in some cases, but remember that the bias is **always** used and therefore has access to the full delta for the units. They will only differentiate when required by the task at-hand.\n",
    "\n",
    "If we want a graph-like representation of our network, we can use some functions from `keras.utils` such as `plot_model()` to make an image file with a visualization and then also utilize `IPython.display` to render such a representation:"
   ]
  },
  {
   "cell_type": "code",
   "execution_count": 5,
   "metadata": {},
   "outputs": [
    {
     "data": {
      "image/png": "[encoded data removed]",
      "text/plain": [
       "<IPython.core.display.Image object>"
      ]
     },
     "execution_count": 5,
     "metadata": {},
     "output_type": "execute_result"
    }
   ],
   "source": [
    "plot_model(model,to_file='xor_tanh.png',show_shapes=True,expand_nested=True)"
   ]
  },
  {
   "cell_type": "markdown",
   "metadata": {},
   "source": [
    "Not so interesting really for this simple network, but this will be even more informative for more complex models that we make later in the semester. In particular, note that the input and output *shapes* that the layers expect is presented as part of the representation. These shapes are important because data fed into the network must have a corresponding shape in order to be compatible with the network. The (None,2) shape indicates that the input layer can accept an $Nx2$ size data matrix. Our current matrix of interest with the four input patterns, $X$, is of shape $4x2$, which will work nicely with this net."
   ]
  },
  {
   "cell_type": "markdown",
   "metadata": {},
   "source": [
    "## Backprop Using Numpy/Sympy\n",
    "\n",
    "Just like the single-layer case, it's good to see how the math from the lecture describing the backpropagation learning algorithm might be implemented more directly. Of course, numpy/sympy will be used to simplify the code considerably in many ways, but we are still able to show how Keras/Tensorflow is really computing the exact same equations that we have already seen.\n",
    "\n",
    "As a start, let's store and then examine those weights one more time:"
   ]
  },
  {
   "cell_type": "code",
   "execution_count": 6,
   "metadata": {},
   "outputs": [
    {
     "data": {
      "text/latex": [
       "$\\displaystyle \\left[\\begin{matrix}0.253166 & 0.924199\\\\-0.948926 & -1.04097\\end{matrix}\\right]$"
      ],
      "text/plain": [
       "⎡0.253166   0.924199⎤\n",
       "⎢                   ⎥\n",
       "⎣-0.948926  -1.04097⎦"
      ]
     },
     "metadata": {},
     "output_type": "display_data"
    },
    {
     "data": {
      "text/latex": [
       "$\\displaystyle \\left[\\begin{matrix}0.0\\\\0.0\\end{matrix}\\right]$"
      ],
      "text/plain": [
       "⎡0.0⎤\n",
       "⎢   ⎥\n",
       "⎣0.0⎦"
      ]
     },
     "metadata": {},
     "output_type": "display_data"
    },
    {
     "data": {
      "text/latex": [
       "$\\displaystyle \\left[\\begin{matrix}0.500332\\\\0.939865\\end{matrix}\\right]$"
      ],
      "text/plain": [
       "⎡0.500332⎤\n",
       "⎢        ⎥\n",
       "⎣0.939865⎦"
      ]
     },
     "metadata": {},
     "output_type": "display_data"
    },
    {
     "data": {
      "text/latex": [
       "$\\displaystyle \\left[\\begin{matrix}0.0\\end{matrix}\\right]$"
      ],
      "text/plain": [
       "[0.0]"
      ]
     },
     "metadata": {},
     "output_type": "display_data"
    }
   ],
   "source": [
    "## The weight matrices\n",
    "weights = model.get_weights()\n",
    "\n",
    "# Break down into each component of the network\n",
    "input_to_hidden = weights[0]\n",
    "hidden_bias = weights[1]\n",
    "hidden_to_output = weights[2]\n",
    "output_bias = weights[3]\n",
    "\n",
    "display(Matrix(input_to_hidden))\n",
    "display(Matrix(hidden_bias))\n",
    "display(Matrix(hidden_to_output))\n",
    "display(Matrix(output_bias))"
   ]
  },
  {
   "cell_type": "markdown",
   "metadata": {},
   "source": [
    "Now that we have separated the different weight matrices into components, let's see if we can match a forward pass calculation. I will start with the numpy version, and then compare with the keras/tensorflow result from `predict()` to show how the forward pass can be emulated. Then we will proceed with the backward pass through the network to update the weights.\n",
    "\n",
    "Still, before we can actually perform backprop, we will need to create some functions that we will use to mimic Keras. In particular, we need the `tanh()` and `sigmoid()` activation functions and their first derivatives. The activation functions can be used to calculate neural activation values for the forward pass and their derivatives will be used to calculate the neural deltas for the backward pass.\n",
    "\n",
    "In addition to the activation functions, we need to calculate the error (in this case, **binary cross entropy**) function and also the first derivative of the error function (with respect to neural activations) for the backward pass in order to calculate the weight updates."
   ]
  },
  {
   "cell_type": "code",
   "execution_count": 7,
   "metadata": {},
   "outputs": [],
   "source": [
    "# Use sympy for differentiation of our activation\n",
    "# functions and error function\n",
    "x = symbols('x')\n",
    "y = symbols('y')\n",
    "\n",
    "# Tanh Activation Function - Vectorized g(x)\n",
    "g = (exp(2*x)-1)/(exp(2*x)+1)\n",
    "tanh = np.vectorize(lambda x: np.float32(g.evalf(subs=dict(x=x))))\n",
    "\n",
    "# First Derivative of Tanh - Vectorized dg(x)/dx\n",
    "dgdx = g.diff(x)\n",
    "dtanh = np.vectorize(lambda x: np.float32(dgdx.evalf(subs=dict(x=x))))\n",
    "\n",
    "# Sigmoid Activation Function - Vectorized f(x)\n",
    "f = 1 / (exp(-x)+1)\n",
    "sigmoid = np.vectorize(lambda x: np.float32(f.evalf(subs=dict(x=x))))\n",
    "\n",
    "# First Derivative of Tanh - Vectorized dg(x)/dx\n",
    "dfdx = f.diff(x)\n",
    "dsigmoid = np.vectorize(lambda x: np.float32(dfdx.evalf(subs=dict(x=x))))\n",
    "\n",
    "# Binary Cross-entropy Error (and first derivative)\n",
    "b = -((y*log(x)+(1-y)*log(1-x)))\n",
    "dbdx = b.diff(x)\n",
    "\n",
    "# Vectorized forms of BCE and dBCE(x)/x\n",
    "bce = np.vectorize(lambda y,x: np.float32(b.evalf(subs=dict(x=x,y=y))))\n",
    "dbce = np.vectorize(lambda y,x: np.float32(dbdx.evalf(subs=dict(x=x,y=y))))"
   ]
  },
  {
   "cell_type": "markdown",
   "metadata": {},
   "source": [
    "Each of the calls to `vectorize()` above is creating a function that can be applied directly to numpy arrays. This means we can for example use `tanh()` to now calculate the hyperbolic tangent activation function element-wise for all entries in an N-dimensional array instead of having to write code to loop over elements in the array ourselves. We can accomplish a similar effort for it's first derivative using the `dtanh()` function that we have created. I facilitated this above by just using sympy to create the mathematical expressions for the functions and then use `vectorize()` to allow numpy to numerically evaluate those expressions (and their derivatives) across all of the values in a numpy array.\n",
    "\n",
    "We are now ready to proceed with demonstrating how the backprop algorithm works using these mathematical tools. Let's start with comparing the forward pass using numpy with the forward pass from Keras."
   ]
  },
  {
   "cell_type": "code",
   "execution_count": 8,
   "metadata": {},
   "outputs": [
    {
     "data": {
      "text/latex": [
       "$\\displaystyle \\left[\\begin{matrix}0.601158\\\\0.210638\\\\0.789362\\\\0.398842\\end{matrix}\\right]$"
      ],
      "text/plain": [
       "⎡0.601158⎤\n",
       "⎢        ⎥\n",
       "⎢0.210638⎥\n",
       "⎢        ⎥\n",
       "⎢0.789362⎥\n",
       "⎢        ⎥\n",
       "⎣0.398842⎦"
      ]
     },
     "execution_count": 8,
     "metadata": {},
     "output_type": "execute_result"
    }
   ],
   "source": [
    "# Initialize the starting point in the calculations to be\n",
    "# the four training patterns that we would like to pass\n",
    "# through the network. Then pass the output of each step\n",
    "# in the network calculation through.\n",
    "\n",
    "# Input layer just takes a copy of the patterns\n",
    "input_a = X\n",
    "\n",
    "# Hidden layer net inputs (weighted sums)\n",
    "hidden_net = np.dot(input_a,input_to_hidden) + hidden_bias\n",
    "\n",
    "# Apply the hyperbolic tangent activation function\n",
    "hidden_a = tanh(hidden_net)\n",
    "\n",
    "# Output layer net inputs (weighted sums)\n",
    "output_net = np.dot(hidden_a,hidden_to_output) + output_bias\n",
    "\n",
    "# Apply the sigmoid activation function\n",
    "output_a = sigmoid(output_net)\n",
    "\n",
    "# Some parameters we will need later\n",
    "N = np.float32(output_a.shape[0]) # 4 patterns\n",
    "eta = 0.1                         # learning rate (matches keras model above)\n",
    "\n",
    "# Print the outputs of the network for each of the patterns\n",
    "Matrix(output_a)"
   ]
  },
  {
   "cell_type": "code",
   "execution_count": 9,
   "metadata": {},
   "outputs": [
    {
     "data": {
      "text/latex": [
       "$\\displaystyle \\left[\\begin{matrix}0.601158\\\\0.210638\\\\0.789362\\\\0.398842\\end{matrix}\\right]$"
      ],
      "text/plain": [
       "⎡0.601158⎤\n",
       "⎢        ⎥\n",
       "⎢0.210638⎥\n",
       "⎢        ⎥\n",
       "⎢0.789362⎥\n",
       "⎢        ⎥\n",
       "⎣0.398842⎦"
      ]
     },
     "execution_count": 9,
     "metadata": {},
     "output_type": "execute_result"
    }
   ],
   "source": [
    "# Keras\n",
    "Matrix(model.predict(X))"
   ]
  },
  {
   "cell_type": "markdown",
   "metadata": {},
   "source": [
    "An exact match, yes? This means that we now can start to understand how to code a forward pass through the network using direct computation and how keras provides those tools for us automatically (far less coding).\n",
    "\n",
    "Now that we have calculated the outputs, we can see that they are not what they **should** be. We need to calculate the amount of error or loss in our current computation. We will use both the numpy/sympy version and compare that to the keras version (both using BCE)."
   ]
  },
  {
   "cell_type": "code",
   "execution_count": 10,
   "metadata": {},
   "outputs": [
    {
     "data": {
      "text/latex": [
       "$\\displaystyle \\left[\\begin{matrix}0.919189 & 1.55762 & 0.23653 & 0.508898\\end{matrix}\\right]$"
      ],
      "text/plain": [
       "[0.919189  1.55762  0.23653  0.508898]"
      ]
     },
     "execution_count": 10,
     "metadata": {},
     "output_type": "execute_result"
    }
   ],
   "source": [
    "error = bce(np.expand_dims(Y,1),output_a).T\n",
    "Matrix(error)"
   ]
  },
  {
   "cell_type": "code",
   "execution_count": 11,
   "metadata": {},
   "outputs": [
    {
     "data": {
      "text/latex": [
       "$\\displaystyle \\left[\\begin{matrix}0.919189 & 1.55762 & 0.23653 & 0.508898\\end{matrix}\\right]$"
      ],
      "text/plain": [
       "[0.919189  1.55762  0.23653  0.508898]"
      ]
     },
     "execution_count": 11,
     "metadata": {},
     "output_type": "execute_result"
    }
   ],
   "source": [
    "# Check against Keras/Tensorflow calculations\n",
    "Matrix(keras.losses.binary_crossentropy(np.expand_dims(Y,1),output_a).numpy()).T"
   ]
  },
  {
   "cell_type": "markdown",
   "metadata": {},
   "source": [
    "OK, so we have a match on our error function. That is, both our numpy/sympy tools and our keras/tensorflow tools are calculating the same error/loss values (you might see a very slight numerical difference but it should still be the same within five decimal places). Let's proceed then with the first step of error backpropagation: calculating the **delta** terms for the output layer."
   ]
  },
  {
   "cell_type": "code",
   "execution_count": 12,
   "metadata": {},
   "outputs": [
    {
     "data": {
      "text/latex": [
       "$\\displaystyle \\left[\\begin{matrix}0.601158\\\\-0.789362\\\\-0.210638\\\\0.398842\\end{matrix}\\right]$"
      ],
      "text/plain": [
       "⎡0.601158 ⎤\n",
       "⎢         ⎥\n",
       "⎢-0.789362⎥\n",
       "⎢         ⎥\n",
       "⎢-0.210638⎥\n",
       "⎢         ⎥\n",
       "⎣0.398842 ⎦"
      ]
     },
     "execution_count": 12,
     "metadata": {},
     "output_type": "execute_result"
    }
   ],
   "source": [
    "output_deltas = dbce(np.expand_dims(Y,1),output_a)*dsigmoid(output_net)\n",
    "Matrix(output_deltas)"
   ]
  },
  {
   "cell_type": "markdown",
   "metadata": {},
   "source": [
    "The delta term is just the derivative of the error function with respect to the unit activations times the derivative of the activation function with respect to the unit net inputs, just as described in the lecture slides.\n",
    "\n",
    "Note that there are 4 delta terms because there were 4 input patterns. In the end, we will average these together since we are interested in minimizing the expected loss across all patterns. Still, once we have the deltas we can use them to calculate the updates for the weights from the hidden layer to the output layer and also the bias weights on the output layer units."
   ]
  },
  {
   "cell_type": "code",
   "execution_count": 13,
   "metadata": {},
   "outputs": [
    {
     "data": {
      "text/latex": [
       "$\\displaystyle \\left[\\begin{matrix}-0.0151138\\\\-0.0144988\\end{matrix}\\right]$"
      ],
      "text/plain": [
       "⎡-0.0151138⎤\n",
       "⎢          ⎥\n",
       "⎣-0.0144988⎦"
      ]
     },
     "execution_count": 13,
     "metadata": {},
     "output_type": "execute_result"
    }
   ],
   "source": [
    "hidden_to_output_updates = -eta*np.dot(hidden_a.T,output_deltas)/N\n",
    "Matrix(hidden_to_output_updates)"
   ]
  },
  {
   "cell_type": "code",
   "execution_count": 14,
   "metadata": {},
   "outputs": [
    {
     "data": {
      "text/latex": [
       "$\\displaystyle \\left[\\begin{matrix}7.45058 \\cdot 10^{-10}\\end{matrix}\\right]$"
      ],
      "text/plain": [
       "[7.45058e-10]"
      ]
     },
     "execution_count": 14,
     "metadata": {},
     "output_type": "execute_result"
    }
   ],
   "source": [
    "output_bias_updates = -eta*np.sum(output_deltas,0)/N\n",
    "Matrix(output_bias_updates)"
   ]
  },
  {
   "cell_type": "markdown",
   "metadata": {},
   "source": [
    "Looking at the above two calculations, we can see that we are using the hidden layer activations (hidden_a) and the output layer deltas (output_deltas) to calculate the weights changes for the weights going from the hidden layer to the output layer (there are just 2 of them and so we have 2 corresponding updates). We also have an update for the output unit's single bias weight. The bias weight can be thought of as connecting to an upstream unit that is always producing a value of 1, therefore you apply the average output delta to this weight in full. This is essentially the delta rule just like we saw two labs prior.\n",
    "\n",
    "Let's then proceed to the really important part of backpropagation, where the hidden layer deltas are calculated:"
   ]
  },
  {
   "cell_type": "code",
   "execution_count": 15,
   "metadata": {},
   "outputs": [
    {
     "data": {
      "text/latex": [
       "$\\displaystyle \\left[\\begin{matrix}0.191895 & 0.557372\\\\-0.120046 & -0.056051\\\\-0.0320337 & -0.0149569\\\\0.127314 & 0.369792\\end{matrix}\\right]$"
      ],
      "text/plain": [
       "⎡ 0.191895    0.557372 ⎤\n",
       "⎢                      ⎥\n",
       "⎢-0.120046   -0.056051 ⎥\n",
       "⎢                      ⎥\n",
       "⎢-0.0320337  -0.0149569⎥\n",
       "⎢                      ⎥\n",
       "⎣ 0.127314    0.369792 ⎦"
      ]
     },
     "execution_count": 15,
     "metadata": {},
     "output_type": "execute_result"
    }
   ],
   "source": [
    "hidden_deltas = np.outer(output_deltas,hidden_to_output.T)*dtanh(hidden_net)\n",
    "Matrix(hidden_deltas)"
   ]
  },
  {
   "cell_type": "markdown",
   "metadata": {},
   "source": [
    "There are 2 hidden units in the network, but a delta is calculated for each pattern resulting in a $4x2$ matrix of delta values. These are calculated using the weighted sums of the output deltas passed *backward* along the connection weights (from the output units to the hidden units). We finally also fold in the derivative of the activation function as well, just as we did for the output units. However, we use the hyperbolic tangent's first derivative since that's the activation function we chose for these units.\n",
    "\n",
    "Using the hidden layer deltas in combination with the input layer activations, we can calculate updates for the weights going from the input layer to the hidden layer."
   ]
  },
  {
   "cell_type": "code",
   "execution_count": 16,
   "metadata": {},
   "outputs": [
    {
     "data": {
      "text/latex": [
       "$\\displaystyle \\left[\\begin{matrix}-0.000585785042494535 & 0.00366213545203209\\\\0.0038148301653564 & 0.00571683868765831\\end{matrix}\\right]$"
      ],
      "text/plain": [
       "⎡-0.000585785042494535  0.00366213545203209⎤\n",
       "⎢                                          ⎥\n",
       "⎣ 0.0038148301653564    0.00571683868765831⎦"
      ]
     },
     "execution_count": 16,
     "metadata": {},
     "output_type": "execute_result"
    }
   ],
   "source": [
    "input_to_hidden_updates = -eta*np.dot(input_a.T,hidden_deltas)/N\n",
    "Matrix(input_to_hidden_updates)"
   ]
  },
  {
   "cell_type": "code",
   "execution_count": 17,
   "metadata": {},
   "outputs": [
    {
     "data": {
      "text/latex": [
       "$\\displaystyle \\left[\\begin{matrix}-0.00417823\\\\-0.0214039\\end{matrix}\\right]$"
      ],
      "text/plain": [
       "⎡-0.00417823⎤\n",
       "⎢           ⎥\n",
       "⎣-0.0214039 ⎦"
      ]
     },
     "execution_count": 17,
     "metadata": {},
     "output_type": "execute_result"
    }
   ],
   "source": [
    "hidden_bias_updates = -eta*np.mean(hidden_deltas,0)\n",
    "Matrix(hidden_bias_updates)"
   ]
  },
  {
   "cell_type": "markdown",
   "metadata": {},
   "source": [
    "OK, at this point, we now have a complete backward pass, and all of the corresponding weight updates for each weight in the network. We just need to apply those updates to the current weights in order to learn (just add them to the current weights). However, we will also need to verify that keras does the same thing for us for one epoch of training since this is what we have performed just now with numpy/sympy.\n",
    "\n",
    "Let's first calculate the updates with keras, and compare our loss calculations with those reported by keras during the learning phase using `fit()`:"
   ]
  },
  {
   "cell_type": "code",
   "execution_count": 18,
   "metadata": {},
   "outputs": [
    {
     "data": {
      "image/png": "[encoded data removed]",
      "text/latex": [
       "$\\displaystyle \\left[ 0.8055582046508789\\right]$"
      ],
      "text/plain": [
       "[0.8055582046508789]"
      ]
     },
     "execution_count": 18,
     "metadata": {},
     "output_type": "execute_result"
    }
   ],
   "source": [
    "history = model.fit(X,Y,epochs=1,verbose=0,shuffle=False)\n",
    "history.history['loss']"
   ]
  },
  {
   "cell_type": "code",
   "execution_count": 19,
   "metadata": {},
   "outputs": [
    {
     "data": {
      "text/latex": [
       "$\\displaystyle \\left[\\begin{matrix}0.805558\\end{matrix}\\right]$"
      ],
      "text/plain": [
       "[0.805558]"
      ]
     },
     "execution_count": 19,
     "metadata": {},
     "output_type": "execute_result"
    }
   ],
   "source": [
    "Matrix([np.sum(bce(np.expand_dims(Y,1),output_a))/N])"
   ]
  },
  {
   "cell_type": "markdown",
   "metadata": {},
   "source": [
    "Our loss function reports very close agreement with keras so we can be confident that we have calculated our weight updates to the same degree of precision. We will use this 6 digits of precision when comparing the weights below to check...\n",
    "\n",
    "Let's look at the new weights from the keras model:"
   ]
  },
  {
   "cell_type": "code",
   "execution_count": 21,
   "metadata": {},
   "outputs": [
    {
     "data": {
      "text/latex": [
       "$\\displaystyle \\left[\\begin{matrix}0.252581 & 0.927861\\\\-0.945111 & -1.03526\\end{matrix}\\right]$"
      ],
      "text/plain": [
       "⎡0.252581   0.927861⎤\n",
       "⎢                   ⎥\n",
       "⎣-0.945111  -1.03526⎦"
      ]
     },
     "metadata": {},
     "output_type": "display_data"
    },
    {
     "data": {
      "text/latex": [
       "$\\displaystyle \\left[\\begin{matrix}-0.004178\\\\-0.021404\\end{matrix}\\right]$"
      ],
      "text/plain": [
       "⎡-0.004178⎤\n",
       "⎢         ⎥\n",
       "⎣-0.021404⎦"
      ]
     },
     "metadata": {},
     "output_type": "display_data"
    },
    {
     "data": {
      "text/latex": [
       "$\\displaystyle \\left[\\begin{matrix}0.485219\\\\0.925366\\end{matrix}\\right]$"
      ],
      "text/plain": [
       "⎡0.485219⎤\n",
       "⎢        ⎥\n",
       "⎣0.925366⎦"
      ]
     },
     "metadata": {},
     "output_type": "display_data"
    },
    {
     "data": {
      "text/latex": [
       "$\\displaystyle \\left[\\begin{matrix}0.0\\end{matrix}\\right]$"
      ],
      "text/plain": [
       "[0.0]"
      ]
     },
     "metadata": {},
     "output_type": "display_data"
    }
   ],
   "source": [
    "for x in model.get_weights():\n",
    "    display(Matrix(np.round(x,6)))"
   ]
  },
  {
   "cell_type": "markdown",
   "metadata": {},
   "source": [
    "And now with our numpy/sympy version:"
   ]
  },
  {
   "cell_type": "code",
   "execution_count": 22,
   "metadata": {},
   "outputs": [
    {
     "data": {
      "text/latex": [
       "$\\displaystyle \\left[\\begin{matrix}0.252581 & 0.927861\\\\-0.945111 & -1.035257\\end{matrix}\\right]$"
      ],
      "text/plain": [
       "⎡0.252581   0.927861 ⎤\n",
       "⎢                    ⎥\n",
       "⎣-0.945111  -1.035257⎦"
      ]
     },
     "metadata": {},
     "output_type": "display_data"
    },
    {
     "data": {
      "text/latex": [
       "$\\displaystyle \\left[\\begin{matrix}-0.004178\\\\-0.021404\\end{matrix}\\right]$"
      ],
      "text/plain": [
       "⎡-0.004178⎤\n",
       "⎢         ⎥\n",
       "⎣-0.021404⎦"
      ]
     },
     "metadata": {},
     "output_type": "display_data"
    },
    {
     "data": {
      "text/latex": [
       "$\\displaystyle \\left[\\begin{matrix}0.485219\\\\0.925366\\end{matrix}\\right]$"
      ],
      "text/plain": [
       "⎡0.485219⎤\n",
       "⎢        ⎥\n",
       "⎣0.925366⎦"
      ]
     },
     "metadata": {},
     "output_type": "display_data"
    },
    {
     "data": {
      "text/latex": [
       "$\\displaystyle \\left[\\begin{matrix}0.0\\end{matrix}\\right]$"
      ],
      "text/plain": [
       "[0.0]"
      ]
     },
     "metadata": {},
     "output_type": "display_data"
    }
   ],
   "source": [
    "# Apply weight updates\n",
    "new_weights = [input_to_hidden + input_to_hidden_updates,\n",
    "               hidden_bias + hidden_bias_updates,\n",
    "               hidden_to_output + hidden_to_output_updates,\n",
    "               output_bias + output_bias_updates]\n",
    "for x in new_weights:\n",
    "    display(Matrix(np.round(x,6)))"
   ]
  },
  {
   "cell_type": "markdown",
   "metadata": {},
   "source": [
    "Note that I have needed to round the results to about 6 digits of precision to observe agreement. There are some slight numerical difference between the way that keras calculates certain quantities compared to numpy/sympy, but we can clearly see how keras makes model construction and training very simple. Even the numpy/sympy approach is much easier than lower level languages like C/C++/Fortran.\n",
    "\n",
    "So, there you have it: error backpropagation from \"scratch\"."
   ]
  },
  {
   "cell_type": "markdown",
   "metadata": {},
   "source": [
    "## Visualizing/Understanding Network Behavior\n",
    "\n",
    "Before we get to fully training up the model, let's see if we can set up a visualization tool that will help us understand how the network is behaving. Simple examples can be very insightful since they can often be investigated more thoroughly than a more complex example, given that the simple example contains the interesting elements that we are looking for.\n",
    "\n",
    "First, we will create a **meshgrid** of data points (i.e. feature vectors) which _cover_ the space of input vectors for the XOR task thoroughly. This isn't easy to do in a high-dimensional space, since the space requirements grow exponentially with the dimensionality of the input vectors. However, just two dimensions can be visualized and covered with a reasonable number of points.\n",
    "\n",
    "The `linspace()` function will be used again to create a set of points, now ranging from -2 to 2 (20 distinct values in that range). Next, we use the `meshgrid()` function to create all possible combinations of those values (20x20=400 points!). The `xgrid` and `ygrid` data structures are each 20x20 matrices, where each point we want to visualize will be a combination of corresponding values from each matrix: $\\left[ xgrid_{ij}, ygrid_{ij} \\right]$ for all i,j. However, this means we need to flatten each of those matrices and combine their corresponding elements into these 2-dimensional vectors. We use a combination of `ravel()` (to perform the flattening) and `vstack()` (to perform the concatenation). The result will actually be the transpose of the final data matrix that we want, so don't forget the `T` at the end.\n",
    "\n",
    "Now, we will plot all of those data points in green just to show the grid we have made. However, we will also then plot the XOR input vectors (X) colored by their corresponding class labels (0,1), and also a little larger to make them stand out. In this case, __red is zero, and blue is one__."
   ]
  },
  {
   "cell_type": "code",
   "execution_count": 23,
   "metadata": {},
   "outputs": [
    {
     "data": {
      "image/png": "[encoded data removed]",
      "text/plain": [
       "<Figure size 432x288 with 1 Axes>"
      ]
     },
     "metadata": {
      "needs_background": "light"
     },
     "output_type": "display_data"
    }
   ],
   "source": [
    "# Sample plot of classification space\n",
    "xpoints = np.linspace(-2,2,20)\n",
    "ypoints = np.linspace(-2,2,20)\n",
    "xgrid, ygrid = np.meshgrid(xpoints,ypoints)\n",
    "positions = np.vstack([xgrid.ravel(),ygrid.ravel()]).T\n",
    "\n",
    "# Green grid points where we will evaluate the network\n",
    "# outputs.\n",
    "plt.plot(positions[:,0],positions[:,1],'go')\n",
    "\n",
    "# Color the zero-expected outputs red\n",
    "plt.plot(X[[0,3],0],X[[0,3],1],'ro',markersize=10)\n",
    "# Color the one-expected outputs blue\n",
    "plt.plot(X[[1,2],0],X[[1,2],1],'bo',markersize=10)\n",
    "plt.show()"
   ]
  },
  {
   "cell_type": "markdown",
   "metadata": {},
   "source": [
    "Now, let's use this data to visualize how the XOR network behaves. That is, we can use the visualization to examine the current decision boundary that the network is using. You may ask, how could there be a boundary before training? Well, we initialize the weights in the network randomly, so while probably not very useful, the boundary is already there.\n",
    "\n",
    "For this operation, we need to use the `predict_classes()` function from the model. This is similar to \"testing\" the neural network, but instead of calculating a loss or accuracy value, we prefer to just see what class label (`predictions`) was assigned to each input vector. We provide all of the grid `positions` calculated above and each one gets assigned to a class of 0 or 1. We can then separate the data into two sets: those input vectors classified as a zero and those input vectors classified as a one. We perform a slice using a boolean operator this time, and then select the matching rows from the `positions` matrix and create two non-overlapping matrices of vectors: `zeros` and `ones`.\n",
    "\n",
    "Now, rather than coloring them green, we can color them according to the class label that the network _predicted_ for each vector in the grid. By making the XOR vectors a little larger on the plot, it's easy to separate them from the others in the grid as well."
   ]
  },
  {
   "cell_type": "code",
   "execution_count": 24,
   "metadata": {},
   "outputs": [
    {
     "data": {
      "image/png": "[encoded data removed]",
      "text/plain": [
       "<Figure size 432x288 with 1 Axes>"
      ]
     },
     "metadata": {
      "needs_background": "light"
     },
     "output_type": "display_data"
    }
   ],
   "source": [
    "# Let's color those points by the classification labels...\n",
    "predictions = model.predict_classes(positions)[:,0]\n",
    "zeros = positions[predictions==0,:]\n",
    "ones = positions[predictions==1,:]\n",
    "\n",
    "# Color predictions by class\n",
    "plt.plot(zeros[:,0],zeros[:,1],'ro')\n",
    "plt.plot(ones[:,0],ones[:,1],'bo')\n",
    "\n",
    "# Color the zero-expected outputs red\n",
    "plt.plot(X[[0,3],0],X[[0,3],1],'ro',markersize=10)\n",
    "# Color the one-expected outputs blue\n",
    "plt.plot(X[[1,2],0],X[[1,2],1],'bo',markersize=10)\n",
    "\n",
    "plt.show()"
   ]
  },
  {
   "cell_type": "markdown",
   "metadata": {},
   "source": [
    "The grid point covering let's us visualize the decision boundary determined by the network, since the grid points will change from red to blue or vice-versa.\n",
    "\n",
    "As you can see, the network starts with a suboptimal decision boundary for the task (as expected). Now, let's see if the network can learn to solve the problem."
   ]
  },
  {
   "cell_type": "code",
   "execution_count": 25,
   "metadata": {},
   "outputs": [],
   "source": [
    "# Train it!\n",
    "history = model.fit(X, Y,\n",
    "    batch_size=1,\n",
    "    epochs=1000,\n",
    "    verbose=0)"
   ]
  },
  {
   "cell_type": "code",
   "execution_count": 26,
   "metadata": {},
   "outputs": [
    {
     "data": {
      "image/png": "[encoded data removed]",
      "text/plain": [
       "<Figure size 432x288 with 1 Axes>"
      ]
     },
     "metadata": {
      "needs_background": "light"
     },
     "output_type": "display_data"
    }
   ],
   "source": [
    "# summarize history for loss  \n",
    "plt.plot(history.history['loss'])  \n",
    "plt.title('model loss')  \n",
    "plt.ylabel('loss')  \n",
    "plt.xlabel('epoch')  \n",
    "plt.legend(['training'], loc='upper left')  \n",
    "plt.show()"
   ]
  },
  {
   "cell_type": "code",
   "execution_count": 27,
   "metadata": {},
   "outputs": [
    {
     "name": "stdout",
     "output_type": "stream",
     "text": [
      "4/4 [==============================] - 0s 33ms/step\n",
      "0.0\n"
     ]
    }
   ],
   "source": [
    "score = model.evaluate(X,Y,verbose=1)\n",
    "print(score[1])"
   ]
  },
  {
   "cell_type": "markdown",
   "metadata": {},
   "source": [
    "Note that the evaluation score here is *error* or *loss* which is zero when things are going well, so it looks like it might have been successful.\n",
    "\n",
    "Now that we have trained the network for a little while, let's see what the network has learned. We can perform the same steps as above, but using predictions from the network _after training_."
   ]
  },
  {
   "cell_type": "code",
   "execution_count": 28,
   "metadata": {},
   "outputs": [
    {
     "data": {
      "image/png": "[encoded data removed]",
      "text/plain": [
       "<Figure size 432x288 with 1 Axes>"
      ]
     },
     "metadata": {
      "needs_background": "light"
     },
     "output_type": "display_data"
    }
   ],
   "source": [
    "# Let's color those points by the classification labels...\n",
    "predictions = model.predict_classes(positions)[:,0]\n",
    "zeros = positions[predictions==0,:]\n",
    "ones = positions[predictions==1,:]\n",
    "\n",
    "# Color predictions by class\n",
    "plt.plot(zeros[:,0],zeros[:,1],'ro')\n",
    "plt.plot(ones[:,0],ones[:,1],'bo')\n",
    "\n",
    "# Color the zero-expected outputs red\n",
    "plt.plot(X[[0,3],0],X[[0,3],1],'ro',markersize=10)\n",
    "# Color the one-expected outputs blue\n",
    "plt.plot(X[[1,2],0],X[[1,2],1],'bo',markersize=10)\n",
    "\n",
    "plt.show()"
   ]
  },
  {
   "cell_type": "markdown",
   "metadata": {},
   "source": [
    "So, the tanh hidden units were able to provide good boundaries that the output unit could use to decipher the class structure in the data, even in a non-linear manner. If you reinitialized the network weights, you might find that the learned boundary is not always the same. Some problems can be solved in different ways, and therefore different networks may utilize different ways of partitioning the feature space to solve them even if being trained on _the same data_."
   ]
  },
  {
   "cell_type": "markdown",
   "metadata": {},
   "source": [
    "## Enter the ReLU\n",
    "\n",
    "Let's try to see what happens if we utilize our new activation function, ReLU, which we now know has some nice properties for solving complex problems using deeper networks.\n",
    "\n",
    "The same approach will be used here as was used above, so we will only replace the tanh function with the ReLU activation function. Remember that it has been suggested in the deep learning literature, that initializing the _bias weights_ on ReLU units to small positive values. We will use that technique here to demonstrate how this might work, but it _may not always be a good idea_. Keep that in mind during the exercises below..."
   ]
  },
  {
   "cell_type": "code",
   "execution_count": 29,
   "metadata": {},
   "outputs": [
    {
     "name": "stdout",
     "output_type": "stream",
     "text": [
      "Model: \"sequential_2\"\n",
      "_________________________________________________________________\n",
      "Layer (type)                 Output Shape              Param #   \n",
      "=================================================================\n",
      "dense_3 (Dense)              (None, 2)                 6         \n",
      "_________________________________________________________________\n",
      "dense_4 (Dense)              (None, 1)                 3         \n",
      "=================================================================\n",
      "Total params: 9\n",
      "Trainable params: 9\n",
      "Non-trainable params: 0\n",
      "_________________________________________________________________\n"
     ]
    }
   ],
   "source": [
    "# Multi-layer net with ReLU hidden layer\n",
    "model = keras.models.Sequential()\n",
    "\n",
    "# Here we make the hidden layer (size 2) with a ReL\n",
    "# activation function, but also initialize the bias\n",
    "# weights in the network to a constant 0.1\n",
    "model.add(keras.layers.Dense(2,input_dim=2,activation='relu',\n",
    "                             bias_initializer=keras.initializers.Constant(0.1)))\n",
    "\n",
    "# Output layer (size 1), sigmoid activation function\n",
    "model.add(keras.layers.Dense(1,activation='sigmoid'))\n",
    "\n",
    "# Compile as above (default learning rate and other\n",
    "# hyperparameters for the Adam optimizer).\n",
    "model.compile(loss='binary_crossentropy',optimizer='nadam')\n",
    "\n",
    "# Display the model\n",
    "model.summary()"
   ]
  },
  {
   "cell_type": "code",
   "execution_count": 30,
   "metadata": {},
   "outputs": [
    {
     "data": {
      "text/latex": [
       "$\\displaystyle \\left[\\begin{matrix}1.00993 & -0.311815\\\\-0.277158 & 1.13049\\end{matrix}\\right]$"
      ],
      "text/plain": [
       "⎡ 1.00993   -0.311815⎤\n",
       "⎢                    ⎥\n",
       "⎣-0.277158   1.13049 ⎦"
      ]
     },
     "metadata": {},
     "output_type": "display_data"
    },
    {
     "data": {
      "text/latex": [
       "$\\displaystyle \\left[\\begin{matrix}0.1\\\\0.1\\end{matrix}\\right]$"
      ],
      "text/plain": [
       "⎡0.1⎤\n",
       "⎢   ⎥\n",
       "⎣0.1⎦"
      ]
     },
     "metadata": {},
     "output_type": "display_data"
    },
    {
     "data": {
      "text/latex": [
       "$\\displaystyle \\left[\\begin{matrix}0.853216\\\\-1.19524\\end{matrix}\\right]$"
      ],
      "text/plain": [
       "⎡0.853216⎤\n",
       "⎢        ⎥\n",
       "⎣-1.19524⎦"
      ]
     },
     "metadata": {},
     "output_type": "display_data"
    },
    {
     "data": {
      "text/latex": [
       "$\\displaystyle \\left[\\begin{matrix}0.0\\end{matrix}\\right]$"
      ],
      "text/plain": [
       "[0.0]"
      ]
     },
     "metadata": {},
     "output_type": "display_data"
    }
   ],
   "source": [
    "# Note the initializer for the hidden unit bias weights\n",
    "for i in model.get_weights():\n",
    "    display(Matrix(i))"
   ]
  },
  {
   "cell_type": "markdown",
   "metadata": {},
   "source": [
    "Let's see how this net stacks up to the tanh net using our visualization method above. Remember, we are still _pre-training_ here for this network."
   ]
  },
  {
   "cell_type": "code",
   "execution_count": 31,
   "metadata": {},
   "outputs": [
    {
     "data": {
      "image/png": "[encoded data removed]",
      "text/plain": [
       "<Figure size 432x288 with 1 Axes>"
      ]
     },
     "metadata": {
      "needs_background": "light"
     },
     "output_type": "display_data"
    }
   ],
   "source": [
    "# Let's color those points by the classification labels...\n",
    "predictions = model.predict_classes(positions)[:,0]\n",
    "zeros = positions[predictions==0,:]\n",
    "ones = positions[predictions==1,:]\n",
    "\n",
    "# Color predictions by class\n",
    "plt.plot(zeros[:,0],zeros[:,1],'ro')\n",
    "plt.plot(ones[:,0],ones[:,1],'bo')\n",
    "\n",
    "# Color the zero-expected outputs red\n",
    "plt.plot(X[[0,3],0],X[[0,3],1],'ro',markersize=10)\n",
    "# Color the one-expected outputs blue\n",
    "plt.plot(X[[1,2],0],X[[1,2],1],'bo',markersize=10)\n",
    "\n",
    "plt.show()"
   ]
  },
  {
   "cell_type": "markdown",
   "metadata": {},
   "source": [
    "Sometimes, we will see a boundary, but with certain initial sets of weights we may not. Let's see if some training pushes that boundary into (or closer to) the visible space of input vectors..."
   ]
  },
  {
   "cell_type": "code",
   "execution_count": 32,
   "metadata": {},
   "outputs": [],
   "source": [
    "# Train it!\n",
    "history = model.fit(X, Y,\n",
    "    batch_size=1,\n",
    "    epochs=1000,\n",
    "    verbose=0)"
   ]
  },
  {
   "cell_type": "code",
   "execution_count": 33,
   "metadata": {},
   "outputs": [
    {
     "data": {
      "image/png": "[encoded data removed]",
      "text/plain": [
       "<Figure size 432x288 with 1 Axes>"
      ]
     },
     "metadata": {
      "needs_background": "light"
     },
     "output_type": "display_data"
    }
   ],
   "source": [
    "# summarize history for loss  \n",
    "plt.plot(history.history['loss'])  \n",
    "plt.title('model loss')  \n",
    "plt.ylabel('loss')  \n",
    "plt.xlabel('epoch')  \n",
    "plt.legend(['training'], loc='upper left')  \n",
    "plt.show()"
   ]
  },
  {
   "cell_type": "code",
   "execution_count": 34,
   "metadata": {},
   "outputs": [
    {
     "data": {
      "image/png": "[encoded data removed]",
      "text/plain": [
       "<Figure size 432x288 with 1 Axes>"
      ]
     },
     "metadata": {
      "needs_background": "light"
     },
     "output_type": "display_data"
    }
   ],
   "source": [
    "# Let's color those points by the classification labels...\n",
    "predictions = model.predict_classes(positions)[:,0]\n",
    "zeros = positions[predictions==0,:]\n",
    "ones = positions[predictions==1,:]\n",
    "\n",
    "# Color predictions by class\n",
    "plt.plot(zeros[:,0],zeros[:,1],'ro')\n",
    "plt.plot(ones[:,0],ones[:,1],'bo')\n",
    "\n",
    "# Color the zero-expected outputs red\n",
    "plt.plot(X[[0,3],0],X[[0,3],1],'ro',markersize=10)\n",
    "# Color the one-expected outputs blue\n",
    "plt.plot(X[[1,2],0],X[[1,2],1],'bo',markersize=10)\n",
    "\n",
    "plt.show()"
   ]
  },
  {
   "cell_type": "markdown",
   "metadata": {},
   "source": [
    "Well, that's not very promising is it? Is ReLU that useful after-all? What might be the problem here?\n",
    "\n",
    "We've seen how to train a multilayer network using both tanh and ReLU at least, even if the results are not very spectacular. However, you should have some intuition about how this problem might be rectified using some hints on the lecture slides and what we have talked about in class..."
   ]
  },
  {
   "cell_type": "markdown",
   "metadata": {},
   "source": [
    "## Classifying MNIST\n",
    "\n",
    "The MNIST data set consists of 60,000 images of handwritten digits for training and 10,000 images of handwritten digits for testing. We looked at this data in our last homework assignment some, but now we will try to train up a network for classifying these images.\n",
    "\n",
    "First, let's load the data and prepare it for presentation to a network."
   ]
  },
  {
   "cell_type": "code",
   "execution_count": 35,
   "metadata": {},
   "outputs": [
    {
     "name": "stdout",
     "output_type": "stream",
     "text": [
      "x_train shape: (60000, 784)\n",
      "y_train shape: (60000, 10)\n",
      "60000 train samples\n",
      "10000 test samples\n"
     ]
    }
   ],
   "source": [
    "from keras.datasets import mnist\n",
    "\n",
    "# Digits are zero through nine, so 10 classes\n",
    "num_classes = 10\n",
    "\n",
    "# input image dimensions\n",
    "img_rows, img_cols = 28, 28\n",
    "\n",
    "# the data, shuffled and split between train and test sets\n",
    "(x_train, y_train), (x_test, y_test) = mnist.load_data()\n",
    "\n",
    "x_train = x_train.reshape(x_train.shape[0], img_rows * img_cols)\n",
    "x_test = x_test.reshape(x_test.shape[0], img_rows * img_cols)\n",
    "\n",
    "# Data normalization (0-255 is encoded as 0-1 instead)\n",
    "x_train = x_train.astype('float32')\n",
    "x_test = x_test.astype('float32')\n",
    "x_train /= 255.0\n",
    "x_test /= 255.0\n",
    "\n",
    "# Convert class vectors to binary class matrices\n",
    "y_train = keras.utils.to_categorical(y_train, num_classes)\n",
    "y_test = keras.utils.to_categorical(y_test, num_classes)\n",
    "\n",
    "# Shape information\n",
    "print('x_train shape:', x_train.shape)\n",
    "print('y_train shape:', y_train.shape)\n",
    "print(x_train.shape[0], 'train samples')\n",
    "print(x_test.shape[0], 'test samples')"
   ]
  },
  {
   "cell_type": "markdown",
   "metadata": {},
   "source": [
    "You can see that we have flattened each image (28x28 pixels) into a 728-element vector using the `reshape()` function. The intensity values in the original data are in the range 0-255, but we divide them all by 255 in order to scale the intensity between 0 and 1. This just keeps us from starting at extreme values in the weight space (where tanh and sigmoid get stuck easily). Finally, we convert the integer class labels (originally just 0,1,2,...,9) into the categorical, one-hot representation that we need for `categorical cross-entropy`.\n",
    "\n",
    "OK, so we need to train a network to recognize these digits. We will fully utilize the training/validation data alone when tuning parameters, and run a final accuracy check on the _test_ data which was _never seen_ during the training process. Let's see what a __single-layer__ network can do to start with..."
   ]
  },
  {
   "cell_type": "code",
   "execution_count": 36,
   "metadata": {},
   "outputs": [
    {
     "name": "stdout",
     "output_type": "stream",
     "text": [
      "Model: \"sequential_3\"\n",
      "_________________________________________________________________\n",
      "Layer (type)                 Output Shape              Param #   \n",
      "=================================================================\n",
      "dense_5 (Dense)              (None, 10)                7850      \n",
      "=================================================================\n",
      "Total params: 7,850\n",
      "Trainable params: 7,850\n",
      "Non-trainable params: 0\n",
      "_________________________________________________________________\n"
     ]
    }
   ],
   "source": [
    "model = keras.models.Sequential()\n",
    "\n",
    "# Linear\n",
    "model.add(keras.layers.Dense(num_classes, activation='softmax',input_shape=[x_train.shape[1]]))\n",
    "model.compile(loss=keras.losses.categorical_crossentropy,\n",
    "              optimizer=keras.optimizers.Nadam(),\n",
    "              metrics=['accuracy'])\n",
    "model.summary()"
   ]
  },
  {
   "cell_type": "markdown",
   "metadata": {},
   "source": [
    "There is quite a bit of data to get through here: 180,000 image presentations to the network across 30 epochs, so be patient while it's training up. In truth, keras will make rather quick work of it by utilizing the parallel resources on biosim or your own machine quite effectively. We will learn more about that process later in the semester."
   ]
  },
  {
   "cell_type": "code",
   "execution_count": 37,
   "metadata": {},
   "outputs": [
    {
     "name": "stdout",
     "output_type": "stream",
     "text": [
      "Test loss: 0.27487018554508685\n",
      "Test accuracy: 0.9276999831199646\n"
     ]
    }
   ],
   "source": [
    "# Train it!\n",
    "history = model.fit(x_train, y_train,\n",
    "          batch_size=128,\n",
    "          epochs=30,\n",
    "          verbose=0,\n",
    "          validation_split = 0.2)\n",
    "score = model.evaluate(x_test, y_test, verbose=0)\n",
    "print('Test loss:', score[0])\n",
    "print('Test accuracy:', score[1])"
   ]
  },
  {
   "cell_type": "code",
   "execution_count": 38,
   "metadata": {},
   "outputs": [
    {
     "data": {
      "image/png": "[encoded data removed]",
      "text/plain": [
       "<Figure size 432x288 with 2 Axes>"
      ]
     },
     "metadata": {
      "needs_background": "light"
     },
     "output_type": "display_data"
    }
   ],
   "source": [
    "plt.figure()  \n",
    "   \n",
    "# summarize history for accuracy  \n",
    "   \n",
    "plt.subplot(211)  \n",
    "plt.plot(history.history['accuracy'])  \n",
    "plt.plot(history.history['val_accuracy'])  \n",
    "plt.title('model accuracy')  \n",
    "plt.ylabel('accuracy')  \n",
    "plt.xlabel('epoch')  \n",
    "plt.legend(['training', 'validation'], loc='upper left')  \n",
    "   \n",
    "# summarize history for loss  \n",
    "   \n",
    "plt.subplot(212)  \n",
    "plt.plot(history.history['loss'])  \n",
    "plt.plot(history.history['val_loss'])  \n",
    "plt.title('model loss')  \n",
    "plt.ylabel('loss')  \n",
    "plt.xlabel('epoch')  \n",
    "plt.legend(['training', 'validation'], loc='upper left')\n",
    "\n",
    "plt.tight_layout()\n",
    "plt.show()  "
   ]
  },
  {
   "cell_type": "markdown",
   "metadata": {},
   "source": [
    "Excellent! Let's take one more look at that accuracy..."
   ]
  },
  {
   "cell_type": "code",
   "execution_count": 39,
   "metadata": {},
   "outputs": [
    {
     "name": "stdout",
     "output_type": "stream",
     "text": [
      "Test loss: 0.27487018554508685\n",
      "Test accuracy: 0.9276999831199646\n"
     ]
    }
   ],
   "source": [
    "score = model.evaluate(x_test, y_test, verbose=0)\n",
    "print('Test loss:', score[0])\n",
    "print('Test accuracy:', score[1])"
   ]
  },
  {
   "cell_type": "markdown",
   "metadata": {},
   "source": [
    "Just a single layer network is capable of performing above 92% accuracy on examples that it has never even seen during training. So, the gauntlet has been thown: can a deeper net do better? We'll find out..."
   ]
  }
 ],
 "metadata": {
  "kernelspec": {
   "display_name": "Python 3",
   "language": "python",
   "name": "python3"
  },
  "language_info": {
   "codemirror_mode": {
    "name": "ipython",
    "version": 3
   },
   "file_extension": ".py",
   "mimetype": "text/x-python",
   "name": "python",
   "nbconvert_exporter": "python",
   "pygments_lexer": "ipython3",
   "version": "3.7.6"
  }
 },
 "nbformat": 4,
 "nbformat_minor": 4
}
