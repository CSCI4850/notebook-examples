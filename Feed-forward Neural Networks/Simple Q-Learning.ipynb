{
 "cells": [
  {
   "cell_type": "markdown",
   "metadata": {},
   "source": [
    "## Q-Learning with Feed-forward Neural Networks\n",
    "\n",
    "Reinforcement learning covers a broad range of problems where we would like to provide only a sparse feedback signal (in either spatial or temporal terms) and still have an agent learn to solve the problem of interest. Such problems are of the sort where manually labeling feedback (such as used for supervised learning) would be too cumbersome or time-consuming. Often, it is easy to describe situations which are \"good\" or \"preferable\" in some way rather than enumarating all of the steps needed to create such situations. We typically quantify these preferences in terms of a *scalar reward* which describes the level of \"goodness\" (positive) or \"badness\" (negative) with zero being an essentially neutral condition.\n",
    "\n",
    "For this example, we will utilize a feed-forward network to learn the so-called *Q-function* for a reinforcement learning agent which learns to solve a simple task while being provided a relatively simple, well-defined reward profile. The *Q-function* is an estimate of the *learned* value of state-action pairs, which can be leveraged for proper action selection and maximization of the *sum of discounted future rewards* that the agent receives. While the Q-function is often represented by an array which enumerates all possible state-action pairs and encodes the so-called Q-values for all such pairs, it is far more preferable to utilize a neural network for storing these values (learning the Q-function)."
   ]
  },
  {
   "cell_type": "markdown",
   "metadata": {},
   "source": [
    "## The Cart-Pole Problem\n",
    "\n",
    "We will be solving the classic cart-pole problem borrowed from the OpenAI Gym framework. OpenAI Gym is a good resource for learning how to program reinforcement learning agents since the gym provides a set of problem environments with a consistent, common interface. This allows us to focus on the development of the agent instead of the development of the environment. Nevertheless, some familiarity with the environment will be needed to start building the agent. One other interesting property of these environments is that they can be rendered to provide a snapshot of what the agent is experiencing which we can visualize as a third-party observer. The agent will only be provided a set of *features* from the environment for this problem, so the visualizations are just for our own learning/validation purposes.\n",
    "\n",
    "First, let's initialize the gym and the cart-pole environment, and visualize what the environment looks like at the start of a training *episode*..."
   ]
  },
  {
   "cell_type": "code",
   "execution_count": 11,
   "metadata": {},
   "outputs": [],
   "source": [
    "# OpenAI Gym\n",
    "import gym\n",
    "\n",
    "# Rendering tools\n",
    "import matplotlib.pyplot as plt\n",
    "%matplotlib inline\n",
    "from IPython.display import display\n",
    "from IPython.display import clear_output"
   ]
  },
  {
   "cell_type": "code",
   "execution_count": 12,
   "metadata": {},
   "outputs": [
    {
     "data": {
      "text/plain": [
       "array([-0.03369208, -0.02870218,  0.00063917, -0.04343481])"
      ]
     },
     "metadata": {},
     "output_type": "display_data"
    },
    {
     "data": {
      "image/png": "[encoded data removed]",
      "text/plain": [
       "<matplotlib.figure.Figure at 0x7f09449e7b00>"
      ]
     },
     "metadata": {},
     "output_type": "display_data"
    }
   ],
   "source": [
    "# Load the cart-pole environment\n",
    "env = gym.make('CartPole-v1')\n",
    "\n",
    "# Reinitialize the environment for an episode\n",
    "observation = env.reset()\n",
    "\n",
    "# Look at the features the agent will observe during training...\n",
    "display(observation)\n",
    "\n",
    "# Render the scene for our visualization purposes...\n",
    "plt.imshow(env.render(mode='rgb_array'))\n",
    "plt.title(\"New Episode\") \n",
    "plt.show()"
   ]
  },
  {
   "cell_type": "markdown",
   "metadata": {},
   "source": [
    "The black box at the bottom represents a cart which can be pushed to the left or right along the black line without friction. There is a pole balanced at the center of the cart which will begin to fall either to the left or right depending on the small amount of displacement of the pole's angle from 90 degrees. The agent will be allowed to apply a small force in either the left or right direction in an attempt to compensate for the falling pole in an attempt to balance it on the cart. For every timestep where the agent can keep the pole within 12 degrees of fully upright, the agent will be rewarded (r=1). We will also manually punish the agent by a larger amount (r=-10) when it \"drops the pole\" to more explicitly discourage poor performance (instead of only encouraging good performance). However, the agent will initially start untrained and will not be very good at understanding how to use the available actions to make sure that it experiences many rewards and avoids punishment. Also, the agent is provided with a list of features which correspond to the configuration of the environment for making such decisions:\n",
    "\n",
    "| Index | Feature | Minimum | Maximum |\n",
    "| --- | --- | --- | --- |\n",
    "| 0 | Cart Position | -2.4 | 2.4 |\n",
    "| 1 | Cart Velocity | -$\\infty$ | $\\infty$ |\n",
    "| 2 | Pole Angle | -41.8 | 41.8 |\n",
    "| 3 | Pole Velocity | -$\\infty$ | $\\infty$ |\n",
    "\n",
    "Older approaches to solving this problem have leveraged various methods to reencoding the input features into more informative forms, such as fuzzy bucket or thermometer encodings. However, more recent neural networks have been shown to be successful without having to reencode our input features which is both more intuitive and practical. Here we will provide this 4-element vector of features to represent the *state* of the environment for our network.\n",
    "\n",
    "Now that we have seen how to observe the environment, let's see if we can perform some actions (in this case completely random) to see if we can interact with the environment over time..."
   ]
  },
  {
   "cell_type": "code",
   "execution_count": 13,
   "metadata": {},
   "outputs": [
    {
     "data": {
      "text/plain": [
       "(4,)"
      ]
     },
     "metadata": {},
     "output_type": "display_data"
    },
    {
     "data": {
      "text/plain": [
       "2"
      ]
     },
     "metadata": {},
     "output_type": "display_data"
    }
   ],
   "source": [
    "# Shape of the observation vectors\n",
    "display(env.observation_space.shape)\n",
    "\n",
    "# Number of possible actions\n",
    "display(env.action_space.n)"
   ]
  },
  {
   "cell_type": "code",
   "execution_count": 17,
   "metadata": {},
   "outputs": [
    {
     "data": {
      "image/png": "[encoded data removed]",
      "text/plain": [
       "<matplotlib.figure.Figure at 0x7f090c1e1e48>"
      ]
     },
     "metadata": {},
     "output_type": "display_data"
    }
   ],
   "source": [
    "# Get some random tools :)\n",
    "import random\n",
    "\n",
    "# Initialize the environment and perform 10 random actions\n",
    "env.reset()\n",
    "reward = 0.0\n",
    "for time in range(10):\n",
    "    plt.imshow(env.render(mode='rgb_array'))\n",
    "    plt.title(\"%s | Time: %d | Reward: %f\" % (env.spec.id, time, reward))\n",
    "    clear_output(wait=True)\n",
    "    display(plt.gcf())\n",
    "    observation, reward, done, info = env.step(random.choice(range(env.action_space.n))) # take a random action\n",
    "    if (done):\n",
    "        break\n",
    "clear_output(wait=True)"
   ]
  },
  {
   "cell_type": "markdown",
   "metadata": {},
   "source": [
    "Let's unpack this a little...\n",
    "\n",
    "First, we `reset()` the environment object to set up the initial conditions of the episode. This is basically with the pole *very nearly* straight. We then loop over 10 iterations of interaction with the environment (one iteration is a *time step*). One each time step we will first, `render()` the current state and plot the corresponding image. In order to to this progressively (i.e. so there are not 10 different images displayed as output for the cell) we will then call `clear_output()` which was imported from `IPython.display`. This resets the output buffer even if a prior image was sent to the browser, hence we use the `wait=True` option to ensure rendering was over before clearing it away. Then we display the current plot (note that `plt.show()` is not being used) using the `display(plt.gcf())` command. In this way, on each time step the resulting plot will be rendered on top of the last plot, resulting in a \"movie\" of the output.\n",
    "\n",
    "On each time step, we utilize the `step()` function to both indicate which action we would like to perform (`random.choice(range(env.action_space.n)))`) and then collect the new state that results from taking this action (`observation`) along with additional data (r=`reward`, `done`, and `info`). We will not use the `info` field for working with this environment, but other environments may report additional information besides the other three (which are returned by default). The `reward` is the scalar reward value obtained from visiting the new state, and the `done` flag indicates whether the cart has moved beyond the boundaries of the task or beyond the 12 degree range allowed. It will be `False` until one of these two termination conditions is met when it will then be returned as `True`.\n",
    "\n",
    "The size of the action space for the problem is 2 since there are only two actions: apply force to the left or apply force to the right. We are just sampling randomly from these two actions on each step, so there is no intelligence in this agent. However, it should now be clear how the agent can be programmed to interface with the environment. All of our learning will consist in deciphering which action would need to be performed given the current state of the environment.\n",
    "\n",
    "We will come back to visualization of the task in this way later on when testing our agent's performance, but for now we will simple use the 4-element observation vector, 2 available actions, and scalar reward signal to train up a Q-learning agent to solve the problem.\n",
    "\n",
    "Our first step along this path is to create a neural network model which tried to predict the Q-value associate with state-action pairs, $Q(s,a)$. The network will receive the obsevation vector ($s$) as input, and then produce a $Q(s,a)$ for *each action*. Therefore, we will build a network with 4 input units and 2 output units. Q-values are also real-valued, so we will utilize the `linear` activation function for the output layer, similar to regression problems. Let's set up the network now, and see how we might use it to select an action for our agent to perform..."
   ]
  },
  {
   "cell_type": "code",
   "execution_count": 35,
   "metadata": {},
   "outputs": [
    {
     "name": "stdout",
     "output_type": "stream",
     "text": [
      "_________________________________________________________________\n",
      "Layer (type)                 Output Shape              Param #   \n",
      "=================================================================\n",
      "dense_19 (Dense)             (None, 20)                100       \n",
      "_________________________________________________________________\n",
      "dense_20 (Dense)             (None, 20)                420       \n",
      "_________________________________________________________________\n",
      "dense_21 (Dense)             (None, 2)                 42        \n",
      "=================================================================\n",
      "Total params: 562\n",
      "Trainable params: 562\n",
      "Non-trainable params: 0\n",
      "_________________________________________________________________\n"
     ]
    }
   ],
   "source": [
    "import keras\n",
    "import numpy as np\n",
    "\n",
    "# A simple multilayer architecture....\n",
    "model = keras.Sequential()\n",
    "model.add(keras.layers.Dense(20, input_shape=[env.observation_space.shape[0]], activation='relu'))\n",
    "model.add(keras.layers.Dense(20, activation='relu'))\n",
    "model.add(keras.layers.Dense(env.action_space.n, activation='linear'))\n",
    "model.compile(loss='mse',optimizer=keras.optimizers.Adam())\n",
    "\n",
    "model.summary()"
   ]
  },
  {
   "cell_type": "markdown",
   "metadata": {},
   "source": [
    "The network will be used to calculate/store the Q-function. Since we prefer to select actions that have high value (highest Q), we will present an state vector (`observation`) to the network and utilize the network outputs as predictions of the corresonding Q-values for the two state-action pairs that we are considering at the current time step. While we completed 10 time steps above randomly selecting our actions, instead the network will provide us with Q-values for making the decision."
   ]
  },
  {
   "cell_type": "code",
   "execution_count": 105,
   "metadata": {},
   "outputs": [
    {
     "data": {
      "text/plain": [
       "array([[ 1.034091  ,  0.56614125]], dtype=float32)"
      ]
     },
     "execution_count": 105,
     "metadata": {},
     "output_type": "execute_result"
    }
   ],
   "source": [
    "# Turn our observation vector into a matrix of observations\n",
    "# with only -one- observation and run predict()\n",
    "Q = model.predict(np.expand_dims(observation,axis=0))\n",
    "Q"
   ]
  },
  {
   "cell_type": "markdown",
   "metadata": {},
   "source": [
    "These are the predicted Q-values for the \"left\" and \"right\" actions for this environment. While the agent is using a randomly initialized network, and so will generally not produce reasonable Q values just yet, we will see this converge to the *sum of discounted rewards* desired under Q-learning theory. We will cover that more later, but for now let's see how we use that information to make a decision about how to act.\n",
    "\n",
    "The general idea is to prefer actions with the larger Q values, so generally we will select the action (either 0 for left of 1 for right) with the higher value:"
   ]
  },
  {
   "cell_type": "code",
   "execution_count": 106,
   "metadata": {},
   "outputs": [
    {
     "data": {
      "text/plain": [
       "0"
      ]
     },
     "execution_count": 106,
     "metadata": {},
     "output_type": "execute_result"
    }
   ],
   "source": [
    "np.argmax(Q)"
   ]
  },
  {
   "cell_type": "markdown",
   "metadata": {},
   "source": [
    "Clearly, the action with the higher Q-value is easily selected using the `argmax()` function. This is the idea behind **exploitation** in reinforcement learning: we utilize our learned knowleged of Q-values to make decisions on actions to perform. However, it doesn't explain how we should encourage **exploration** where we sometimes *do not* follow our Q-function. A common strategy is to employ an $\\epsilon$-soft action selection policy. In this kind of policy, we will select our action using `argmax()` above, **except** for some fraction of the time steps, $\\epsilon$, when we instead choose a *random action* just like our initial exploration with such actions earlier. We usually keep $\\epsilon$ small so that these are *rare* events, but we can also treat it like any other hyperparameter and *anneal* it over time. In this case $\\epsilon$ starts high (1) and is then decayed to a small value over time (usually no lower than a small fraction, for example 0.01)."
   ]
  },
  {
   "cell_type": "code",
   "execution_count": 113,
   "metadata": {},
   "outputs": [
    {
     "data": {
      "text/plain": [
       "0"
      ]
     },
     "execution_count": 113,
     "metadata": {},
     "output_type": "execute_result"
    }
   ],
   "source": [
    "# Example e-soft policy...\n",
    "epsilon = 0.5 # Half of the time, a random action is chosen...\n",
    "action = random.choice(range(env.action_space.n)) if random.random() < epsilon else np.argmax(Q)\n",
    "action"
   ]
  },
  {
   "cell_type": "markdown",
   "metadata": {},
   "source": [
    "Let's hook the agent into the environment, and see what happens..."
   ]
  },
  {
   "cell_type": "code",
   "execution_count": 114,
   "metadata": {},
   "outputs": [
    {
     "data": {
      "image/png": "[encoded data removed]",
      "text/plain": [
       "<matplotlib.figure.Figure at 0x7f08747afba8>"
      ]
     },
     "metadata": {},
     "output_type": "display_data"
    }
   ],
   "source": [
    "# Initialize the environment and let the agent decide!\n",
    "observation = env.reset()\n",
    "epsilon = 0.0 # No exploration!\n",
    "reward = 0.0\n",
    "for time in range(30):\n",
    "    plt.imshow(env.render(mode='rgb_array'))\n",
    "    plt.title(\"%s | Time: %d | Reward: %f\" % (env.spec.id, time, reward))\n",
    "    clear_output(wait=True)\n",
    "    display(plt.gcf())\n",
    "    Q = model.predict(np.expand_dims(observation,axis=0)) # Compute Q\n",
    "    action = random.choice(range(env.action_space.n)) if random.random() < epsilon else np.argmax(Q)\n",
    "    observation, reward, done, info = env.step(action) # take action!\n",
    "    if (done):\n",
    "        break\n",
    "clear_output(wait=True)"
   ]
  },
  {
   "cell_type": "markdown",
   "metadata": {},
   "source": [
    "OK, so the agent can easily be used to control the cart, but it currently can't do a very good job since we have not learned the correct Q-values for this environment. We will need to program up the learning part next. There are a few moving parts here that we need to put into place:\n",
    "\n",
    "1. Replay memory storage\n",
    "2. Target Q-function model\n",
    "3. Replay learning function\n",
    "\n",
    "First, let's talk a little about *replay memory*. While we could perform Q-learning on each time step and make the network learn *on-line* while perform the task, this leads to problems with training neural networks which require folding in many training examples from a variety of state-action pairs in order to converge to the correct Q-function. The reason for this is because there is so much information shared between successive time steps on many reinforcement learning tasks. That is, the new state will \"*look*\" very similar to the last state we just came from since the actions don't cause drastic changes in observations. Even if drastic changes *were* made, the sequence of states that are experience are *temporally* similar (as in, they occur at similar points in time) so that the network is more focused on the most temporally and spatially similar observations while learning. This will lead the network to become focused more on the present learning scenarios and forget (or more correctly, overwrite) learned Q-values from past or even future observations that it has (or will) encounter. Therefore, we will retain a memory of the last, say 10000, state transitions and then draw a random sample from this memory bank for training. In this way, we will be drawing observations which are neither spatially nor temporally similar (on average) and the network will then be able to leverage learning from a wide range of experiences instead of the most current only.\n",
    "\n",
    "In actuality, we will let the network complete an episode, and then run through several batches of observations from the replay memory to train the Q-function. We will then return to complete another episode, followed by another round of replay training. This *replay memory* is **critical** to the success of a good reinforcement learning agent so allocating a significant amount of storage space and heavily leveraging many random samples from it is the **key** technique to designing a successful reinforcement learning agent using a neural network. Research is on-going on ways to mitigate the size and training epochs of such a memory for more practical use in memory-intensive applications.\n",
    "\n",
    "Second, we will utilize the *target function* network strategy. While we are running replay memory training, we will be changing Q values (updating the function). However, the very network that is generating our Q-values for the current time step is also generating our Q-values for the next time step (and so on). We also utilize the *difference* between these subsequent Q-values to update the network (to set our target Q-values). This means when we update a Q-value (and share weights with other Q-values) we inadvertently update other Q-values as well. There is a *moving target* problem here where the network is trying to speed up with or slow down with it's own Q-value updates! This can destabilize the learning capabilities of a neural network similar to how the gradients explode or disapper in a recurrent neural network (since you are reusing the same weights to calculate the predictions and targets, it forms a feedback loop). We can eliminate this instability (to a large degree) by making a copy of our current network Q-network, and only using this copy to generate targets. This means that the *target network* isn't trained, but only used to create the targets for the main model. These targets will therefore be fixed until we are finished training our main Q-function model. Then, we can just occasionally copy over the weights from our trained network into the target network again before the next round of training. While not as critical as the replay memory above, using a *target model* makes for a *drastically easier training experience* by largely eliminating the moving target problem.\n",
    "\n",
    "Finally, we just need to stitch together the *replay memory* and *target model* to form the replay memory training function which will train the model to learn from the replay memory for a specified number of randomly sampled batches, and then update the target function at the end..."
   ]
  },
  {
   "cell_type": "code",
   "execution_count": 48,
   "metadata": {},
   "outputs": [],
   "source": [
    "# Step 1 - Replay Memory\n",
    "class ReplayMemory:\n",
    "    def __init__(self, memory_size, state_size, action_size):\n",
    "        self.state_size = state_size\n",
    "        self.action_size = action_size\n",
    "        self.size = 0\n",
    "        self.maxsize = memory_size\n",
    "        self.current_index = 0\n",
    "        self.current_state = np.zeros([memory_size,env.observation_space.shape[0]])\n",
    "        self.action = [0]*memory_size # Remember, actions are integers...\n",
    "        self.reward = np.zeros([memory_size])\n",
    "        self.next_state = np.zeros([memory_size,env.observation_space.shape[0]])\n",
    "        self.done = [False]*memory_size # Boolean (terminal transition?)\n",
    "\n",
    "    def remember(self, current_state, action, reward, next_state, done):\n",
    "        # Stores a single memory item\n",
    "        self.current_state[self.current_index,:] = current_state\n",
    "        self.action[self.current_index] = action\n",
    "        self.reward[self.current_index] = reward\n",
    "        self.next_state[self.current_index,:] = next_state\n",
    "        self.done[self.current_index] = done\n",
    "        self.current_index = (self.current_index+1)%self.maxsize\n",
    "        self.size = max(self.current_index,self.size)\n",
    "    \n",
    "    def replay(self, model, target_model, num_samples, sample_size, gamma):\n",
    "        # Run replay!\n",
    "        \n",
    "        # Can't train if we don't yet have enough samples to begin with...\n",
    "        if self.size < sample_size:\n",
    "            return\n",
    "        \n",
    "        for i in range(num_samples):\n",
    "            # Select sample_size memory indices from the whole set...\n",
    "            current_sample = random.choice(range(self.size),sample_size,replace=False)\n",
    "            \n",
    "            # Slice memory into training sample\n",
    "            current_state = self.current_state[current_sample,:]\n",
    "            action = self.action[current_sample]\n",
    "            reward = self.reward[current_sample]\n",
    "            next_state = self.next_state[current_sample,:]\n",
    "            done = self.done[current_sample,:]\n",
    "            \n",
    "            # Obtain model's current Q-values\n",
    "            model_targets = model.predict(current_state)\n",
    "            \n",
    "            # Obtain target Q-values from target network...\n",
    "            targets = reward + gamma*\n",
    "            \n",
    "        "
   ]
  },
  {
   "cell_type": "markdown",
   "metadata": {},
   "source": [
    "We could wrap this in a class structure for each usage"
   ]
  },
  {
   "cell_type": "code",
   "execution_count": 93,
   "metadata": {},
   "outputs": [
    {
     "data": {
      "text/plain": [
       "1"
      ]
     },
     "execution_count": 93,
     "metadata": {},
     "output_type": "execute_result"
    }
   ],
   "source": [
    "random.choice(range(2)) if random.random() < epsilon else 0"
   ]
  },
  {
   "cell_type": "code",
   "execution_count": null,
   "metadata": {},
   "outputs": [],
   "source": []
  }
 ],
 "metadata": {
  "kernelspec": {
   "display_name": "Python 3",
   "language": "python",
   "name": "python3"
  },
  "language_info": {
   "codemirror_mode": {
    "name": "ipython",
    "version": 3
   },
   "file_extension": ".py",
   "mimetype": "text/x-python",
   "name": "python",
   "nbconvert_exporter": "python",
   "pygments_lexer": "ipython3",
   "version": "3.5.3"
  }
 },
 "nbformat": 4,
 "nbformat_minor": 2
}
