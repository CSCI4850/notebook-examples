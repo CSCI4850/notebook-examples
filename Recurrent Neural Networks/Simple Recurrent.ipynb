{
 "cells": [
  {
   "cell_type": "markdown",
   "metadata": {},
   "source": [
    "# Simple Recurrent Network - Many-to-Many Sequence Learning\n",
    "\n",
    "Here we will develop a simple recurrent network to solve a relatively simple, but non-trivial sequence learning task. The goal is to use a simple recurrent neural network (RNN) architecture to solve the problem while investigating the basic decisions needed to prepare the input/target data patterns and train such an architecture. You should already become familiar with feed-forward single- and multi-layer networks before attempting this tutorial, as we will be using many of the same tools to investigate the RNN and will assume familiarity on your part with those tools."
   ]
  },
  {
   "cell_type": "markdown",
   "metadata": {},
   "source": [
    "Let's load some of the tools we will be using. Keras for network building/training, numpy for everything, matplotlib for plots, keras_tdqm for graphical updating of the learning process (will not render without jupyter widgets), and vis_utils for simple visualization of the network structure (which could be better: we should make some pull-requests!)"
   ]
  },
  {
   "cell_type": "code",
   "execution_count": 1,
   "metadata": {},
   "outputs": [],
   "source": [
    "import tensorflow.keras as keras\n",
    "\n",
    "import numpy as np\n",
    "\n",
    "# Visualization\n",
    "from IPython.display import display\n",
    "\n",
    "import matplotlib.pyplot as plt\n",
    "%matplotlib inline"
   ]
  },
  {
   "cell_type": "markdown",
   "metadata": {},
   "source": [
    "Our problem will consist of the solution to the even/odd parity determination for a binary sequence. The problem is very easy to solve using a feed-forward neural network when providing an entire sequence of binary digits as input, but we would like to cast the problem into one amenable for sequence learning. Therefore, we will utilize an *iterative* approach to parity determination which starts at the most significant (left) side of a sequence of digits and proceeds to the least significant (right) side while keeping track of whether an odd or even number of 1s have been observed so far. The empty sequence is assumed even, and the inherent non-linearity of the parity determination problem can be observed for the case of 2-digit binary inputs which degenerates into a logical XOR. The iterative parity problem is therefore a natural sequential extension to the standard XOR problem.\n",
    "\n",
    "For example, if we have the binary sequence 1010111001, then we have an even number of ones and the sequence has even parity. For the sequence 1011111001, we have an odd number of ones and the sequence has odd parity. However, turning this into an iterative problem means we move from the left to the right and decide to map each digit to even (0) or odd (1), based on whether we have encountered an even or odd number of ones so far in the sequence:\n",
    "\n",
    "| Input: | 1 | 0 | 1 | 0 | 1 | 1 | 1 | 0 | 0 | 1 |\n",
    "| --- | --- | --- | --- | --- | --- | --- | --- | --- | --- | --- |\n",
    "| Output: | 1 | 1 | 0 | 0 | 1 | 0 | 1 | 1 | 1 | 0 |\n",
    "\n",
    "or for the second sequence:\n",
    "\n",
    "| Input: | 1 | 0 | 1 | 1 | 1 | 1 | 1 | 0 | 0 | 1 |\n",
    "| --- | --- | --- | --- | --- | --- | --- | --- | --- | --- | --- |\n",
    "| Output:| 1 | 1 | 0 | 1 | 0 | 1 | 0 | 0 | 0 | 1 |\n",
    "\n",
    "Therefore, the neural network will be presented with each input (one bit at a time) which by themselves are not enough to make a determination of parity. Instead, it must learn to maintain some internal representation (internal state) of whether it has seen an even or odd number of ones so far. Then, using this internal representation *and* the current input, it can decide how to decode the current input and also how to update the internal representation for the next digit in the sequence."
   ]
  },
  {
   "cell_type": "code",
   "execution_count": 2,
   "metadata": {},
   "outputs": [],
   "source": [
    "# Length of sequences to model\n",
    "length = 10"
   ]
  },
  {
   "cell_type": "markdown",
   "metadata": {},
   "source": [
    "We can adjust `length` above to change the length of the binary sequences which are presented to the network.\n",
    "\n",
    "For now, we will craft just a single example for learning. It's always good to start with just a single sequence to test your network before moving on to use more (or more complex) data.\n",
    "\n",
    "For RNNs, the keras tools will expect inputs to be delivered as a 3D tensor N x M x S where N is the number of training sequences, M is the number of timesteps (sequence length), and S is the length of the input vectors delivered to the network (actual input layer size). N=1 since we have only one pattern (for now), and M=`length` since we are presenting one digit on each time step, and S=1 since each input vector is just a single binary digit.\n",
    "\n",
    "Numpy is used to generate some random numbers between 0 and 1, which are then rounded (either 0 or 1). After that, we just reshape the vector into a tensor (multidimensional array) of the appropriate size."
   ]
  },
  {
   "cell_type": "code",
   "execution_count": 3,
   "metadata": {},
   "outputs": [
    {
     "data": {
      "text/plain": [
       "array([[1., 0., 0., 0., 0., 0., 0., 1., 0., 1.]])"
      ]
     },
     "execution_count": 3,
     "metadata": {},
     "output_type": "execute_result"
    }
   ],
   "source": [
    "# General random vector of binary values - just reshape below\n",
    "np.round(np.random.uniform(0,1,[length])).reshape([1,length])"
   ]
  },
  {
   "cell_type": "code",
   "execution_count": 4,
   "metadata": {},
   "outputs": [
    {
     "data": {
      "text/plain": [
       "array([[[0.],\n",
       "        [0.],\n",
       "        [1.],\n",
       "        [1.],\n",
       "        [1.],\n",
       "        [0.],\n",
       "        [0.],\n",
       "        [1.],\n",
       "        [0.],\n",
       "        [0.]]])"
      ]
     },
     "execution_count": 4,
     "metadata": {},
     "output_type": "execute_result"
    }
   ],
   "source": [
    "# Generate a random string of 0s and 1s\n",
    "x_train = np.round(np.random.uniform(0,1,[length])).reshape([1,length,1])\n",
    "x_train"
   ]
  },
  {
   "cell_type": "code",
   "execution_count": 5,
   "metadata": {},
   "outputs": [],
   "source": [
    "# Calculate parity (note this is the same algorithmic approach\n",
    "# that we are trying to encourage our net to learn!)\n",
    "def parity(x):\n",
    "    temp = np.zeros(x.shape)\n",
    "    mem = False\n",
    "    # Iterate over the sequence\n",
    "    for i in range(x.shape[0]):\n",
    "        if x[i,0] > 0.5:\n",
    "            current = True\n",
    "        else:\n",
    "            current= False\n",
    "        mem = np.logical_xor(mem,current)\n",
    "        if mem:\n",
    "            temp[i,0] = 1.0\n",
    "        else:\n",
    "            temp[i,0] = 0.0\n",
    "    return (temp.reshape(1,temp.shape[0],temp.shape[1])) # Tensor!"
   ]
  },
  {
   "cell_type": "code",
   "execution_count": 6,
   "metadata": {},
   "outputs": [
    {
     "data": {
      "text/plain": [
       "array([[[0.],\n",
       "        [0.],\n",
       "        [1.],\n",
       "        [0.],\n",
       "        [1.],\n",
       "        [1.],\n",
       "        [1.],\n",
       "        [0.],\n",
       "        [0.],\n",
       "        [0.]]])"
      ]
     },
     "execution_count": 6,
     "metadata": {},
     "output_type": "execute_result"
    }
   ],
   "source": [
    "y_train = parity(x_train[0,:,:])\n",
    "y_train"
   ]
  },
  {
   "cell_type": "code",
   "execution_count": 7,
   "metadata": {},
   "outputs": [
    {
     "data": {
      "text/plain": [
       "array([[[-1.],\n",
       "        [-1.],\n",
       "        [ 1.],\n",
       "        [ 1.],\n",
       "        [ 1.],\n",
       "        [-1.],\n",
       "        [-1.],\n",
       "        [ 1.],\n",
       "        [-1.],\n",
       "        [-1.]]])"
      ]
     },
     "execution_count": 7,
     "metadata": {},
     "output_type": "execute_result"
    }
   ],
   "source": [
    "# Bipolar input for more stable learning\n",
    "x_train[x_train == 0] = -1\n",
    "x_train"
   ]
  },
  {
   "cell_type": "markdown",
   "metadata": {},
   "source": [
    "Now that we have a many-to-many (many inputs to many targets) sequence set (with just one sequence) in the `x_train` and `y_train` tensors, we are ready to set up our simple RNN to train on this sequence...\n",
    "\n",
    "We just need to utilize the `SimpleRNN` layer to create a hidden layer with a set of recurrent connection weights back to itself. Also, the `Dense` layer which follows is applied to each of the outputs from the hidden layer on *each timestep*. This has implications for deeper networks if we decided to add some layers after (or before) the `Dense`. Nevertheless, it's the intention of the output layer to consider each timestep in this way. If we only wanted to know the final output (many-to-one) we would indicate this to the `SimpleRNN` layer by telling it not to `return_sequences` (see below). Otherwise, we use a reasonable number of units on the `SimpleRNN` layer to ensure that we have plenty of room to store a complicated internal representation of the current state of the sequence when needed (you might try reducing this value some and see what kinds of things happen). Also, the `return_sequences` option is set to `True` for the many-to-many net, which ensures that each of the timesteps are provided to layers downstream. This is needed if you were interested in stacking `SimpleRNN` layers for instance to create a *deep recurrent network*. Finally, the `input_shape` is set to the M x S parameters from our data tensors, where N is assumed to vary based on how many training sequences we decide use during the `fit()` (training) phase."
   ]
  },
  {
   "cell_type": "code",
   "execution_count": 8,
   "metadata": {},
   "outputs": [
    {
     "name": "stdout",
     "output_type": "stream",
     "text": [
      "Model: \"sequential\"\n",
      "_________________________________________________________________\n",
      "Layer (type)                 Output Shape              Param #   \n",
      "=================================================================\n",
      "simple_rnn (SimpleRNN)       (None, None, 20)          440       \n",
      "_________________________________________________________________\n",
      "dense (Dense)                (None, None, 1)           21        \n",
      "=================================================================\n",
      "Total params: 461\n",
      "Trainable params: 461\n",
      "Non-trainable params: 0\n",
      "_________________________________________________________________\n"
     ]
    }
   ],
   "source": [
    "# Network creation - Many-to-Many\n",
    "model = keras.Sequential()\n",
    "model.add(keras.layers.SimpleRNN(20,activation='relu',return_sequences=True,input_shape=(None,1)))\n",
    "model.add(keras.layers.Dense(1,activation='sigmoid'))\n",
    "model.compile(loss=keras.losses.binary_crossentropy,\n",
    "              optimizer=keras.optimizers.Nadam(),\n",
    "              metrics=['accuracy'])\n",
    "model.summary()"
   ]
  },
  {
   "cell_type": "code",
   "execution_count": 9,
   "metadata": {},
   "outputs": [
    {
     "data": {
      "image/png": "[encoded data removed]",
      "text/plain": [
       "<IPython.core.display.Image object>"
      ]
     },
     "execution_count": 9,
     "metadata": {},
     "output_type": "execute_result"
    }
   ],
   "source": [
    "# Visualization - wish we could see the recurrent weights!\n",
    "keras.utils.plot_model(model,to_file='srnn.png',show_shapes=True,expand_nested=True)"
   ]
  },
  {
   "cell_type": "code",
   "execution_count": 10,
   "metadata": {},
   "outputs": [
    {
     "name": "stdout",
     "output_type": "stream",
     "text": [
      "Model: \"sequential_1\"\n",
      "_________________________________________________________________\n",
      "Layer (type)                 Output Shape              Param #   \n",
      "=================================================================\n",
      "simple_rnn_1 (SimpleRNN)     (None, 20)                440       \n",
      "_________________________________________________________________\n",
      "dense_1 (Dense)              (None, 1)                 21        \n",
      "=================================================================\n",
      "Total params: 461\n",
      "Trainable params: 461\n",
      "Non-trainable params: 0\n",
      "_________________________________________________________________\n"
     ]
    }
   ],
   "source": [
    "# Network creation - Many-to-One\n",
    "model2 = keras.Sequential()\n",
    "model2.add(keras.layers.SimpleRNN(int(length*2),activation='relu',return_sequences=False,input_shape=(None,1)))\n",
    "model2.add(keras.layers.Dense(1,activation='sigmoid'))\n",
    "model2.compile(loss=keras.losses.binary_crossentropy,\n",
    "              optimizer=keras.optimizers.Nadam(),\n",
    "              metrics=['accuracy'])\n",
    "model2.summary()"
   ]
  },
  {
   "cell_type": "code",
   "execution_count": 11,
   "metadata": {},
   "outputs": [
    {
     "data": {
      "image/png": "[encoded data removed]",
      "text/plain": [
       "<IPython.core.display.Image object>"
      ]
     },
     "execution_count": 11,
     "metadata": {},
     "output_type": "execute_result"
    }
   ],
   "source": [
    "# Visualization - wish we could see the recurrent weights!\n",
    "keras.utils.plot_model(model2,to_file='srnn2.png',show_shapes=True,expand_nested=True)"
   ]
  },
  {
   "cell_type": "code",
   "execution_count": 12,
   "metadata": {},
   "outputs": [
    {
     "name": "stdout",
     "output_type": "stream",
     "text": [
      "1/1 [==============================] - 1s 646ms/step - loss: 0.0250 - accuracy: 1.0000\n",
      "Accuracy: 100.0 %\n"
     ]
    }
   ],
   "source": [
    "# Many-to-Many Training\n",
    "batch_size = 1   # only one pattern...\n",
    "epochs = 200\n",
    "history = model.fit(x_train, y_train,\n",
    "          batch_size=batch_size,\n",
    "          epochs=epochs,\n",
    "          verbose=0)\n",
    "print('Accuracy:',model.evaluate(x_train,y_train)[1]*100.0,'%')"
   ]
  },
  {
   "cell_type": "code",
   "execution_count": 13,
   "metadata": {},
   "outputs": [
    {
     "data": {
      "image/png": "[encoded data removed]",
      "text/plain": [
       "<Figure size 432x288 with 2 Axes>"
      ]
     },
     "metadata": {
      "needs_background": "light"
     },
     "output_type": "display_data"
    }
   ],
   "source": [
    "plt.figure(1)  \n",
    "   \n",
    "# summarize history for accuracy  \n",
    "   \n",
    "plt.subplot(211)  \n",
    "plt.plot(history.history['accuracy'])  \n",
    "plt.title('model accuracy')  \n",
    "plt.ylabel('accuracy')  \n",
    "plt.xlabel('epoch')  \n",
    "   \n",
    "# summarize history for loss  \n",
    "\n",
    "plt.subplot(212)  \n",
    "plt.plot(history.history['loss'])  \n",
    "plt.title('model loss')  \n",
    "plt.ylabel('loss')  \n",
    "plt.xlabel('epoch')  \n",
    "\n",
    "plt.tight_layout()\n",
    "plt.show()  "
   ]
  },
  {
   "cell_type": "code",
   "execution_count": 14,
   "metadata": {},
   "outputs": [
    {
     "name": "stdout",
     "output_type": "stream",
     "text": [
      "1/1 [==============================] - 0s 480ms/step - loss: 0.0016 - accuracy: 1.0000\n",
      "Accuracy: 100.0 %\n"
     ]
    }
   ],
   "source": [
    "# Many-to-One Training\n",
    "batch_size = 1   # only one pattern...\n",
    "epochs = 200\n",
    "history2 = model2.fit(x_train, y_train[:,length-1,:],\n",
    "           batch_size=batch_size,\n",
    "           epochs=epochs,\n",
    "           verbose=0)\n",
    "print('Accuracy:',model2.evaluate(x_train,y_train[:,length-1,:])[1]*100.0,'%')"
   ]
  },
  {
   "cell_type": "code",
   "execution_count": 15,
   "metadata": {},
   "outputs": [
    {
     "data": {
      "image/png": "[encoded data removed]",
      "text/plain": [
       "<Figure size 432x288 with 2 Axes>"
      ]
     },
     "metadata": {
      "needs_background": "light"
     },
     "output_type": "display_data"
    }
   ],
   "source": [
    "plt.figure(1)  \n",
    "   \n",
    "# summarize history for accuracy  \n",
    "   \n",
    "plt.subplot(211)  \n",
    "plt.plot(history2.history['accuracy'])  \n",
    "plt.title('model accuracy')  \n",
    "plt.ylabel('accuracy')  \n",
    "plt.xlabel('epoch')  \n",
    "   \n",
    "# summarize history for loss  \n",
    "\n",
    "plt.subplot(212)  \n",
    "plt.plot(history2.history['loss'])  \n",
    "plt.title('model loss')  \n",
    "plt.ylabel('loss')  \n",
    "plt.xlabel('epoch')  \n",
    "\n",
    "plt.tight_layout()\n",
    "plt.show()  "
   ]
  },
  {
   "cell_type": "markdown",
   "metadata": {},
   "source": [
    "100% accuracy on a single sequence is the first step in training many-to-many networks...\n",
    "\n",
    "Now, let's see that output first-hand by using the `predict()` function."
   ]
  },
  {
   "cell_type": "code",
   "execution_count": 16,
   "metadata": {},
   "outputs": [
    {
     "data": {
      "text/plain": [
       "array([[[1.4181530e-01],\n",
       "        [3.6895573e-02],\n",
       "        [9.6438009e-01],\n",
       "        [1.0130286e-02],\n",
       "        [9.9292338e-01],\n",
       "        [9.9685216e-01],\n",
       "        [9.9860513e-01],\n",
       "        [4.2444468e-04],\n",
       "        [1.2902063e-05],\n",
       "        [6.8163872e-04]]], dtype=float32)"
      ]
     },
     "execution_count": 16,
     "metadata": {},
     "output_type": "execute_result"
    }
   ],
   "source": [
    "# Approximate result\n",
    "model.predict(x_train)"
   ]
  },
  {
   "cell_type": "code",
   "execution_count": 17,
   "metadata": {},
   "outputs": [
    {
     "data": {
      "text/plain": [
       "array([[[0.],\n",
       "        [0.],\n",
       "        [1.],\n",
       "        [0.],\n",
       "        [1.],\n",
       "        [1.],\n",
       "        [1.],\n",
       "        [0.],\n",
       "        [0.],\n",
       "        [0.]]], dtype=float32)"
      ]
     },
     "execution_count": 17,
     "metadata": {},
     "output_type": "execute_result"
    }
   ],
   "source": [
    "# Rounded to closest binary value (counted as correct)\n",
    "np.round(model.predict(x_train))"
   ]
  },
  {
   "cell_type": "code",
   "execution_count": 18,
   "metadata": {},
   "outputs": [
    {
     "data": {
      "text/plain": [
       "array([[[0.],\n",
       "        [0.],\n",
       "        [1.],\n",
       "        [0.],\n",
       "        [1.],\n",
       "        [1.],\n",
       "        [1.],\n",
       "        [0.],\n",
       "        [0.],\n",
       "        [0.]]])"
      ]
     },
     "execution_count": 18,
     "metadata": {},
     "output_type": "execute_result"
    }
   ],
   "source": [
    "# Check against the y_train vector\n",
    "y_train"
   ]
  },
  {
   "cell_type": "markdown",
   "metadata": {},
   "source": [
    "Now that we can train a network to learn a single sequence, let's increase the amount of training data and get the network to learn the parity function completely. We will use 100 sequences for training (X,Y), and also generate 100 for testing (X_test,Y_test). We use the same functions as before, but will use a list-comprehension to perform the input-output generation steps `n_seq`=100 times, and the `concatenate()` method for combining those along the first dimension (by default, which is convenient for this example, but can also be changed if needed)."
   ]
  },
  {
   "cell_type": "code",
   "execution_count": 19,
   "metadata": {},
   "outputs": [
    {
     "data": {
      "text/plain": [
       "(100, 10, 1)"
      ]
     },
     "execution_count": 19,
     "metadata": {},
     "output_type": "execute_result"
    }
   ],
   "source": [
    "# Generate a concatenation of sequences\n",
    "n_seq = 100\n",
    "X = np.concatenate([np.round(np.random.uniform(0,1,[length])).reshape([1,length,1]) for i in range(n_seq)])\n",
    "X_test = np.concatenate([np.round(np.random.uniform(0,1,[length])).reshape([1,length,1]) for i in range(n_seq)])\n",
    "X.shape"
   ]
  },
  {
   "cell_type": "code",
   "execution_count": 20,
   "metadata": {},
   "outputs": [
    {
     "data": {
      "text/plain": [
       "(100, 10, 1)"
      ]
     },
     "execution_count": 20,
     "metadata": {},
     "output_type": "execute_result"
    }
   ],
   "source": [
    "Y = np.concatenate([parity(X[i,:,:]) for i in range(n_seq)])\n",
    "Y_test = np.concatenate([parity(X_test[i,:,:]) for i in range(n_seq)])\n",
    "Y.shape"
   ]
  },
  {
   "cell_type": "code",
   "execution_count": 21,
   "metadata": {},
   "outputs": [
    {
     "data": {
      "text/plain": [
       "array([[1.],\n",
       "       [1.],\n",
       "       [0.],\n",
       "       [1.],\n",
       "       [1.],\n",
       "       [0.],\n",
       "       [1.],\n",
       "       [0.],\n",
       "       [0.],\n",
       "       [0.]])"
      ]
     },
     "execution_count": 21,
     "metadata": {},
     "output_type": "execute_result"
    }
   ],
   "source": [
    "# Look at the first set for confirmation\n",
    "X[0,:,:]"
   ]
  },
  {
   "cell_type": "code",
   "execution_count": 22,
   "metadata": {},
   "outputs": [
    {
     "data": {
      "text/plain": [
       "array([[1.],\n",
       "       [0.],\n",
       "       [0.],\n",
       "       [1.],\n",
       "       [0.],\n",
       "       [0.],\n",
       "       [1.],\n",
       "       [1.],\n",
       "       [1.],\n",
       "       [1.]])"
      ]
     },
     "execution_count": 22,
     "metadata": {},
     "output_type": "execute_result"
    }
   ],
   "source": [
    "Y[0,:,:]"
   ]
  },
  {
   "cell_type": "code",
   "execution_count": 23,
   "metadata": {},
   "outputs": [
    {
     "data": {
      "text/plain": [
       "array([[ 1.],\n",
       "       [ 1.],\n",
       "       [-1.],\n",
       "       [ 1.],\n",
       "       [ 1.],\n",
       "       [-1.],\n",
       "       [ 1.],\n",
       "       [-1.],\n",
       "       [-1.],\n",
       "       [-1.]])"
      ]
     },
     "execution_count": 23,
     "metadata": {},
     "output_type": "execute_result"
    }
   ],
   "source": [
    "# Bipolar input for more stable learning\n",
    "X[X == 0] = -1\n",
    "X[0,:,:]"
   ]
  },
  {
   "cell_type": "code",
   "execution_count": 24,
   "metadata": {},
   "outputs": [
    {
     "data": {
      "text/plain": [
       "array([[-1.],\n",
       "       [-1.],\n",
       "       [ 1.],\n",
       "       [-1.],\n",
       "       [ 1.],\n",
       "       [ 1.],\n",
       "       [-1.],\n",
       "       [-1.],\n",
       "       [-1.],\n",
       "       [ 1.]])"
      ]
     },
     "execution_count": 24,
     "metadata": {},
     "output_type": "execute_result"
    }
   ],
   "source": [
    "# Bipolar input for more stable learning\n",
    "X_test[X_test == 0] = -1\n",
    "X_test[0,:,:]"
   ]
  },
  {
   "cell_type": "markdown",
   "metadata": {},
   "source": [
    "Recreate the model for training, same as above really..."
   ]
  },
  {
   "cell_type": "code",
   "execution_count": 25,
   "metadata": {},
   "outputs": [
    {
     "name": "stdout",
     "output_type": "stream",
     "text": [
      "Model: \"sequential_2\"\n",
      "_________________________________________________________________\n",
      "Layer (type)                 Output Shape              Param #   \n",
      "=================================================================\n",
      "simple_rnn_2 (SimpleRNN)     (None, None, 20)          440       \n",
      "_________________________________________________________________\n",
      "dense_2 (Dense)              (None, None, 1)           21        \n",
      "=================================================================\n",
      "Total params: 461\n",
      "Trainable params: 461\n",
      "Non-trainable params: 0\n",
      "_________________________________________________________________\n"
     ]
    }
   ],
   "source": [
    "# Network creation - Many-to-Many\n",
    "model = keras.Sequential()\n",
    "model.add(keras.layers.SimpleRNN(20,activation='relu',return_sequences=True,input_shape=(None,1)))\n",
    "model.add(keras.layers.Dense(1,activation='sigmoid'))\n",
    "model.compile(loss=keras.losses.binary_crossentropy,\n",
    "              optimizer=keras.optimizers.Nadam(),\n",
    "              metrics=['accuracy'])\n",
    "model.summary()"
   ]
  },
  {
   "cell_type": "code",
   "execution_count": 26,
   "metadata": {},
   "outputs": [
    {
     "name": "stdout",
     "output_type": "stream",
     "text": [
      "Model: \"sequential_3\"\n",
      "_________________________________________________________________\n",
      "Layer (type)                 Output Shape              Param #   \n",
      "=================================================================\n",
      "simple_rnn_3 (SimpleRNN)     (None, 20)                440       \n",
      "_________________________________________________________________\n",
      "dense_3 (Dense)              (None, 1)                 21        \n",
      "=================================================================\n",
      "Total params: 461\n",
      "Trainable params: 461\n",
      "Non-trainable params: 0\n",
      "_________________________________________________________________\n"
     ]
    }
   ],
   "source": [
    "# Network creation - Many-to-One\n",
    "model2 = keras.Sequential()\n",
    "model2.add(keras.layers.SimpleRNN(20,activation='relu',return_sequences=False,input_shape=(None,1)))\n",
    "model2.add(keras.layers.Dense(1,activation='sigmoid'))\n",
    "model2.compile(loss=keras.losses.binary_crossentropy,\n",
    "              optimizer=keras.optimizers.Nadam(),\n",
    "              metrics=['accuracy'])\n",
    "model2.summary()"
   ]
  },
  {
   "cell_type": "markdown",
   "metadata": {},
   "source": [
    "This time we will use some validation data to help follow the generalization properties of the network while training, just 20% of the available sequences (be careful not to use too small of a data set with this cell!)"
   ]
  },
  {
   "cell_type": "code",
   "execution_count": 27,
   "metadata": {},
   "outputs": [
    {
     "name": "stdout",
     "output_type": "stream",
     "text": [
      "4/4 [==============================] - 1s 6ms/step - loss: 0.0059 - accuracy: 1.0000\n",
      "Training Accuracy: 100.0 %\n",
      "4/4 [==============================] - 0s 6ms/step - loss: 0.0064 - accuracy: 1.0000\n",
      "Testing Accuracy: 100.0 %\n"
     ]
    }
   ],
   "source": [
    "# Many-to-Many Training\n",
    "batch_size = min(20,X.shape[0]) # Either 20 or the number of patterns if fewer than 20...\n",
    "epochs = 300\n",
    "history = model.fit(X, Y,\n",
    "          batch_size=batch_size,\n",
    "          epochs=epochs,\n",
    "          verbose=0,\n",
    "          validation_split=0.2)\n",
    "print('Training Accuracy:',model.evaluate(X,Y)[1]*100.0,'%')\n",
    "print('Testing Accuracy:',model.evaluate(X_test, Y_test)[1]*100.0,'%')"
   ]
  },
  {
   "cell_type": "code",
   "execution_count": 28,
   "metadata": {},
   "outputs": [
    {
     "data": {
      "image/png": "[encoded data removed]",
      "text/plain": [
       "<Figure size 432x288 with 2 Axes>"
      ]
     },
     "metadata": {
      "needs_background": "light"
     },
     "output_type": "display_data"
    }
   ],
   "source": [
    "plt.figure(1)  \n",
    "   \n",
    "# summarize history for accuracy  \n",
    "   \n",
    "plt.subplot(211)  \n",
    "plt.plot(history.history['accuracy'])  \n",
    "plt.plot(history.history['val_accuracy'])  \n",
    "plt.title('model accuracy')  \n",
    "plt.ylabel('accuracy')  \n",
    "plt.xlabel('epoch')  \n",
    "plt.legend(['train', 'validation'], loc='upper left')  \n",
    "   \n",
    "# summarize history for loss  \n",
    "\n",
    "plt.subplot(212)  \n",
    "plt.plot(history.history['loss'])  \n",
    "plt.plot(history.history['val_loss'])  \n",
    "plt.title('model loss')  \n",
    "plt.ylabel('loss')  \n",
    "plt.xlabel('epoch')  \n",
    "plt.legend(['train', 'validation'], loc='upper left')\n",
    "\n",
    "plt.tight_layout()\n",
    "plt.show()  "
   ]
  },
  {
   "cell_type": "code",
   "execution_count": 29,
   "metadata": {},
   "outputs": [
    {
     "name": "stdout",
     "output_type": "stream",
     "text": [
      "4/4 [==============================] - 1s 6ms/step - loss: 0.4542 - accuracy: 0.9200\n",
      "Training Accuracy: 92.00000166893005 %\n",
      "4/4 [==============================] - 0s 5ms/step - loss: 3.1741 - accuracy: 0.5300\n",
      "Testing Accuracy: 52.99999713897705 %\n"
     ]
    }
   ],
   "source": [
    "# Many-to-One Training\n",
    "batch_size = min(20,X.shape[0]) # Either 20 or the number of patterns if fewer than 20...\n",
    "epochs = 300\n",
    "history2 = model2.fit(X, Y[:,length-1,:],\n",
    "           batch_size=batch_size,\n",
    "           epochs=epochs,\n",
    "           verbose=0,\n",
    "           validation_split=0.2)\n",
    "print('Training Accuracy:',model2.evaluate(X,Y[:,length-1,:])[1]*100.0,'%')\n",
    "print('Testing Accuracy:',model2.evaluate(X_test, Y_test[:,length-1,:])[1]*100.0,'%')"
   ]
  },
  {
   "cell_type": "code",
   "execution_count": 30,
   "metadata": {},
   "outputs": [
    {
     "data": {
      "image/png": "[encoded data removed]",
      "text/plain": [
       "<Figure size 432x288 with 2 Axes>"
      ]
     },
     "metadata": {
      "needs_background": "light"
     },
     "output_type": "display_data"
    }
   ],
   "source": [
    "plt.figure(1)  \n",
    "\n",
    "# summarize history for accuracy  \n",
    "\n",
    "plt.subplot(211)  \n",
    "plt.plot(history2.history['accuracy'])  \n",
    "plt.plot(history2.history['val_accuracy'])  \n",
    "plt.title('model accuracy')  \n",
    "plt.ylabel('accuracy')  \n",
    "plt.xlabel('epoch')  \n",
    "plt.legend(['train', 'validation'], loc='upper left')  \n",
    "\n",
    "# summarize history for loss  \n",
    "\n",
    "plt.subplot(212)  \n",
    "plt.plot(history2.history['loss'])  \n",
    "plt.plot(history2.history['val_loss'])  \n",
    "plt.title('model loss')  \n",
    "plt.ylabel('loss')  \n",
    "plt.xlabel('epoch')  \n",
    "plt.legend(['train', 'validation'], loc='upper left')\n",
    "\n",
    "plt.tight_layout()\n",
    "plt.show()  "
   ]
  },
  {
   "cell_type": "markdown",
   "metadata": {},
   "source": [
    "This model is clearly *overfitting* and this tends to happen due to the far fewer error/feedback signals presented in many-to-one models (many-to-many models have a much richer set of targets to use). Your success will vary, and changing hyperparameters or using regularization techniques can help overcome this limitation. "
   ]
  },
  {
   "cell_type": "code",
   "execution_count": 31,
   "metadata": {},
   "outputs": [
    {
     "data": {
      "text/plain": [
       "array([[[-1.],\n",
       "        [-1.],\n",
       "        [ 1.],\n",
       "        [-1.],\n",
       "        [ 1.],\n",
       "        [ 1.],\n",
       "        [-1.],\n",
       "        [-1.],\n",
       "        [-1.],\n",
       "        [ 1.]]])"
      ]
     },
     "execution_count": 31,
     "metadata": {},
     "output_type": "execute_result"
    }
   ],
   "source": [
    "# Pick a pattern, any pattern...\n",
    "p = 0\n",
    "X_test[p:p+1,:,:]"
   ]
  },
  {
   "cell_type": "code",
   "execution_count": 32,
   "metadata": {},
   "outputs": [
    {
     "data": {
      "text/plain": [
       "array([[[0.],\n",
       "        [0.],\n",
       "        [1.],\n",
       "        [1.],\n",
       "        [0.],\n",
       "        [1.],\n",
       "        [1.],\n",
       "        [1.],\n",
       "        [1.],\n",
       "        [0.]]], dtype=float32)"
      ]
     },
     "execution_count": 32,
     "metadata": {},
     "output_type": "execute_result"
    }
   ],
   "source": [
    "# Easier to see when rounded... (Should match -all- tokens below)\n",
    "np.round(model.predict(X_test[p:p+1,:,:]))"
   ]
  },
  {
   "cell_type": "code",
   "execution_count": 33,
   "metadata": {},
   "outputs": [
    {
     "data": {
      "text/plain": [
       "array([[1.]], dtype=float32)"
      ]
     },
     "execution_count": 33,
     "metadata": {},
     "output_type": "execute_result"
    }
   ],
   "source": [
    "# Easier to see when rounded... (Should just match last token below)\n",
    "np.round(model2.predict(X_test[p:p+1,:,:]))"
   ]
  },
  {
   "cell_type": "code",
   "execution_count": 34,
   "metadata": {},
   "outputs": [
    {
     "data": {
      "text/plain": [
       "array([[[0.],\n",
       "        [0.],\n",
       "        [1.],\n",
       "        [1.],\n",
       "        [0.],\n",
       "        [1.],\n",
       "        [1.],\n",
       "        [1.],\n",
       "        [1.],\n",
       "        [0.]]])"
      ]
     },
     "execution_count": 34,
     "metadata": {},
     "output_type": "execute_result"
    }
   ],
   "source": [
    "# Compare with corresponding result!\n",
    "Y_test[p:p+1,:,:]"
   ]
  },
  {
   "cell_type": "markdown",
   "metadata": {},
   "source": [
    "Now you've trained a simple RNN to solve the parity problem! However, these networks are still a little limited in efficacy since we have chosen a fixed input size (M). You could choose to set M to the largest sequence you expect to ever encounter and then just pad any shorter sequences with extra zeros or use a `Masking()` layer just prior to your `SimpleRNN` layer which will turn off the input when it is a certain value (could use something like 0.0 for this example).\n",
    "\n",
    "Also, you can see that the many-to-one mapping which just tried to learn the final parity assignment from the sequence was not nearly as successful at learning the task as the many-to-many mapping. Those additional feedback/targets provided on each step really make a critical difference. However, one might start by training very short sequences, and then slowly grow the size of the sequences to try to shape the training of this network. Shaping these nets by varying the training regime can make a very big improvement in the end.\n",
    "\n",
    "More importantly, if you were feeding in words a character at a time in all lower-case, then you might set S=27 and let each input pattern be a one-hot encoding for a particular letter (the 27th element would be for \"whitespace\" or \"terminator\" character). If you are encoding documents at the word-level (instead of the character-level) you might determine the number of unique words are in your text corpus after stemming, etc. and let S be that number instead (now, one-hot encoding each input based on a word). We will explore these kinds of encodings more with more powerful RNN architectures soon."
   ]
  }
 ],
 "metadata": {
  "kernelspec": {
   "display_name": "Python 3",
   "language": "python",
   "name": "python3"
  },
  "language_info": {
   "codemirror_mode": {
    "name": "ipython",
    "version": 3
   },
   "file_extension": ".py",
   "mimetype": "text/x-python",
   "name": "python",
   "nbconvert_exporter": "python",
   "pygments_lexer": "ipython3",
   "version": "3.8.6"
  }
 },
 "nbformat": 4,
 "nbformat_minor": 4
}
