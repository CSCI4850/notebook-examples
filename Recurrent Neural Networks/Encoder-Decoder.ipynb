{
 "cells": [
  {
   "cell_type": "markdown",
   "metadata": {},
   "source": [
    "# General Sequence-to-Sequence Mappings\n",
    "\n",
    "## Building Encoder-Decoder LSTM Models\n",
    "\n",
    "Many times, we want to map an *arbitrary length* sequence to another *arbitrary length* sequence for a machine learning task. The most common example would probably be machine translation where the number of characters/words used to encode a sentence in one language rarely matches with the number of characters/works used to encode a sentence with the same meaning in another language. Thus, the many-to-many mapping used by the simple recurrent network used previously in lecture would not be approprite.\n",
    "\n",
    "In order to accomplish this task, the most common architecture used at this time is the *encoder-decoder* framework. First, we build an *encoder* network which takes an arbitrary length input sequence, and **encodes a distributed representation** of that input sequence using the hidden layer of a recurrent network. This is similar to a standard many-to-many recurrent network, except there is *no output layer for the encoder*. Instead, the input sequence information is simply folded into the *recurrent* hidden layer activation pattern at each time step. Once the encoder finishes generating this *gestalt* representation (created using the the entire input sequence), it is fed into a *decoder* network which translates the *gestalt* representation into the corresponding output sequence using another recurrent hidden layer and time-distributed output layer. Special *start* and *stop* patterns are used to encode for the starting and ending points of target sequences during training. Therefore, the *decoder* network learns to indicate when it is ready to start and finish a particular output sequence. Using its two subnetworks, the encoder-decoder framework forms a general sequence-to-sequence learning framework.\n",
    "\n",
    "In order to illustrate how to build and train an encoder-decoder network, we will utilize the parity task from the simple recurrent network example. Even though the sequence lengths are the same for both the input and output for this task, we can still utilize it to illustrate the core concepts involved. Also, we will be using long short-term memory for the recurrent layers of these networks to show their effectiveness at learning these kinds of tasks."
   ]
  },
  {
   "cell_type": "code",
   "execution_count": 1,
   "metadata": {},
   "outputs": [],
   "source": [
    "# Import what we need for the job...\n",
    "import tensorflow.keras as keras\n",
    "\n",
    "import numpy as np\n",
    "\n",
    "import matplotlib.pyplot as plt\n",
    "%matplotlib inline\n",
    "\n",
    "# Visualization\n",
    "from IPython.display import display"
   ]
  },
  {
   "cell_type": "markdown",
   "metadata": {},
   "source": [
    "Let's create the parity problem again, but we need to encode the input and target sequences a bit more generically this time to show how the process might be generalized to other types of sequence processing domains.\n",
    "\n",
    "One key idea is that we need to map our possible sequence elements into a **one-hot encoded dictionary** which will be useful for arbitray sequence specification for both the encoder and decoder parts of the network. We will use the following mapping:\n",
    "\n",
    "Input Sequences:\n",
    "\n",
    "| Symbol | One-hot Encoding |\n",
    "| --- | --- |\n",
    "| `0` | `10` |\n",
    "| `1` | `01` |\n",
    "\n",
    "Ouput Sequences:\n",
    "\n",
    "| Symbol | One-hot Encoding |\n",
    "| --- | --- |\n",
    "| `0` | `1000` |\n",
    "| `1` | `0100` |\n",
    "| start | `0010` |\n",
    "| stop  | `0001` |\n",
    "\n",
    "This encoding will necessarily make the problem easier to solve (0 is now mapped to a meaningful orthogonal dimension to the other symbols), but more importantly, it shows how each symbol in the input/output sequences needs an orthogonal dimension in the encoded form. Other distributed codes may also work, but high dot product similarity between vectors in a chosen encoding scheme may affect the network's learning capabilities in unpredictable ways (more than likely negative). Also, it should be clear here that we don't even need to have the same *symbols* in the encoder and decoder networks. They can be arbitrary mappings in both time and space, which makes this a powerful, flexible approach.\n",
    "\n",
    "OK, so let's generate a large set of training and testing sequences for the network to experience on this task..."
   ]
  },
  {
   "cell_type": "code",
   "execution_count": 2,
   "metadata": {},
   "outputs": [],
   "source": [
    "# Length of sequences to model\n",
    "length = 10\n",
    "\n",
    "# Note we are making these the same, but they don't -have- to be!\n",
    "input_length = length\n",
    "output_length = length"
   ]
  },
  {
   "cell_type": "markdown",
   "metadata": {},
   "source": [
    "As a good rule of thumb, we just want to **create a network and train it to learn just a single example first**. After that, we can extend it to a larger data set."
   ]
  },
  {
   "cell_type": "code",
   "execution_count": 3,
   "metadata": {},
   "outputs": [
    {
     "data": {
      "text/plain": [
       "array([[[0.],\n",
       "        [1.],\n",
       "        [1.],\n",
       "        [0.],\n",
       "        [1.],\n",
       "        [0.],\n",
       "        [0.],\n",
       "        [1.],\n",
       "        [0.],\n",
       "        [1.]]])"
      ]
     },
     "execution_count": 3,
     "metadata": {},
     "output_type": "execute_result"
    }
   ],
   "source": [
    "# Generate a random string of 0s and 1s\n",
    "x_train = np.round(np.random.uniform(0,1,[length])).reshape([1,length,1])\n",
    "x_train"
   ]
  },
  {
   "cell_type": "code",
   "execution_count": 4,
   "metadata": {},
   "outputs": [],
   "source": [
    "# Calculate parity (note this is the same algorithmic approach\n",
    "# that we are trying to encourage our net to learn!)\n",
    "def parity(x):\n",
    "    temp = np.zeros(x.shape)\n",
    "    mem = False\n",
    "    # Iterate over the sequence\n",
    "    for i in range(x.shape[0]):\n",
    "        if x[i,0] > 0.5:\n",
    "            current = True\n",
    "        else:\n",
    "            current= False\n",
    "        mem = np.logical_xor(mem,current)\n",
    "        if mem:\n",
    "            temp[i,0] = 1.0\n",
    "        else:\n",
    "            temp[i,0] = 0.0\n",
    "    return (temp.reshape(1,temp.shape[0],temp.shape[1])) # Tensor!"
   ]
  },
  {
   "cell_type": "code",
   "execution_count": 5,
   "metadata": {},
   "outputs": [
    {
     "data": {
      "text/plain": [
       "array([[[0.],\n",
       "        [1.],\n",
       "        [0.],\n",
       "        [0.],\n",
       "        [1.],\n",
       "        [1.],\n",
       "        [1.],\n",
       "        [0.],\n",
       "        [0.],\n",
       "        [1.]]])"
      ]
     },
     "execution_count": 5,
     "metadata": {},
     "output_type": "execute_result"
    }
   ],
   "source": [
    "y_train = parity(x_train[0,:,:])\n",
    "y_train"
   ]
  },
  {
   "cell_type": "markdown",
   "metadata": {},
   "source": [
    "Let's turn these into a set of encoded input-output vectors using the transformation above."
   ]
  },
  {
   "cell_type": "code",
   "execution_count": 6,
   "metadata": {},
   "outputs": [
    {
     "data": {
      "text/plain": [
       "array([[[1., 0.],\n",
       "        [0., 1.],\n",
       "        [0., 1.],\n",
       "        [1., 0.],\n",
       "        [0., 1.],\n",
       "        [1., 0.],\n",
       "        [1., 0.],\n",
       "        [0., 1.],\n",
       "        [1., 0.],\n",
       "        [0., 1.]]], dtype=float32)"
      ]
     },
     "execution_count": 6,
     "metadata": {},
     "output_type": "execute_result"
    }
   ],
   "source": [
    "X = np.expand_dims(keras.utils.to_categorical(x_train[0,:,0]),axis=0)\n",
    "X"
   ]
  },
  {
   "cell_type": "code",
   "execution_count": 7,
   "metadata": {},
   "outputs": [
    {
     "data": {
      "text/plain": [
       "array([[[0., 0., 1., 0.],\n",
       "        [1., 0., 0., 0.],\n",
       "        [0., 1., 0., 0.],\n",
       "        [1., 0., 0., 0.],\n",
       "        [1., 0., 0., 0.],\n",
       "        [0., 1., 0., 0.],\n",
       "        [0., 1., 0., 0.],\n",
       "        [0., 1., 0., 0.],\n",
       "        [1., 0., 0., 0.],\n",
       "        [1., 0., 0., 0.],\n",
       "        [0., 1., 0., 0.],\n",
       "        [0., 0., 0., 1.]]])"
      ]
     },
     "execution_count": 7,
     "metadata": {},
     "output_type": "execute_result"
    }
   ],
   "source": [
    "Y = np.expand_dims(np.vstack([np.array([0,0,1,0]),\n",
    "                   np.hstack([keras.utils.to_categorical(y_train[0,:,0]),\n",
    "                              np.zeros([output_length,2])]),\n",
    "                   np.array([0,0,0,1])]),axis=0)\n",
    "Y"
   ]
  },
  {
   "cell_type": "markdown",
   "metadata": {},
   "source": [
    "Also, note the shapes of the sequences..."
   ]
  },
  {
   "cell_type": "code",
   "execution_count": 8,
   "metadata": {},
   "outputs": [
    {
     "data": {
      "text/plain": [
       "(1, 10, 2)"
      ]
     },
     "execution_count": 8,
     "metadata": {},
     "output_type": "execute_result"
    }
   ],
   "source": [
    "X.shape"
   ]
  },
  {
   "cell_type": "code",
   "execution_count": 9,
   "metadata": {},
   "outputs": [
    {
     "data": {
      "text/plain": [
       "(1, 12, 4)"
      ]
     },
     "execution_count": 9,
     "metadata": {},
     "output_type": "execute_result"
    }
   ],
   "source": [
    "Y.shape"
   ]
  },
  {
   "cell_type": "markdown",
   "metadata": {},
   "source": [
    "We will need to divide the target data into two groups which correspond to the input-target pairs for the *decoder* network. In essence, the decoder network is really just a many-to-many recurrent network, and will be trying to predict the next part of the target sequence (`postY`) given *both* the encoder output representation *and* the previous target sequence entry (`preY`). This previous target sequence entry is not strictly necessary, but using it represents a training strategy called *teacher forcing* which makes it easier to learn some sequences."
   ]
  },
  {
   "cell_type": "code",
   "execution_count": 10,
   "metadata": {},
   "outputs": [],
   "source": [
    "# 12 time steps total (10 + start + stop)\n",
    "# Divide into two groups of 11\n",
    "# First from 0 ... 10\n",
    "preY = Y[:,0:output_length+1,:]\n",
    "# Second from 1 ... 11\n",
    "postY = Y[:,1:output_length+2,:]"
   ]
  },
  {
   "cell_type": "code",
   "execution_count": 11,
   "metadata": {},
   "outputs": [
    {
     "data": {
      "text/plain": [
       "(1, 11, 4)"
      ]
     },
     "execution_count": 11,
     "metadata": {},
     "output_type": "execute_result"
    }
   ],
   "source": [
    "preY.shape"
   ]
  },
  {
   "cell_type": "code",
   "execution_count": 12,
   "metadata": {},
   "outputs": [
    {
     "data": {
      "text/plain": [
       "(1, 11, 4)"
      ]
     },
     "execution_count": 12,
     "metadata": {},
     "output_type": "execute_result"
    }
   ],
   "source": [
    "postY.shape"
   ]
  },
  {
   "cell_type": "markdown",
   "metadata": {},
   "source": [
    "OK, let's make an encoder-decoder framework for learning this sequence. We need to use the Keras *functional* API for building this network as well. To create networks of this kind, we first create `layer` objects and then call their `()` functions to make them take inputs from the provided layers' outputs. This allows for networks to receieve input from more than one layer at a time, or pass their outputs to more than one layer at a time. Once all of the layers have been connected in the desired ways, then we create a `Model` object used to specify the input and output layers for the overall model. This allows for more general network topologies to be constructed than can be achieved with the *sequential* API.\n",
    "\n",
    "Generally, the process looks like the following pseudocode:\n",
    "1. mylayer = Layer(...)\n",
    "2. mylayer_output(s) = mylayer(input_layer(s))\n",
    "3. Provide mylayer_output(s) as the input_layer(s) to another layer (going back to step 1 as many times as needed)\n",
    "4. model = Model(input_layer(s), output_layers())\n",
    "5. Compile and run the new model...\n",
    "\n",
    "In this way, outputs from a layer may be passed as inputs to other layers for chaining layers together. The final model is specified by giving it only the input and output layers since all intervening layers were connected together at the previous stage (they are implicitly incorporated into the model)."
   ]
  },
  {
   "cell_type": "code",
   "execution_count": 13,
   "metadata": {},
   "outputs": [
    {
     "name": "stdout",
     "output_type": "stream",
     "text": [
      "Model: \"model\"\n",
      "__________________________________________________________________________________________________\n",
      "Layer (type)                    Output Shape         Param #     Connected to                     \n",
      "==================================================================================================\n",
      "input_1 (InputLayer)            [(None, None, 2)]    0                                            \n",
      "__________________________________________________________________________________________________\n",
      "input_2 (InputLayer)            [(None, None, 4)]    0                                            \n",
      "__________________________________________________________________________________________________\n",
      "lstm (LSTM)                     [(None, 20), (None,  1840        input_1[0][0]                    \n",
      "__________________________________________________________________________________________________\n",
      "lstm_1 (LSTM)                   [(None, None, 20), ( 2000        input_2[0][0]                    \n",
      "                                                                 lstm[0][1]                       \n",
      "                                                                 lstm[0][2]                       \n",
      "__________________________________________________________________________________________________\n",
      "dense (Dense)                   (None, None, 4)      84          lstm_1[0][0]                     \n",
      "==================================================================================================\n",
      "Total params: 3,924\n",
      "Trainable params: 3,924\n",
      "Non-trainable params: 0\n",
      "__________________________________________________________________________________________________\n"
     ]
    }
   ],
   "source": [
    "# Size of the gestalt, context representations...\n",
    "hidden_size = 20\n",
    "\n",
    "## Encoder Construction\n",
    "\n",
    "# Make the layers\n",
    "encoder_input = keras.layers.Input(shape=(None, X.shape[2]))\n",
    "encoder_hidden = keras.layers.LSTM(hidden_size, return_state=True)\n",
    "# Tie the hidden layer to the input layer (passed in) \n",
    "encoder_output, enc_state_h, enc_state_c = encoder_hidden(encoder_input)\n",
    "# We discard `encoder_outputs` and only keep the states.\n",
    "encoder_states = [enc_state_h, enc_state_c]\n",
    "\n",
    "## Decoder Construction\n",
    "# Set up the decoder, using `encoder_states` as initial state.\n",
    "decoder_input = keras.layers.Input(shape=(None, preY.shape[2]))\n",
    "decoder_hidden = keras.layers.LSTM(hidden_size,\n",
    "                                   return_sequences=True,\n",
    "                                   return_state=True)\n",
    "# Connect hidden to input (also reads from the encoder...)\n",
    "decoder_hidden_output, decoder_state_h, decoder_state_c = decoder_hidden(\n",
    "    decoder_input, initial_state=encoder_states)\n",
    "decoder_dense = keras.layers.Dense(postY.shape[2], activation='softmax')\n",
    "# Connect output to hidden\n",
    "decoder_output = decoder_dense(decoder_hidden_output)\n",
    "\n",
    "# Our functional API model now has -two- input layers:\n",
    "# 1. Reads from X\n",
    "# 2. Reads from preY\n",
    "# and has a -single- output layer...\n",
    "# 1. Targets are postY\n",
    "model = keras.Model([encoder_input, decoder_input], decoder_output)\n",
    "\n",
    "# Compile it...\n",
    "model.compile(loss=keras.losses.CategoricalCrossentropy(),\n",
    "              optimizer=keras.optimizers.Adam(),\n",
    "              metrics=[keras.metrics.CategoricalAccuracy()])\n",
    "model.summary()"
   ]
  },
  {
   "cell_type": "code",
   "execution_count": 14,
   "metadata": {},
   "outputs": [
    {
     "data": {
      "image/png": "[encoded data removed]",
      "text/plain": [
       "<IPython.core.display.Image object>"
      ]
     },
     "execution_count": 14,
     "metadata": {},
     "output_type": "execute_result"
    }
   ],
   "source": [
    "# Visualization - wish we could see the recurrent weights!\n",
    "keras.utils.plot_model(model,to_file='encdec.png',\n",
    "                       show_shapes=True,expand_nested=True)"
   ]
  },
  {
   "cell_type": "markdown",
   "metadata": {},
   "source": [
    "So, these visualizations are a little helpful now, maybe? Layer input_1 will accept the input sequence information, which will be folded up into a gestalt representation by the lstm_1 layer. As a second phase, we will initially provide input_2 the **start** token which allows lstm_2 to use both this token and the gestalt representation from lstm_1 as input for beginning to decode the sequence. This final output layer (dense_1) will output the desired token, which will then also (eventually) be copied back into input_2. However, during training we need to provide this information directly as a data matrix, so it is clear how the *teacher forcing* that layer provides a little more support to the learning. This is because, during training, we will ouput provide input_2 with what dense_1 **should** be producing instead of its actual output. Later, we will see how to manually feed the output from the final dense layer back into this layer when performing prediction once it has learned the sequence properly. In this way, we will turn off the teacher forcing component when testing the performance of the network."
   ]
  },
  {
   "cell_type": "code",
   "execution_count": 15,
   "metadata": {},
   "outputs": [
    {
     "name": "stdout",
     "output_type": "stream",
     "text": [
      "1/1 [==============================] - 0s 365ms/step - loss: 0.3101 - categorical_accuracy: 0.9091\n",
      "Accuracy: 90.90909361839294 %\n"
     ]
    }
   ],
   "source": [
    "batch_size = 1   # only one pattern...\n",
    "epochs = 200\n",
    "history = model.fit([X,preY], postY,\n",
    "          batch_size=batch_size,\n",
    "          epochs=epochs,\n",
    "          verbose=0)\n",
    "print('Accuracy:',model.evaluate([X,preY],postY)[1]*100.0,'%')"
   ]
  },
  {
   "cell_type": "code",
   "execution_count": 16,
   "metadata": {},
   "outputs": [
    {
     "data": {
      "image/png": "[encoded data removed]",
      "text/plain": [
       "<Figure size 432x288 with 2 Axes>"
      ]
     },
     "metadata": {
      "needs_background": "light"
     },
     "output_type": "display_data"
    }
   ],
   "source": [
    "plt.figure(1)  \n",
    "# summarize history for accuracy \n",
    "plt.subplot(211)  \n",
    "plt.plot(history.history['categorical_accuracy'])  \n",
    "plt.title('model accuracy')  \n",
    "plt.ylabel('accuracy')  \n",
    "plt.xlabel('epoch')  \n",
    "# summarize history for loss  \n",
    "plt.subplot(212)  \n",
    "plt.plot(history.history['loss'])  \n",
    "plt.title('model loss')  \n",
    "plt.ylabel('loss')  \n",
    "plt.xlabel('epoch')  \n",
    "plt.tight_layout()\n",
    "plt.show()  "
   ]
  },
  {
   "cell_type": "markdown",
   "metadata": {},
   "source": [
    "The network appears to have learned the sequence, but there is one thing wrong with the final evaluation: the *teacher forcing* inputs are still being provided on each time step. Instead, we should be feeding the *output* from the decoder back into this input layer, so that it can use *it's own predictions* to forecast the next step. If we had left off the teacher forcing inputs entirely, this would not have been necessary, but let's make a more proper test of the network now.\n",
    "\n",
    "In order to accomplish this part of the job, we will construct *another* model, but just **reuse the layers** already defined and trained before. This will allow us to connect the layers together to create a model which accomplishes the feedback loop for us ..."
   ]
  },
  {
   "cell_type": "code",
   "execution_count": 17,
   "metadata": {},
   "outputs": [],
   "source": [
    "# Part 1 - make the encoder\n",
    "\n",
    "# Make just a model out of the encoder\n",
    "# input = encoder_input (Input layer)\n",
    "# output = encoder_states (enc Hidden layer * 2)\n",
    "encoder_model = keras.Model(encoder_input, encoder_states)\n",
    "\n",
    "# Part 2 - make the decoder\n",
    "\n",
    "# Make just a model out of the decoder\n",
    "# input = encoder_states (enc Hidden layer * 2)\n",
    "# output = decoder_output\n",
    "decoder_state_input_h = keras.layers.Input(shape=(hidden_size,))\n",
    "decoder_state_input_c = keras.layers.Input(shape=(hidden_size,))\n",
    "# Connect hidden to input(s)\n",
    "decoder_states_input = [decoder_state_input_h, decoder_state_input_c]\n",
    "decoder_hidden_output, decoder_state_h, decoder_state_c = decoder_hidden(\n",
    "    decoder_input, initial_state=decoder_states_input)\n",
    "decoder_states = [decoder_state_h, decoder_state_c]\n",
    "# Connect output to hidden(s)\n",
    "decoder_output = decoder_dense(decoder_hidden_output)\n",
    "decoder_model = keras.Model(\n",
    "    [decoder_input] + decoder_states_input,\n",
    "    [decoder_output] + decoder_states)"
   ]
  },
  {
   "cell_type": "code",
   "execution_count": 18,
   "metadata": {},
   "outputs": [
    {
     "data": {
      "image/png": "[encoded data removed]",
      "text/plain": [
       "<IPython.core.display.Image object>"
      ]
     },
     "execution_count": 18,
     "metadata": {},
     "output_type": "execute_result"
    }
   ],
   "source": [
    "# Separated Encoder Model\n",
    "keras.utils.plot_model(encoder_model,to_file='enc.png',\n",
    "                       show_shapes=True,expand_nested=True)"
   ]
  },
  {
   "cell_type": "code",
   "execution_count": 19,
   "metadata": {},
   "outputs": [
    {
     "data": {
      "image/png": "[encoded data removed]",
      "text/plain": [
       "<IPython.core.display.Image object>"
      ]
     },
     "execution_count": 19,
     "metadata": {},
     "output_type": "execute_result"
    }
   ],
   "source": [
    "# Separated Decoder Model\n",
    "keras.utils.plot_model(decoder_model,to_file='dec.png',\n",
    "                       show_shapes=True,expand_nested=True)"
   ]
  },
  {
   "cell_type": "markdown",
   "metadata": {},
   "source": [
    "OK, at this point, it's important that we slow down and think about what we have just constructed here. This network (now a **pair** of models) is not going to be *trained* in any way, and it (mostly) just reuses layers that have already created (*and* trained) in the earlier part of this example. Therefore, we are just going to rearrange some of the layers into *two* new models to make it easier to probe the network. These parts will naturally be the encoder and the decoder. However, these new models will just be used for *prediction* instead of training.\n",
    "\n",
    "The basic idea is that we need to *first* encode the input sequence into its *gestalt* context representation. This is the job of the encoder, and this part is rather straight-forward because the encoder network architecture remains practically unchanged: we just didn't give the encoder it's own, independent model before. Therefore, we could *not* just extract a hidden layer representation without also feeding it into the input layer of the decoder. The new `encoder_model` now just takes our input sequence and provides us with the output \"states\" or *activations* of the LSTM units. We can use the `predict()` method now to easily obtain those representations.\n",
    "\n",
    "The second part of the decoding process involves making a new set of inputs for the decoder which will accept the state information from the encoder outputs (in addition to the sequence starting token). This uses two layers which are just standard input layers set to the corresponding size of the LSTM outputs from the encoder. This just allows us to transfer that information over to the decoder *manually* by copying the output values from the encoder into these input layers. The hidden layer of the decoder then takes the encoder's hidden layer information and an input token vector (decoder_input, just like before).\n",
    "\n",
    "Instead of using teacher forcing to make the sequence input equal to a prescribed target token (like we did during training), here we will only provide the *start* token along with the encoder's gestalt context. After that, we will let the decoder produce an output value. This output value will then be rounded to the nearest value (it's a graded prediction, so we clean it up a little in this obvious way), and then we will feed it *back* into the decoder for the next time step (along with the updated decoder hidden layer activations as well which take the place of the encoder network's initial context information). So long as we provide the encoder's activations and the *start* token on the first step. The decoder network is then asked to step through this series of steps repeatedly until it reaches the *stop* token (or a maximum number of steps is reached). In our case, all sequences are of the same length, so we will expect it will reach the stop token by the 11th output.\n",
    "\n",
    "Let's walk through these steps by calculating the context from the encoder using our input sequence, `X`, then providing the *start* token (`0010`) to the encoder output as the first inputs to the decoder. Then we will recycle the decoder's output and hidden representations back into the network, just predicting one time step at a time until the sequence terminates."
   ]
  },
  {
   "cell_type": "code",
   "execution_count": 20,
   "metadata": {},
   "outputs": [
    {
     "data": {
      "text/plain": [
       "array([[[0., 0., 1., 0.]]])"
      ]
     },
     "execution_count": 20,
     "metadata": {},
     "output_type": "execute_result"
    }
   ],
   "source": [
    "# Get the gestalt context for the input sequence(s)\n",
    "context = encoder_model.predict(X)\n",
    "\n",
    "# Prep a starting token [[[0,0,1,0]]]..\n",
    "token = np.zeros([1,1,Y.shape[2]])\n",
    "token[0,0,2] = 1\n",
    "token"
   ]
  },
  {
   "cell_type": "code",
   "execution_count": 21,
   "metadata": {},
   "outputs": [
    {
     "data": {
      "text/plain": [
       "array([[[1., 0., 0., 0.],\n",
       "        [1., 0., 0., 0.],\n",
       "        [1., 0., 0., 0.],\n",
       "        [0., 1., 0., 0.],\n",
       "        [0., 1., 0., 0.],\n",
       "        [0., 1., 0., 0.],\n",
       "        [0., 1., 0., 0.],\n",
       "        [1., 0., 0., 0.],\n",
       "        [1., 0., 0., 0.],\n",
       "        [0., 1., 0., 0.],\n",
       "        [0., 0., 0., 1.]]])"
      ]
     },
     "execution_count": 21,
     "metadata": {},
     "output_type": "execute_result"
    }
   ],
   "source": [
    "# Complete 11 cycles with the decoder\n",
    "result = np.zeros(postY.shape)\n",
    "for x in range(output_length+1):\n",
    "    out,h,c = decoder_model.predict([token]+context)\n",
    "    token = np.round(out)\n",
    "    context = [h,c]\n",
    "    result[:,x,:] = token\n",
    "result"
   ]
  },
  {
   "cell_type": "code",
   "execution_count": 22,
   "metadata": {},
   "outputs": [
    {
     "data": {
      "text/plain": [
       "array([[[1., 0., 0., 0.],\n",
       "        [0., 1., 0., 0.],\n",
       "        [1., 0., 0., 0.],\n",
       "        [1., 0., 0., 0.],\n",
       "        [0., 1., 0., 0.],\n",
       "        [0., 1., 0., 0.],\n",
       "        [0., 1., 0., 0.],\n",
       "        [1., 0., 0., 0.],\n",
       "        [1., 0., 0., 0.],\n",
       "        [0., 1., 0., 0.],\n",
       "        [0., 0., 0., 1.]]])"
      ]
     },
     "execution_count": 22,
     "metadata": {},
     "output_type": "execute_result"
    }
   ],
   "source": [
    "# Let's compare with the pattern\n",
    "postY"
   ]
  },
  {
   "cell_type": "markdown",
   "metadata": {},
   "source": [
    "And we have a match! Looks like the encoder-decoder had no trouble learning the sequence. Note that we could wait for the *stop* token instead of counting the number of steps above and we would have come to the same result since that token was encountered on the last iteration. That is, the network learns to generate the correctly sized sequence when required.\n",
    "\n",
    "OK, so now, let's take the same approach as we used above to learn a **larger number of sequences** ..."
   ]
  },
  {
   "cell_type": "code",
   "execution_count": 23,
   "metadata": {},
   "outputs": [],
   "source": [
    "# New length\n",
    "length = 10\n",
    "input_length = length\n",
    "output_length = length\n",
    "\n",
    "# Set number of patterns here\n",
    "n_seq = 100\n",
    "\n",
    "# Generate the Xs\n",
    "x_train = np.concatenate([np.round(\n",
    "    np.random.uniform(0,1,[length])).reshape([1,length,1])\n",
    "                          for x in range(n_seq)])\n",
    "y_train = np.concatenate([parity(x_train[x,:,:]) for x in range(n_seq)])\n",
    "\n",
    "# Reformat - dictionary approach\n",
    "X = np.concatenate([np.expand_dims(\n",
    "    keras.utils.to_categorical(x_train[x,:,:]),axis=0)\n",
    "                    for x in range(n_seq)])\n",
    "Y = np.concatenate([np.expand_dims(\n",
    "    np.vstack([np.array([0,0,1,0]),\n",
    "               np.hstack([keras.utils.to_categorical(y_train[x,:,:]),\n",
    "                          np.zeros([output_length,2])]),\n",
    "               np.array([0,0,0,1])]),axis=0) for x in range(n_seq)])\n",
    "preY = Y[:,0:length+1,:]\n",
    "postY = Y[:,1:length+2,:]"
   ]
  },
  {
   "cell_type": "code",
   "execution_count": 24,
   "metadata": {},
   "outputs": [
    {
     "name": "stdout",
     "output_type": "stream",
     "text": [
      "(100, 10, 2)\n",
      "(100, 12, 4)\n",
      "(100, 11, 4)\n",
      "(100, 11, 4)\n"
     ]
    }
   ],
   "source": [
    "print(X.shape)\n",
    "print(Y.shape)\n",
    "print(preY.shape)\n",
    "print(postY.shape)"
   ]
  },
  {
   "cell_type": "code",
   "execution_count": 25,
   "metadata": {},
   "outputs": [
    {
     "name": "stdout",
     "output_type": "stream",
     "text": [
      "Model: \"model_3\"\n",
      "__________________________________________________________________________________________________\n",
      "Layer (type)                    Output Shape         Param #     Connected to                     \n",
      "==================================================================================================\n",
      "input_5 (InputLayer)            [(None, None, 2)]    0                                            \n",
      "__________________________________________________________________________________________________\n",
      "input_6 (InputLayer)            [(None, None, 4)]    0                                            \n",
      "__________________________________________________________________________________________________\n",
      "lstm_2 (LSTM)                   [(None, 20), (None,  1840        input_5[0][0]                    \n",
      "__________________________________________________________________________________________________\n",
      "lstm_3 (LSTM)                   [(None, None, 20), ( 2000        input_6[0][0]                    \n",
      "                                                                 lstm_2[0][1]                     \n",
      "                                                                 lstm_2[0][2]                     \n",
      "__________________________________________________________________________________________________\n",
      "dense_1 (Dense)                 (None, None, 4)      84          lstm_3[0][0]                     \n",
      "==================================================================================================\n",
      "Total params: 3,924\n",
      "Trainable params: 3,924\n",
      "Non-trainable params: 0\n",
      "__________________________________________________________________________________________________\n"
     ]
    }
   ],
   "source": [
    "# Same as before...\n",
    "\n",
    "# Size of the gestalt, context representations...\n",
    "hidden_size = 20\n",
    "\n",
    "## Encoder Construction\n",
    "\n",
    "# Make the layers\n",
    "encoder_input = keras.layers.Input(shape=(None, X.shape[2]))\n",
    "encoder_hidden = keras.layers.LSTM(hidden_size, return_state=True)\n",
    "# Tie the hidden layer to the input layer (passed in) \n",
    "encoder_output, enc_state_h, enc_state_c = encoder_hidden(encoder_input)\n",
    "# We discard `encoder_outputs` and only keep the states.\n",
    "encoder_states = [enc_state_h, enc_state_c]\n",
    "\n",
    "## Decoder Construction\n",
    "# Set up the decoder, using `encoder_states` as initial state.\n",
    "decoder_input = keras.layers.Input(shape=(None, preY.shape[2]))\n",
    "decoder_hidden = keras.layers.LSTM(hidden_size,\n",
    "                                   return_sequences=True,\n",
    "                                   return_state=True)\n",
    "# Connect hidden to input (also reads from the encoder...)\n",
    "decoder_hidden_output, decoder_state_h, decoder_state_c = decoder_hidden(\n",
    "    decoder_input, initial_state=encoder_states)\n",
    "decoder_dense = keras.layers.Dense(postY.shape[2], activation='softmax')\n",
    "# Connect output to hidden\n",
    "decoder_output = decoder_dense(decoder_hidden_output)\n",
    "\n",
    "# Our functional API model now has -two- input layers:\n",
    "# 1. Reads from X\n",
    "# 2. Reads from preY\n",
    "# and has a -single- output layer...\n",
    "# 1. Targets are postY\n",
    "model = keras.Model([encoder_input, decoder_input], decoder_output)\n",
    "\n",
    "# Compile it...\n",
    "model.compile(loss=keras.losses.CategoricalCrossentropy(),\n",
    "              optimizer=keras.optimizers.Adam(),\n",
    "              metrics=[keras.metrics.CategoricalAccuracy()])\n",
    "model.summary()"
   ]
  },
  {
   "cell_type": "code",
   "execution_count": 26,
   "metadata": {},
   "outputs": [
    {
     "data": {
      "image/png": "[encoded data removed]",
      "text/plain": [
       "<IPython.core.display.Image object>"
      ]
     },
     "execution_count": 26,
     "metadata": {},
     "output_type": "execute_result"
    }
   ],
   "source": [
    "# Visualization - same as before...\n",
    "keras.utils.plot_model(model,to_file='encdec2.png',\n",
    "                       show_shapes=True,expand_nested=True)"
   ]
  },
  {
   "cell_type": "code",
   "execution_count": 27,
   "metadata": {},
   "outputs": [
    {
     "name": "stdout",
     "output_type": "stream",
     "text": [
      "4/4 [==============================] - 0s 3ms/step - loss: 0.1935 - categorical_accuracy: 0.9227\n",
      "Accuracy: 92.27272868156433 %\n"
     ]
    }
   ],
   "source": [
    "batch_size = 20   # many patterns...\n",
    "epochs = 1500\n",
    "history = model.fit([X,preY], postY,\n",
    "          batch_size=batch_size,\n",
    "          epochs=epochs,\n",
    "          verbose=0,              # Turning off output due to many epochs...\n",
    "          validation_split = 0.2)\n",
    "# Remember, teacher forced, but a little informative...\n",
    "print('Accuracy:',model.evaluate([X,preY],postY)[1]*100.0,'%')"
   ]
  },
  {
   "cell_type": "code",
   "execution_count": 28,
   "metadata": {},
   "outputs": [
    {
     "data": {
      "image/png": "[encoded data removed]",
      "text/plain": [
       "<Figure size 432x288 with 2 Axes>"
      ]
     },
     "metadata": {
      "needs_background": "light"
     },
     "output_type": "display_data"
    }
   ],
   "source": [
    "plt.figure(1)\n",
    "# summarize history for accuracy  \n",
    "plt.subplot(211)  \n",
    "plt.plot(history.history['categorical_accuracy'])  \n",
    "plt.plot(history.history['val_categorical_accuracy'])  \n",
    "plt.title('model accuracy')  \n",
    "plt.ylabel('accuracy')  \n",
    "plt.xlabel('epoch')  \n",
    "plt.legend(['train', 'validation'], loc='upper left')  \n",
    "# summarize history for loss  \n",
    "plt.subplot(212)  \n",
    "plt.plot(history.history['loss'])  \n",
    "plt.plot(history.history['val_loss'])  \n",
    "plt.title('model loss')  \n",
    "plt.ylabel('loss')  \n",
    "plt.xlabel('epoch')  \n",
    "plt.legend(['train', 'validation'], loc='upper left')\n",
    "plt.tight_layout()\n",
    "plt.show()  "
   ]
  },
  {
   "cell_type": "code",
   "execution_count": 29,
   "metadata": {},
   "outputs": [],
   "source": [
    "## Testing - Again, separate the encoder-decoder for teacher forcing...\n",
    "\n",
    "# Part 1 - make the encoder\n",
    "\n",
    "# Make just a model out of the encoder\n",
    "# input = encoder_input (Input layer)\n",
    "# output = encoder_states (enc Hidden layer * 2)\n",
    "encoder_model = keras.Model(encoder_input, encoder_states)\n",
    "\n",
    "# Part 2 - make the decoder\n",
    "\n",
    "# Make just a model out of the decoder\n",
    "# input = encoder_states (enc Hidden layer * 2)\n",
    "# output = decoder_output\n",
    "decoder_state_input_h = keras.layers.Input(shape=(hidden_size,))\n",
    "decoder_state_input_c = keras.layers.Input(shape=(hidden_size,))\n",
    "# Connect hidden to input(s)\n",
    "decoder_states_input = [decoder_state_input_h, decoder_state_input_c]\n",
    "decoder_hidden_output, decoder_state_h, decoder_state_c = decoder_hidden(\n",
    "    decoder_input, initial_state=decoder_states_input)\n",
    "decoder_states = [decoder_state_h, decoder_state_c]\n",
    "# Connect output to hidden(s)\n",
    "decoder_output = decoder_dense(decoder_hidden_output)\n",
    "decoder_model = keras.Model(\n",
    "    [decoder_input] + decoder_states_input,\n",
    "    [decoder_output] + decoder_states)"
   ]
  },
  {
   "cell_type": "code",
   "execution_count": 30,
   "metadata": {},
   "outputs": [],
   "source": [
    "# Testing time...\n",
    "error = 0\n",
    "for p in range(n_seq):\n",
    "    # Get the gestalt context for the input sequence(s)\n",
    "    context = encoder_model.predict(X[p:p+1,:,:])\n",
    "\n",
    "    # Prep a starting token [[[0,0,1,0]]]..\n",
    "    token = np.zeros([1,1,Y.shape[2]])\n",
    "    token[0,0,2] = 1\n",
    "    token\n",
    "\n",
    "    # Complete 11 cycles with the decoder\n",
    "    result = np.zeros(postY.shape)\n",
    "    for x in range(output_length+1):\n",
    "        out,h,c = decoder_model.predict([token]+context)\n",
    "        token = np.round(out)\n",
    "        context = [h,c]\n",
    "        result[:,x,:] = token\n",
    "    error += np.sum(np.abs(result-postY[p:p+1,:,:]))/2.0"
   ]
  },
  {
   "cell_type": "code",
   "execution_count": 31,
   "metadata": {},
   "outputs": [
    {
     "name": "stdout",
     "output_type": "stream",
     "text": [
      "Overall accuracy: 85.950000%\n"
     ]
    }
   ],
   "source": [
    "print(\"Overall accuracy: %f%%\"%(100.0 - (error / (n_seq*output_length))))"
   ]
  },
  {
   "cell_type": "markdown",
   "metadata": {},
   "source": [
    "For the final accuracy calculation, we loop through all of the training patterns and count up all of the missed tokens. This can be expressed as the absolute difference between the predicted output sequence, and the one from the `postY` pattern set (divided by two). The accuracy therefore isn't really how many sequences were correctly classified, but how many tokens the network missed. At this point, then encoder-decoder has made it to about 90% accuracy on all tokens, so with a little more training (or tweaks to the architecture), we might get even further. For example, we could change the activation function from `tanh` (the default for LSTM) to `relu`, try adding more units to the hidden layers, or just stack some additional LSTM layers onto the encoder or decoder networks. "
   ]
  },
  {
   "cell_type": "markdown",
   "metadata": {},
   "source": [
    "## Learning to Write Like Jane Austen\n",
    "\n",
    "Jane Austen's *Pride and Prejudice* was the number one requested e-book on Project Gutenberg at the time of writing up this tutorial. As a result, let's see if we can train a recurrent network to write like a genius! We will be parsing the raw text line-by-line and then asking our network to learn, given one line, what the next line should be = literal genius?, literally genius? no, no: literary genius. :-)\n",
    "\n",
    "The basic text is split into lines already, and extra new lines are placed between paragraphs. We will end up parsing the entire text, but only learning on a small part of it for this example. I will ask you to emulate the process in the assignment below and learn a little more of the text...\n",
    "\n",
    "First, let's read in the text and do some preprocessing on it... (Note that the !head command just lets us preview the first few lines of the file, and isn't a piece of python code! It's cell right after that actually loads the data.)\n",
    "\n",
    "**Be careful not cut off this link below!!**\n",
    "\n",
    "`!wget https://www.cs.mtsu.edu/~jphillips/courses/CSCI4850-5850/public/PandP_Jane_Austen.txt`"
   ]
  },
  {
   "cell_type": "code",
   "execution_count": 32,
   "metadata": {},
   "outputs": [
    {
     "name": "stdout",
     "output_type": "stream",
     "text": [
      "--2021-04-07 13:42:14--  https://www.cs.mtsu.edu/~jphillips/courses/CSCI4850-5850/public/PandP_Jane_Austen.txt\n",
      "Resolving www.cs.mtsu.edu (www.cs.mtsu.edu)... 161.45.162.100\n",
      "Connecting to www.cs.mtsu.edu (www.cs.mtsu.edu)|161.45.162.100|:443... connected.\n",
      "HTTP request sent, awaiting response... 200 OK\n",
      "Length: 683838 (668K) [text/plain]\n",
      "Saving to: ‘PandP_Jane_Austen.txt.1’\n",
      "\n",
      "PandP_Jane_Austen.t 100%[===================>] 667.81K  --.-KB/s    in 0.06s   \n",
      "\n",
      "2021-04-07 13:42:15 (11.0 MB/s) - ‘PandP_Jane_Austen.txt.1’ saved [683838/683838]\n",
      "\n"
     ]
    }
   ],
   "source": [
    "!wget https://www.cs.mtsu.edu/~jphillips/courses/CSCI4850-5850/public/PandP_Jane_Austen.txt"
   ]
  },
  {
   "cell_type": "code",
   "execution_count": 33,
   "metadata": {},
   "outputs": [
    {
     "name": "stdout",
     "output_type": "stream",
     "text": [
      "It is a truth universally acknowledged, that a single man in possession\n",
      "of a good fortune, must be in want of a wife.\n",
      "\n",
      "However little known the feelings or views of such a man may be on his\n",
      "first entering a neighbourhood, this truth is so well fixed in the minds\n",
      "of the surrounding families, that he is considered the rightful property\n",
      "of some one or other of their daughters.\n",
      "\n",
      "\"My dear Mr. Bennet,\" said his lady to him one day, \"have you heard that\n",
      "Netherfield Park is let at last?\"\n"
     ]
    }
   ],
   "source": [
    "!head PandP_Jane_Austen.txt"
   ]
  },
  {
   "cell_type": "code",
   "execution_count": 34,
   "metadata": {},
   "outputs": [
    {
     "data": {
      "text/plain": [
       "['It is a truth universally acknowledged, that a single man in possession',\n",
       " 'of a good fortune, must be in want of a wife.',\n",
       " 'However little known the feelings or views of such a man may be on his',\n",
       " 'first entering a neighbourhood, this truth is so well fixed in the minds',\n",
       " 'of the surrounding families, that he is considered the rightful property',\n",
       " 'of some one or other of their daughters.',\n",
       " '\"My dear Mr. Bennet,\" said his lady to him one day, \"have you heard that',\n",
       " 'Netherfield Park is let at last?\"']"
      ]
     },
     "execution_count": 34,
     "metadata": {},
     "output_type": "execute_result"
    }
   ],
   "source": [
    "# Preprocessing - grab lines from the file\n",
    "with open('PandP_Jane_Austen.txt', 'r', encoding='utf-8') as f:\n",
    "    lines = f.read().split('\\n')\n",
    "# Paragraphs are separated by blank\n",
    "# lines -> just drop those lines...\n",
    "text = []\n",
    "for i in range(len(lines)):\n",
    "    if lines[i] != '':\n",
    "        text = text + [lines[i]]\n",
    "min_length = max([len(i) for i in text])\n",
    "\n",
    "# Visual Confirmation that we have loaded the text in...\n",
    "text[0:8]"
   ]
  },
  {
   "cell_type": "markdown",
   "metadata": {},
   "source": [
    "The reading process reads in the text, but then drops the blank lines between paragraphs. After that, we determine the length of the longest string in the text. I call it `min_length` because it's the minimum size of sequence that our network will read (and for other reasons below), so don't be confused by the name. We will only use it on special occasions anyway...\n",
    "\n",
    "We will also read in the list of unique characters used in this text. I've already pre-processed this information from the file above using a piece of C++ code that I had laying around, but it wouldn't be difficult to do the same using a `set` in Python. I'll leave that as an exercise for your own amusement at some other time."
   ]
  },
  {
   "cell_type": "markdown",
   "metadata": {},
   "source": [
    "Here's the list of unique characters, one-per-line...\n",
    "\n",
    "**Be careful not cut off this link below!!**\n",
    "\n",
    "`!wget https://www.cs.mtsu.edu/~jphillips/courses/CSCI4850-5850/public/unique_chars.txt`"
   ]
  },
  {
   "cell_type": "code",
   "execution_count": 35,
   "metadata": {},
   "outputs": [
    {
     "name": "stdout",
     "output_type": "stream",
     "text": [
      "--2021-04-07 13:42:39--  https://www.cs.mtsu.edu/~jphillips/courses/CSCI4850-5850/public/unique_chars.txt\n",
      "Resolving www.cs.mtsu.edu (www.cs.mtsu.edu)... 161.45.162.100\n",
      "Connecting to www.cs.mtsu.edu (www.cs.mtsu.edu)|161.45.162.100|:443... connected.\n",
      "HTTP request sent, awaiting response... 200 OK\n",
      "Length: 136 [text/plain]\n",
      "Saving to: ‘unique_chars.txt.1’\n",
      "\n",
      "unique_chars.txt.1  100%[===================>]     136  --.-KB/s    in 0s      \n",
      "\n",
      "2021-04-07 13:42:39 (15.8 MB/s) - ‘unique_chars.txt.1’ saved [136/136]\n",
      "\n"
     ]
    }
   ],
   "source": [
    "!wget https://www.cs.mtsu.edu/~jphillips/courses/CSCI4850-5850/public/unique_chars.txt"
   ]
  },
  {
   "cell_type": "code",
   "execution_count": 36,
   "metadata": {},
   "outputs": [
    {
     "name": "stdout",
     "output_type": "stream",
     "text": [
      "!\n",
      "\"\n",
      "'\n",
      "(\n",
      ")\n",
      "*\n",
      ",\n",
      "-\n",
      ".\n",
      "1\n"
     ]
    }
   ],
   "source": [
    "!head unique_chars.txt"
   ]
  },
  {
   "cell_type": "code",
   "execution_count": 52,
   "metadata": {},
   "outputs": [],
   "source": [
    "# Unique characters - precalculated\n",
    "with open('unique_chars.txt', 'r', encoding='utf-8') as f:\n",
    "    lines = f.read().split('\\n')\n",
    "lines = [line for line in lines if line != '']\n",
    "\n",
    "# Integer code to symbol\n",
    "itos = ['','',' ']\n",
    "for i in lines:\n",
    "    itos = itos + [i]\n",
    "# Symbol to integer code\n",
    "stoi = dict()\n",
    "stoi['STOP'] = 0\n",
    "stoi['START'] = 1\n",
    "for i in range(2,len(itos)):\n",
    "    stoi[itos[i]] = i"
   ]
  },
  {
   "cell_type": "markdown",
   "metadata": {},
   "source": [
    "Note that I have added a couple of *extra* tokens to the list ('START','STOP', and a space - wasn't counted as a character by my C++ implementation) and have created data structures for mapping from a character to an integer code (`stoi`) and from an integer code to a character (`itos`). We can use these structures later to map back and forth between human-readable and network-readable encodings.\n",
    "\n",
    "Let's see what size the text corpus is now..."
   ]
  },
  {
   "cell_type": "code",
   "execution_count": 53,
   "metadata": {},
   "outputs": [
    {
     "data": {
      "text/plain": [
       "10658"
      ]
     },
     "execution_count": 53,
     "metadata": {},
     "output_type": "execute_result"
    }
   ],
   "source": [
    "# Total number of sentences\n",
    "len(text)"
   ]
  },
  {
   "cell_type": "code",
   "execution_count": 54,
   "metadata": {},
   "outputs": [
    {
     "data": {
      "text/plain": [
       "76"
      ]
     },
     "execution_count": 54,
     "metadata": {},
     "output_type": "execute_result"
    }
   ],
   "source": [
    "# Longest sentence - plus start/stop\n",
    "max(len(i) for i in text)+2"
   ]
  },
  {
   "cell_type": "code",
   "execution_count": 55,
   "metadata": {},
   "outputs": [
    {
     "data": {
      "text/plain": [
       "71"
      ]
     },
     "execution_count": 55,
     "metadata": {},
     "output_type": "execute_result"
    }
   ],
   "source": [
    "# Number of tokens (each will be one-hot encoded)\n",
    "len(itos)"
   ]
  },
  {
   "cell_type": "markdown",
   "metadata": {},
   "source": [
    "OK, so we have 10,658 lines of text and the *longest* line we have in the text is 76 tokens (we add 2 for the start and stop tokens that we will add to these sentences). You can also see that there are 71 unique tokens identified for this text, which will be the input layer size for our network.\n",
    "\n",
    "Let's prepare functions which will map a sentence to a one-hot vector (encoding) and also reverse this process when needed (decoding)."
   ]
  },
  {
   "cell_type": "code",
   "execution_count": 56,
   "metadata": {},
   "outputs": [],
   "source": [
    "def encode_seq(x,mapping,min_length=0):\n",
    "    # String to one-hot\n",
    "    y = [mapping['START']]\n",
    "    for i in list(x):\n",
    "        y = y + [mapping[i]]\n",
    "    y = y + [mapping['STOP']]\n",
    "    # Stop-padding - handled elsewhere...\n",
    "    while len(y) < min_length:\n",
    "        y = y + [mapping['STOP']]\n",
    "    return keras.utils.to_categorical(y,len(mapping))\n",
    "\n",
    "def decode_seq(x,mapping):\n",
    "    # One-hot to string\n",
    "    y = []\n",
    "    for i in x:\n",
    "        y = y + [mapping[np.argmax(i)]]\n",
    "    return ''.join(y)"
   ]
  },
  {
   "cell_type": "code",
   "execution_count": 57,
   "metadata": {},
   "outputs": [
    {
     "data": {
      "text/plain": [
       "'It is a truth universally acknowledged, that a single man in possession'"
      ]
     },
     "execution_count": 57,
     "metadata": {},
     "output_type": "execute_result"
    }
   ],
   "source": [
    "# An encoding-decoding cycle on the first line...\n",
    "temp = encode_seq(text[0],stoi)\n",
    "temp = decode_seq(temp,itos)\n",
    "temp"
   ]
  },
  {
   "cell_type": "code",
   "execution_count": 58,
   "metadata": {},
   "outputs": [
    {
     "data": {
      "text/plain": [
       "'It is a truth universally acknowledged, that a single man in possession'"
      ]
     },
     "execution_count": 58,
     "metadata": {},
     "output_type": "execute_result"
    }
   ],
   "source": [
    "# What was the first line in its original form?\n",
    "text[0]"
   ]
  },
  {
   "cell_type": "markdown",
   "metadata": {},
   "source": [
    "I will leave it to you to see what the encoded form likes like if you are curious, but we can clearly both encode and decode these vectors properly.\n",
    "\n",
    "Now, we process all of the data in the text corpus with this information...\n",
    "\n",
    "You will notice one strange thing here. I will first create a matrix specifying an equal probability of observing any token (1/71). This is because softmax can't produce an output vector of all zeros and some of the encoded strings are not 76 elements long. So, the remaining time steps must be completed with something that the softmax function can potentially match. Softmax will *never* be able to match a *flat* (all-zero) distribution, and I don't want to skew our final results by asking the network to interpret and adjust to values which are literally *impossible* for the network to utilize. This is because we will use the final output from the network as input again to predict the next sentence later on. Therefore, the input and output encodings should be consistent to match this expectation..."
   ]
  },
  {
   "cell_type": "code",
   "execution_count": 59,
   "metadata": {},
   "outputs": [],
   "source": [
    "# Encode that data\n",
    "dataX = np.ones([len(text),max([len(i) for i in text])+2,\n",
    "                 len(itos)])*(1.0/len(itos))\n",
    "for i in range(len(text)):\n",
    "    temp = encode_seq(text[i],stoi)\n",
    "    dataX[i,0:len(temp),:] = temp\n",
    "# Not strictly necessary, but I was trying some alternative strategies\n",
    "# earlier and this is worth keeping around...\n",
    "# This will be the same as dataX using this implementation...\n",
    "dataY = np.ones([len(text),max([len(i) for i in text])+2,\n",
    "                 len(itos)])*(1.0/len(itos))\n",
    "for i in range(len(text)):\n",
    "    temp = encode_seq(text[i],stoi)\n",
    "    dataY[i,0:len(temp),:] = temp"
   ]
  },
  {
   "cell_type": "markdown",
   "metadata": {},
   "source": [
    "Now we split this into input (`X`) and pre- and post-step decoder inputs (`preY` and `postY`)..."
   ]
  },
  {
   "cell_type": "code",
   "execution_count": 60,
   "metadata": {},
   "outputs": [],
   "source": [
    "X = dataX[0:dataX.shape[0]-1,:,:]\n",
    "Y = dataY[1:dataY.shape[0],:,:]\n",
    "preY = Y[:,0:Y.shape[1]-1,:]\n",
    "postY = Y[:,1:Y.shape[1],:]"
   ]
  },
  {
   "cell_type": "markdown",
   "metadata": {},
   "source": [
    "Let's decide on how much P&P we really want to learn about. For this example I will just show you how work with 5 sentences, but more could be used..."
   ]
  },
  {
   "cell_type": "code",
   "execution_count": 61,
   "metadata": {},
   "outputs": [
    {
     "name": "stdout",
     "output_type": "stream",
     "text": [
      "(5, 76, 71)\n",
      "(5, 76, 71)\n",
      "(5, 75, 71)\n",
      "(5, 75, 71)\n"
     ]
    }
   ],
   "source": [
    "nlines = 5\n",
    "\n",
    "X = X[0:nlines,:,:]\n",
    "Y = Y[0:nlines,:,:]\n",
    "preY = preY[0:nlines,:,:]\n",
    "postY = postY[0:nlines,:,:]\n",
    "\n",
    "print(X.shape)\n",
    "print(Y.shape)\n",
    "print(preY.shape)\n",
    "print(postY.shape)"
   ]
  },
  {
   "cell_type": "markdown",
   "metadata": {},
   "source": [
    "We will not be using the entire text here. In essence, we are asking it to memorize what comes next in sequence from start to finish, and the first 5 sentence pairs will be used as a benchmark to see if anything useful is learned from this training regime. We will see if it can encode and recall these sentences after training, both *with* and *without* teacher forcing.\n",
    "\n",
    "It's now time to define the network needed to solve this problem... this will be part of the assignment as outlined below, so use the example above on learning the parity problem to construct a network appropriate for the \"Jane Austen\" problem. Remember, a large hidden layer may be needed to encode *many* sentence structures, but I just used 3\\*76 for the examples below. You may need a larger network when encoding longer parts of the text. I've kept the `summary()` output for my model below to provide some additional hints. "
   ]
  },
  {
   "cell_type": "code",
   "execution_count": 63,
   "metadata": {},
   "outputs": [],
   "source": [
    "# Your model here!"
   ]
  },
  {
   "cell_type": "code",
   "execution_count": 19,
   "metadata": {},
   "outputs": [
    {
     "name": "stdout",
     "output_type": "stream",
     "text": [
      "Model: \"model\"\n",
      "__________________________________________________________________________________________________\n",
      "Layer (type)                    Output Shape         Param #     Connected to                     \n",
      "==================================================================================================\n",
      "input_1 (InputLayer)            [(None, None, 71)]   0                                            \n",
      "__________________________________________________________________________________________________\n",
      "input_2 (InputLayer)            [(None, None, 71)]   0                                            \n",
      "__________________________________________________________________________________________________\n",
      "lstm (LSTM)                     [(None, 500), (None, 1144000     input_1[0][0]                    \n",
      "__________________________________________________________________________________________________\n",
      "lstm_1 (LSTM)                   [(None, None, 500),  1144000     input_2[0][0]                    \n",
      "                                                                 lstm[0][1]                       \n",
      "                                                                 lstm[0][2]                       \n",
      "__________________________________________________________________________________________________\n",
      "dense (Dense)                   (None, None, 71)     35571       lstm_1[0][0]                     \n",
      "==================================================================================================\n",
      "Total params: 2,323,571\n",
      "Trainable params: 2,323,571\n",
      "Non-trainable params: 0\n",
      "__________________________________________________________________________________________________\n"
     ]
    }
   ],
   "source": [
    "model.summary()"
   ]
  },
  {
   "cell_type": "markdown",
   "metadata": {},
   "source": [
    "Training consists of running through the sequence set many times. We will train a *reasonable* amount here for this problem. If you wanted to increase the number of epochs or use a batch size to encourage faster convergence when you train, that may be helpful..."
   ]
  },
  {
   "cell_type": "code",
   "execution_count": 67,
   "metadata": {},
   "outputs": [
    {
     "name": "stdout",
     "output_type": "stream",
     "text": [
      "1/1 [==============================] - 0s 416ms/step - loss: 0.8395 - categorical_accuracy: 0.9067\n",
      "Accuracy: 90.66666960716248 %\n"
     ]
    }
   ],
   "source": [
    "batch_size = nlines   # number of patterns...\n",
    "epochs = 300\n",
    "history = model.fit([X,preY], postY,\n",
    "          batch_size=batch_size,\n",
    "          epochs=epochs,\n",
    "          verbose=0)\n",
    "print('Accuracy:',model.evaluate([X,preY],postY)[1]*100.0,'%')"
   ]
  },
  {
   "cell_type": "markdown",
   "metadata": {},
   "source": [
    "Remember that accuracy is an ill-posed metric for this problem because some of the time steps will go beyond the number of characters in the sentence being produced. Softmax will try to find a way to match an identical and independent distribution of characters on these padded regions. However, the accuracy metric will first find the highest value and make a binary decision (correct/incorrect), which isn't really the best way to treat those padded regions. Therefore, 100% accuracy is not really a possibility for this problem as it is defined. If we didn't want to feed the output sentence back in later, we could change the padded regions to all stop tokens and see a better representation of learning. However, we most deinitely *do* want to see how the network is at writing the text of P&P. With enough sequences, it might just start to make sense..."
   ]
  },
  {
   "cell_type": "code",
   "execution_count": 68,
   "metadata": {},
   "outputs": [
    {
     "data": {
      "image/png": "[encoded data removed]",
      "text/plain": [
       "<Figure size 432x288 with 2 Axes>"
      ]
     },
     "metadata": {
      "needs_background": "light"
     },
     "output_type": "display_data"
    }
   ],
   "source": [
    "plt.figure(1)  \n",
    "# summarize history for accuracy \n",
    "plt.subplot(211)  \n",
    "plt.plot(history.history['categorical_accuracy'])  \n",
    "plt.title('model accuracy')  \n",
    "plt.ylabel('accuracy')  \n",
    "plt.xlabel('epoch')  \n",
    "# summarize history for loss  \n",
    "plt.subplot(212)  \n",
    "plt.plot(history.history['loss'])  \n",
    "plt.title('model loss')  \n",
    "plt.ylabel('loss')  \n",
    "plt.xlabel('epoch')  \n",
    "plt.tight_layout()\n",
    "plt.show()"
   ]
  },
  {
   "cell_type": "markdown",
   "metadata": {},
   "source": [
    "The crafting of the `encoder_model` and `decoder_model` will need to be done as part of the assignment below, but should *very* closely follow the pattern set by the parity example above. We will again use this restructured model to manually provide sentence data to our encoder, then provide the encoder hidden layer representation as input to the decoder, and finally see how well the decoder does at generating the intended *next* sentence from the text. Let's see how it goes!"
   ]
  },
  {
   "cell_type": "code",
   "execution_count": 69,
   "metadata": {},
   "outputs": [],
   "source": [
    "# Your encoder_model and decoder_model here!"
   ]
  },
  {
   "cell_type": "markdown",
   "metadata": {},
   "source": [
    "Let's examine the process of passing just the first sentence into the net..."
   ]
  },
  {
   "cell_type": "code",
   "execution_count": 71,
   "metadata": {},
   "outputs": [
    {
     "data": {
      "text/plain": [
       "array([[[0., 1., 0., 0., 0., 0., 0., 0., 0., 0., 0., 0., 0., 0., 0., 0.,\n",
       "         0., 0., 0., 0., 0., 0., 0., 0., 0., 0., 0., 0., 0., 0., 0., 0.,\n",
       "         0., 0., 0., 0., 0., 0., 0., 0., 0., 0., 0., 0., 0., 0., 0., 0.,\n",
       "         0., 0., 0., 0., 0., 0., 0., 0., 0., 0., 0., 0., 0., 0., 0., 0.,\n",
       "         0., 0., 0., 0., 0., 0., 0.]]], dtype=float32)"
      ]
     },
     "execution_count": 71,
     "metadata": {},
     "output_type": "execute_result"
    }
   ],
   "source": [
    "# Get the gestalt context for the input sequence(s)\n",
    "i = 0\n",
    "context = encoder_model.predict(X[i:i+1,:,:])\n",
    "\n",
    "# Prep a starting token...\n",
    "token = encode_seq('',stoi)[0].reshape(1,1,len(stoi))\n",
    "token"
   ]
  },
  {
   "cell_type": "code",
   "execution_count": 72,
   "metadata": {},
   "outputs": [
    {
     "name": "stdout",
     "output_type": "stream",
     "text": [
      "Input: It is a truth universally acknowledged, that a single man in possession\n",
      "Output: of a good fortune, must be in want of a wife.\n"
     ]
    }
   ],
   "source": [
    "# What should we see?\n",
    "print('Input:', text[i])\n",
    "print('Output:', text[i+1])"
   ]
  },
  {
   "cell_type": "code",
   "execution_count": 73,
   "metadata": {},
   "outputs": [
    {
     "data": {
      "text/plain": [
       "'of good fortune, must be in want of a wife.'"
      ]
     },
     "execution_count": 73,
     "metadata": {},
     "output_type": "execute_result"
    }
   ],
   "source": [
    "# Complete max cycles with the decoder\n",
    "result = np.zeros([1,postY.shape[1],postY.shape[2]])\n",
    "for x in range(postY.shape[1]):\n",
    "    out,h,c = decoder_model.predict([token]+context)\n",
    "    token = np.round(out)\n",
    "    context = [h,c]\n",
    "    result[:,x,:] = token\n",
    "decode_seq(result[0,:,:],itos)"
   ]
  },
  {
   "cell_type": "markdown",
   "metadata": {},
   "source": [
    "It's starting to be able to generate the required sentence! We could make changes to the network architecture, hyperparameters, or other changes before training in order to better match the expected output. You will note that the output is not being *teacher-forced* on the level of individual characters. That is, we are feeding in the predicted output token back in to the `predict()` function on the next iteration. Therefore, there is no teacher forcing being used on this example. However, it's just a single sentence. Let's see how it does on all 5 sentences...."
   ]
  },
  {
   "cell_type": "code",
   "execution_count": 74,
   "metadata": {},
   "outputs": [
    {
     "name": "stdout",
     "output_type": "stream",
     "text": [
      "Txt: of a good fortune, must be in want of a wife.\n",
      "Net: of good fortune, must be in want of a wife.\n",
      "Txt: However little known the feelings or views of such a man may be on his\n",
      "Net: of e one or other of their daughters.\n",
      "Txt: first entering a neighbourhood, this truth is so well fixed in the minds\n",
      "Net: of good fortune, must be in want of a wife.\n",
      "Txt: of the surrounding families, that he is considered the rightful property\n",
      "Net: of good fortune, must be in want of a wife.\n",
      "Txt: of some one or other of their daughters.\n",
      "Net: of some one or other of their daughters.\n"
     ]
    }
   ],
   "source": [
    "# Iterate - teacher forcing through each line\n",
    "for i in range(0,nlines):\n",
    "    # Get the gestalt context for the input sequence(s)\n",
    "    context = encoder_model.predict(X[i:i+1,:,:])\n",
    "\n",
    "    # Prep a starting token...\n",
    "    token = encode_seq('',stoi)[0].reshape(1,1,len(stoi))\n",
    "\n",
    "    result = np.zeros([1,postY.shape[1],postY.shape[2]])\n",
    "    for x in range(postY.shape[1]):\n",
    "        out,h,c = decoder_model.predict([token]+context)\n",
    "        token = np.round(out)\n",
    "        context = [h,c]\n",
    "        result[:,x,:] = token\n",
    "    print('Txt:',text[i+1])\n",
    "    print('Net:',decode_seq(result[0,:,:],itos))"
   ]
  },
  {
   "cell_type": "markdown",
   "metadata": {},
   "source": [
    "This is just the same code above run over the set of sentences that we used to train the network. Also, we are resetting the encoder with the *correct* input sequence on each step. So, although there is no teacher forcing being used at the level of individual characters, there is still teacher forcing being used at the level of sentences. This is pretty good performance, so you can expect it to do a little worse when this teacher forcing is turned off as well..."
   ]
  },
  {
   "cell_type": "code",
   "execution_count": 75,
   "metadata": {},
   "outputs": [
    {
     "name": "stdout",
     "output_type": "stream",
     "text": [
      "Txt: of a good fortune, must be in want of a wife.\n",
      "Net: of good fortune, must be in want of a wife.\n",
      "Txt: However little known the feelings or views of such a man may be on his\n",
      "Net: of od fortune, must be in want of a wife.\n",
      "Txt: first entering a neighbourhood, this truth is so well fixed in the minds\n",
      "Net: of od fortune, must be in want of a wife.\n",
      "Txt: of the surrounding families, that he is considered the rightful property\n",
      "Net: of od fortune, must be in want of a wife.\n",
      "Txt: of some one or other of their daughters.\n",
      "Net: of od fortune, must be in want of a wife.\n"
     ]
    }
   ],
   "source": [
    "# Iterate - but no teaching forcing past first line...\n",
    "# Get the gestalt context for the input sequence\n",
    "i = 0\n",
    "context = encoder_model.predict(X[i:i+1,:,:])\n",
    "\n",
    "for i in range(0,nlines):\n",
    "    # Prep a starting token...\n",
    "    token = encode_seq('',stoi)[0].reshape(1,1,len(stoi))\n",
    "\n",
    "    result = np.zeros([1,postY.shape[1],postY.shape[2]])\n",
    "    for x in range(postY.shape[1]):\n",
    "        out,h,c = decoder_model.predict([token]+context)\n",
    "        token = np.round(out)\n",
    "        context = [h,c]\n",
    "        result[:,x,:] = token\n",
    "    print('Txt:',text[i+1])\n",
    "    print('Net:',decode_seq(result[0,:,:],itos))\n",
    "    # CRUCIAL -> keep predicted result instead of teacher forcing!\n",
    "    context = encoder_model.predict(result)"
   ]
  },
  {
   "cell_type": "markdown",
   "metadata": {},
   "source": [
    "Now we have turned off *all* teacher forcing, and you can see that the network is struggling to utilize its own noisy predictions to generate the next sentence. Nevertheless, it appears to recover later in the text and gets back on track. This is kind of interesting because when people are presented with memorization tasks, it has been shown that people are more likely to remember the details of passages at the beginning and end. That is, sections in the middle are more likely to be forgotten. It looks like this network is suffering from a similar type of problem as human learners..."
   ]
  }
 ],
 "metadata": {
  "kernelspec": {
   "display_name": "Python 3",
   "language": "python",
   "name": "python3"
  },
  "language_info": {
   "codemirror_mode": {
    "name": "ipython",
    "version": 3
   },
   "file_extension": ".py",
   "mimetype": "text/x-python",
   "name": "python",
   "nbconvert_exporter": "python",
   "pygments_lexer": "ipython3",
   "version": "3.8.6"
  }
 },
 "nbformat": 4,
 "nbformat_minor": 4
}
