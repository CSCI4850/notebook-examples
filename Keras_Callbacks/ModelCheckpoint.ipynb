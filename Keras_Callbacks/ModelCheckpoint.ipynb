{
 "cells": [
  {
   "cell_type": "markdown",
   "metadata": {},
   "source": [
    "## Model Checkpoint to Save Weights\n",
    "You've now trained a neural network or two, but how can we actually make use of the \"magic\" of the model?  If the problem we're trying to solve is classifying a breast cancer tumor as benign or malignant, what do we do after we get the pretty >$98\\%$ accuracy?  The answer is to save the weights and model into a separate file to access later!\n",
    "\n",
    "**NOTE** In order to save weights, you must have the Python package h5py installed"
   ]
  },
  {
   "cell_type": "code",
   "execution_count": 1,
   "metadata": {},
   "outputs": [
    {
     "name": "stderr",
     "output_type": "stream",
     "text": [
      "Using TensorFlow backend.\n"
     ]
    }
   ],
   "source": [
    "import pandas as pd\n",
    "import numpy as np\n",
    "import os\n",
    "from datetime import datetime\n",
    "from sklearn.utils import shuffle\n",
    "\n",
    "from keras.models import Sequential, load_model\n",
    "from keras.layers import Dense, Dropout\n",
    "from keras.optimizers import Adam\n",
    "from keras.utils import to_categorical\n",
    "from keras.callbacks import ModelCheckpoint\n",
    "\n",
    "from keras_tqdm import TQDMNotebookCallback"
   ]
  },
  {
   "cell_type": "code",
   "execution_count": 2,
   "metadata": {
    "collapsed": true
   },
   "outputs": [],
   "source": [
    "# Load up data\n",
    "data = np.array(pd.read_table(\n",
    "    \"https://www.cs.mtsu.edu/~jphillips/courses/CSCI4850-5850/public/WDBC.txt\",\n",
    "    delim_whitespace=True,\n",
    "    header=None))\n",
    "\n",
    "# Separate data into features and labels\n",
    "nb_features = 30\n",
    "X = data[:, :nb_features]\n",
    "Y = data[:, nb_features]\n",
    "X, Y = shuffle(X,Y)"
   ]
  },
  {
   "cell_type": "markdown",
   "metadata": {},
   "source": [
    "Note that for the purposes of this example, we will skip splitting the data into training and testing sets."
   ]
  },
  {
   "cell_type": "code",
   "execution_count": 3,
   "metadata": {},
   "outputs": [
    {
     "name": "stdout",
     "output_type": "stream",
     "text": [
      "_________________________________________________________________\n",
      "Layer (type)                 Output Shape              Param #   \n",
      "=================================================================\n",
      "dense_1 (Dense)              (None, 128)               3968      \n",
      "_________________________________________________________________\n",
      "dense_2 (Dense)              (None, 128)               16512     \n",
      "_________________________________________________________________\n",
      "dense_3 (Dense)              (None, 1)                 129       \n",
      "=================================================================\n",
      "Total params: 20,609\n",
      "Trainable params: 20,609\n",
      "Non-trainable params: 0\n",
      "_________________________________________________________________\n"
     ]
    }
   ],
   "source": [
    "# create a simple neural network\n",
    "model = Sequential()\n",
    "model.add(Dense(128, input_shape=(X.shape[1],), activation='relu'))\n",
    "model.add(Dense(128, activation='relu'))\n",
    "model.add(Dense(1, activation='sigmoid'))\n",
    "model.compile(loss='binary_crossentropy', \n",
    "            optimizer=Adam(lr=1e-2), \n",
    "            metrics=['acc'])\n",
    "model.summary()"
   ]
  },
  {
   "cell_type": "markdown",
   "metadata": {},
   "source": [
    "Up until now, everything has been the same as we have done.  The only change to make is to add a callback, and then pass the callback to the fit() function."
   ]
  },
  {
   "cell_type": "code",
   "execution_count": 4,
   "metadata": {},
   "outputs": [],
   "source": [
    "# create a directory to hold the weights\n",
    "weight_dir = \"weights\"\n",
    "if not os.path.exists(weight_dir):\n",
    "    os.makedirs(weight_dir)\n",
    "\n",
    "# the filename will be populated at the end of each epoch, when the callback is called\n",
    "# values enclosed in curly braces will be substitued by Keras\n",
    "weight_filename = \"wdbc-weights_epoch-{epoch:04d}_acc-{acc:.2f}.hdf5\"\n",
    "weight_filepath = os.path.join(weight_dir, weight_filename)\n",
    "\n",
    "checkpoint = ModelCheckpoint(weight_filepath, \n",
    "                         monitor='acc', \n",
    "                         verbose=0,)\n",
    "\n",
    "# the argument passed into the fit() function must be a list\n",
    "# if using multiple callbacks, you can use the .append() function or initialize them inline\n",
    "callbacks_list = [checkpoint,TQDMNotebookCallback()]"
   ]
  },
  {
   "cell_type": "markdown",
   "metadata": {},
   "source": [
    "There are many more arguments which can be passed to ModelCheckpoint(), and you can see them here: https://keras.io/callbacks/#modelcheckpoint\n",
    "\n",
    "The key parameters in practice are the name of the file itself, and whether or not to save only the weights or the weights alongside the model architecture.  This allows you to keep track of all the models you make and access them easily."
   ]
  },
  {
   "cell_type": "code",
   "execution_count": 5,
   "metadata": {},
   "outputs": [
    {
     "data": {
      "application/vnd.jupyter.widget-view+json": {
       "model_id": "cea1f004362f411fb3b1c03de347f211",
       "version_major": 2,
       "version_minor": 0
      },
      "text/plain": [
       "A Jupyter Widget"
      ]
     },
     "metadata": {},
     "output_type": "display_data"
    },
    {
     "data": {
      "application/vnd.jupyter.widget-view+json": {
       "model_id": "73d8ddb3bf3e4570a6ae5deebd88e062",
       "version_major": 2,
       "version_minor": 0
      },
      "text/plain": [
       "A Jupyter Widget"
      ]
     },
     "metadata": {},
     "output_type": "display_data"
    },
    {
     "name": "stdout",
     "output_type": "stream",
     "text": [
      "\n"
     ]
    }
   ],
   "source": [
    "history_xor = model.fit(X, Y,\n",
    "                       batch_size=64,\n",
    "                       epochs=50,\n",
    "                       verbose=0,\n",
    "                       callbacks=callbacks_list)"
   ]
  },
  {
   "cell_type": "markdown",
   "metadata": {},
   "source": [
    "Now we can check and see what's inside our weights folder!"
   ]
  },
  {
   "cell_type": "code",
   "execution_count": 6,
   "metadata": {},
   "outputs": [
    {
     "data": {
      "text/plain": [
       "['wdbc-weights_epoch-0001_acc-0.73.hdf5',\n",
       " 'wdbc-weights_epoch-0002_acc-0.91.hdf5',\n",
       " 'wdbc-weights_epoch-0003_acc-0.91.hdf5',\n",
       " 'wdbc-weights_epoch-0004_acc-0.93.hdf5',\n",
       " 'wdbc-weights_epoch-0005_acc-0.94.hdf5',\n",
       " 'wdbc-weights_epoch-0006_acc-0.95.hdf5',\n",
       " 'wdbc-weights_epoch-0007_acc-0.94.hdf5',\n",
       " 'wdbc-weights_epoch-0008_acc-0.96.hdf5',\n",
       " 'wdbc-weights_epoch-0009_acc-0.97.hdf5',\n",
       " 'wdbc-weights_epoch-0010_acc-0.97.hdf5',\n",
       " 'wdbc-weights_epoch-0011_acc-0.97.hdf5',\n",
       " 'wdbc-weights_epoch-0012_acc-0.98.hdf5',\n",
       " 'wdbc-weights_epoch-0013_acc-0.96.hdf5',\n",
       " 'wdbc-weights_epoch-0014_acc-0.98.hdf5',\n",
       " 'wdbc-weights_epoch-0015_acc-0.98.hdf5',\n",
       " 'wdbc-weights_epoch-0016_acc-0.98.hdf5',\n",
       " 'wdbc-weights_epoch-0017_acc-0.98.hdf5',\n",
       " 'wdbc-weights_epoch-0018_acc-0.97.hdf5',\n",
       " 'wdbc-weights_epoch-0019_acc-0.98.hdf5',\n",
       " 'wdbc-weights_epoch-0020_acc-0.95.hdf5',\n",
       " 'wdbc-weights_epoch-0021_acc-0.95.hdf5',\n",
       " 'wdbc-weights_epoch-0022_acc-0.96.hdf5',\n",
       " 'wdbc-weights_epoch-0023_acc-0.94.hdf5',\n",
       " 'wdbc-weights_epoch-0024_acc-0.94.hdf5',\n",
       " 'wdbc-weights_epoch-0025_acc-0.95.hdf5',\n",
       " 'wdbc-weights_epoch-0026_acc-0.97.hdf5',\n",
       " 'wdbc-weights_epoch-0027_acc-0.98.hdf5',\n",
       " 'wdbc-weights_epoch-0028_acc-0.98.hdf5',\n",
       " 'wdbc-weights_epoch-0029_acc-0.97.hdf5',\n",
       " 'wdbc-weights_epoch-0030_acc-0.98.hdf5',\n",
       " 'wdbc-weights_epoch-0031_acc-0.98.hdf5',\n",
       " 'wdbc-weights_epoch-0032_acc-0.98.hdf5',\n",
       " 'wdbc-weights_epoch-0033_acc-0.97.hdf5',\n",
       " 'wdbc-weights_epoch-0034_acc-0.98.hdf5',\n",
       " 'wdbc-weights_epoch-0035_acc-0.97.hdf5',\n",
       " 'wdbc-weights_epoch-0036_acc-0.98.hdf5',\n",
       " 'wdbc-weights_epoch-0037_acc-0.98.hdf5',\n",
       " 'wdbc-weights_epoch-0038_acc-0.98.hdf5',\n",
       " 'wdbc-weights_epoch-0039_acc-0.97.hdf5',\n",
       " 'wdbc-weights_epoch-0040_acc-0.99.hdf5',\n",
       " 'wdbc-weights_epoch-0041_acc-0.99.hdf5',\n",
       " 'wdbc-weights_epoch-0042_acc-0.98.hdf5',\n",
       " 'wdbc-weights_epoch-0043_acc-0.98.hdf5',\n",
       " 'wdbc-weights_epoch-0044_acc-0.99.hdf5',\n",
       " 'wdbc-weights_epoch-0045_acc-0.99.hdf5',\n",
       " 'wdbc-weights_epoch-0046_acc-0.99.hdf5',\n",
       " 'wdbc-weights_epoch-0047_acc-0.97.hdf5',\n",
       " 'wdbc-weights_epoch-0048_acc-0.97.hdf5',\n",
       " 'wdbc-weights_epoch-0049_acc-0.97.hdf5',\n",
       " 'wdbc-weights_epoch-0050_acc-0.98.hdf5']"
      ]
     },
     "execution_count": 6,
     "metadata": {},
     "output_type": "execute_result"
    }
   ],
   "source": [
    "weight_files = os.listdir(weight_dir)\n",
    "weight_files.sort()\n",
    "weight_files"
   ]
  },
  {
   "cell_type": "markdown",
   "metadata": {},
   "source": [
    "We now have access to all of our weights! We can load a model up and test it like so:"
   ]
  },
  {
   "cell_type": "code",
   "execution_count": 7,
   "metadata": {},
   "outputs": [
    {
     "data": {
      "text/plain": [
       "'weights'"
      ]
     },
     "execution_count": 7,
     "metadata": {},
     "output_type": "execute_result"
    }
   ],
   "source": [
    "weight_dir"
   ]
  },
  {
   "cell_type": "code",
   "execution_count": 8,
   "metadata": {},
   "outputs": [
    {
     "name": "stdout",
     "output_type": "stream",
     "text": [
      "_________________________________________________________________\n",
      "Layer (type)                 Output Shape              Param #   \n",
      "=================================================================\n",
      "dense_1 (Dense)              (None, 128)               3968      \n",
      "_________________________________________________________________\n",
      "dense_2 (Dense)              (None, 128)               16512     \n",
      "_________________________________________________________________\n",
      "dense_3 (Dense)              (None, 1)                 129       \n",
      "=================================================================\n",
      "Total params: 20,609\n",
      "Trainable params: 20,609\n",
      "Non-trainable params: 0\n",
      "_________________________________________________________________\n"
     ]
    }
   ],
   "source": [
    "# load the most recent file (last element in the sorted list)\n",
    "weight_file_to_load = os.path.join(weight_dir, weight_files[-1])\n",
    "model_2 = load_model(weight_file_to_load)\n",
    "model_2.summary()"
   ]
  },
  {
   "cell_type": "code",
   "execution_count": 9,
   "metadata": {},
   "outputs": [
    {
     "name": "stdout",
     "output_type": "stream",
     "text": [
      "568/568 [==============================] - 0s 196us/step\n",
      "Loaded model's evaluation: 97.89\n"
     ]
    }
   ],
   "source": [
    "print(\"Loaded model's evaluation: {:.2f}\".format(100 * model_2.evaluate(X,Y)[1]))"
   ]
  },
  {
   "cell_type": "markdown",
   "metadata": {},
   "source": [
    "These model files can be loaded up by any script running Keras to start making use of your classifications right away."
   ]
  }
 ],
 "metadata": {
  "kernelspec": {
   "display_name": "Python 3",
   "language": "python",
   "name": "python3"
  },
  "language_info": {
   "codemirror_mode": {
    "name": "ipython",
    "version": 3
   },
   "file_extension": ".py",
   "mimetype": "text/x-python",
   "name": "python",
   "nbconvert_exporter": "python",
   "pygments_lexer": "ipython3",
   "version": "3.6.3"
  }
 },
 "nbformat": 4,
 "nbformat_minor": 2
}
